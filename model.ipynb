{
 "cells": [
  {
   "cell_type": "markdown",
   "metadata": {},
   "source": [
    "# 1. Import and Install Dependencies"
   ]
  },
  {
   "cell_type": "markdown",
   "metadata": {},
   "source": [
    "## 1.1 Install Dependencies"
   ]
  },
  {
   "cell_type": "code",
   "execution_count": 3,
   "metadata": {
    "jupyter": {
     "source_hidden": true
    },
    "tags": []
   },
   "outputs": [
    {
     "name": "stdout",
     "output_type": "stream",
     "text": [
      "Defaulting to user installation because normal site-packages is not writeable\n",
      "Requirement already satisfied: tensorflow==2.6.2 in /usr/local/lib/python3.6/dist-packages (2.6.2)\n",
      "Requirement already satisfied: tensorflow-gpu==2.6.2 in /home/jrodriguez/.local/lib/python3.6/site-packages (2.6.2)\n",
      "Requirement already satisfied: tensorflow_io==0.21.0 in /home/jrodriguez/.local/lib/python3.6/site-packages (0.21.0)\n",
      "Requirement already satisfied: matplotlib in /usr/local/lib/python3.6/dist-packages (3.3.4)\n",
      "Requirement already satisfied: google-pasta~=0.2 in /usr/local/lib/python3.6/dist-packages (from tensorflow==2.6.2) (0.2.0)\n",
      "Requirement already satisfied: grpcio<2.0,>=1.37.0 in /usr/local/lib/python3.6/dist-packages (from tensorflow==2.6.2) (1.43.0)\n",
      "Requirement already satisfied: h5py~=3.1.0 in /usr/local/lib/python3.6/dist-packages (from tensorflow==2.6.2) (3.1.0)\n",
      "Requirement already satisfied: numpy~=1.19.2 in /usr/local/lib/python3.6/dist-packages (from tensorflow==2.6.2) (1.19.5)\n",
      "Requirement already satisfied: gast==0.4.0 in /usr/local/lib/python3.6/dist-packages (from tensorflow==2.6.2) (0.4.0)\n",
      "Requirement already satisfied: tensorflow-estimator<2.7,>=2.6.0 in /usr/local/lib/python3.6/dist-packages (from tensorflow==2.6.2) (2.6.0)\n",
      "Requirement already satisfied: flatbuffers~=1.12.0 in /usr/local/lib/python3.6/dist-packages (from tensorflow==2.6.2) (1.12)\n",
      "Requirement already satisfied: keras-preprocessing~=1.1.2 in /usr/local/lib/python3.6/dist-packages (from tensorflow==2.6.2) (1.1.2)\n",
      "Requirement already satisfied: clang~=5.0 in /usr/local/lib/python3.6/dist-packages (from tensorflow==2.6.2) (5.0)\n",
      "Requirement already satisfied: termcolor~=1.1.0 in /usr/local/lib/python3.6/dist-packages (from tensorflow==2.6.2) (1.1.0)\n",
      "Requirement already satisfied: astunparse~=1.6.3 in /usr/local/lib/python3.6/dist-packages (from tensorflow==2.6.2) (1.6.3)\n",
      "Requirement already satisfied: wrapt~=1.12.1 in /usr/local/lib/python3.6/dist-packages (from tensorflow==2.6.2) (1.12.1)\n",
      "Requirement already satisfied: tensorboard<2.7,>=2.6.0 in /usr/local/lib/python3.6/dist-packages (from tensorflow==2.6.2) (2.6.0)\n",
      "Requirement already satisfied: wheel~=0.35 in /usr/local/lib/python3.6/dist-packages (from tensorflow==2.6.2) (0.37.1)\n",
      "Requirement already satisfied: six~=1.15.0 in /usr/local/lib/python3.6/dist-packages (from tensorflow==2.6.2) (1.15.0)\n",
      "Requirement already satisfied: typing-extensions~=3.7.4 in /usr/local/lib/python3.6/dist-packages (from tensorflow==2.6.2) (3.7.4.3)\n",
      "Requirement already satisfied: protobuf>=3.9.2 in /usr/local/lib/python3.6/dist-packages (from tensorflow==2.6.2) (3.19.4)\n",
      "Requirement already satisfied: keras<2.7,>=2.6.0 in /usr/local/lib/python3.6/dist-packages (from tensorflow==2.6.2) (2.6.0)\n",
      "Requirement already satisfied: opt-einsum~=3.3.0 in /usr/local/lib/python3.6/dist-packages (from tensorflow==2.6.2) (3.3.0)\n",
      "Requirement already satisfied: absl-py~=0.10 in /usr/local/lib/python3.6/dist-packages (from tensorflow==2.6.2) (0.15.0)\n",
      "Requirement already satisfied: tensorflow-io-gcs-filesystem==0.21.0 in /home/jrodriguez/.local/lib/python3.6/site-packages (from tensorflow_io==0.21.0) (0.21.0)\n",
      "Requirement already satisfied: python-dateutil>=2.1 in /usr/local/lib/python3.6/dist-packages (from matplotlib) (2.8.2)\n",
      "Requirement already satisfied: pyparsing!=2.0.4,!=2.1.2,!=2.1.6,>=2.0.3 in /usr/local/lib/python3.6/dist-packages (from matplotlib) (3.0.7)\n",
      "Requirement already satisfied: kiwisolver>=1.0.1 in /usr/local/lib/python3.6/dist-packages (from matplotlib) (1.3.1)\n",
      "Requirement already satisfied: pillow>=6.2.0 in /usr/local/lib/python3.6/dist-packages (from matplotlib) (8.4.0)\n",
      "Requirement already satisfied: cycler>=0.10 in /usr/local/lib/python3.6/dist-packages (from matplotlib) (0.11.0)\n",
      "Requirement already satisfied: cached-property in /usr/local/lib/python3.6/dist-packages (from h5py~=3.1.0->tensorflow==2.6.2) (1.5.2)\n",
      "Requirement already satisfied: google-auth-oauthlib<0.5,>=0.4.1 in /usr/local/lib/python3.6/dist-packages (from tensorboard<2.7,>=2.6.0->tensorflow==2.6.2) (0.4.6)\n",
      "Requirement already satisfied: setuptools>=41.0.0 in /usr/local/lib/python3.6/dist-packages (from tensorboard<2.7,>=2.6.0->tensorflow==2.6.2) (59.6.0)\n",
      "Requirement already satisfied: requests<3,>=2.21.0 in /usr/local/lib/python3.6/dist-packages (from tensorboard<2.7,>=2.6.0->tensorflow==2.6.2) (2.27.1)\n",
      "Requirement already satisfied: werkzeug>=0.11.15 in /usr/local/lib/python3.6/dist-packages (from tensorboard<2.7,>=2.6.0->tensorflow==2.6.2) (2.0.2)\n",
      "Requirement already satisfied: markdown>=2.6.8 in /usr/local/lib/python3.6/dist-packages (from tensorboard<2.7,>=2.6.0->tensorflow==2.6.2) (3.3.6)\n",
      "Requirement already satisfied: tensorboard-plugin-wit>=1.6.0 in /usr/local/lib/python3.6/dist-packages (from tensorboard<2.7,>=2.6.0->tensorflow==2.6.2) (1.8.1)\n",
      "Requirement already satisfied: google-auth<2,>=1.6.3 in /usr/local/lib/python3.6/dist-packages (from tensorboard<2.7,>=2.6.0->tensorflow==2.6.2) (1.35.0)\n",
      "Requirement already satisfied: tensorboard-data-server<0.7.0,>=0.6.0 in /usr/local/lib/python3.6/dist-packages (from tensorboard<2.7,>=2.6.0->tensorflow==2.6.2) (0.6.1)\n",
      "Requirement already satisfied: rsa<5,>=3.1.4 in /usr/local/lib/python3.6/dist-packages (from google-auth<2,>=1.6.3->tensorboard<2.7,>=2.6.0->tensorflow==2.6.2) (4.8)\n",
      "Requirement already satisfied: pyasn1-modules>=0.2.1 in /usr/lib/python3/dist-packages (from google-auth<2,>=1.6.3->tensorboard<2.7,>=2.6.0->tensorflow==2.6.2) (0.2.1)\n",
      "Requirement already satisfied: cachetools<5.0,>=2.0.0 in /usr/local/lib/python3.6/dist-packages (from google-auth<2,>=1.6.3->tensorboard<2.7,>=2.6.0->tensorflow==2.6.2) (4.2.4)\n",
      "Requirement already satisfied: requests-oauthlib>=0.7.0 in /usr/local/lib/python3.6/dist-packages (from google-auth-oauthlib<0.5,>=0.4.1->tensorboard<2.7,>=2.6.0->tensorflow==2.6.2) (1.3.1)\n",
      "Requirement already satisfied: importlib-metadata>=4.4 in /usr/local/lib/python3.6/dist-packages (from markdown>=2.6.8->tensorboard<2.7,>=2.6.0->tensorflow==2.6.2) (4.8.3)\n",
      "Requirement already satisfied: urllib3<1.27,>=1.21.1 in /usr/lib/python3/dist-packages (from requests<3,>=2.21.0->tensorboard<2.7,>=2.6.0->tensorflow==2.6.2) (1.22)\n",
      "Requirement already satisfied: certifi>=2017.4.17 in /usr/lib/python3/dist-packages (from requests<3,>=2.21.0->tensorboard<2.7,>=2.6.0->tensorflow==2.6.2) (2018.1.18)\n",
      "Requirement already satisfied: idna<4,>=2.5 in /usr/lib/python3/dist-packages (from requests<3,>=2.21.0->tensorboard<2.7,>=2.6.0->tensorflow==2.6.2) (2.6)\n",
      "Requirement already satisfied: charset-normalizer~=2.0.0 in /usr/local/lib/python3.6/dist-packages (from requests<3,>=2.21.0->tensorboard<2.7,>=2.6.0->tensorflow==2.6.2) (2.0.11)\n",
      "Requirement already satisfied: dataclasses in /usr/local/lib/python3.6/dist-packages (from werkzeug>=0.11.15->tensorboard<2.7,>=2.6.0->tensorflow==2.6.2) (0.8)\n",
      "Requirement already satisfied: zipp>=0.5 in /usr/local/lib/python3.6/dist-packages (from importlib-metadata>=4.4->markdown>=2.6.8->tensorboard<2.7,>=2.6.0->tensorflow==2.6.2) (3.6.0)\n",
      "Requirement already satisfied: oauthlib>=3.0.0 in /usr/local/lib/python3.6/dist-packages (from requests-oauthlib>=0.7.0->google-auth-oauthlib<0.5,>=0.4.1->tensorboard<2.7,>=2.6.0->tensorflow==2.6.2) (3.2.0)\n",
      "Requirement already satisfied: pyasn1>=0.1.3 in /usr/lib/python3/dist-packages (from rsa<5,>=3.1.4->google-auth<2,>=1.6.3->tensorboard<2.7,>=2.6.0->tensorflow==2.6.2) (0.4.2)\n"
     ]
    }
   ],
   "source": [
    "!pip install tensorflow==2.6.2 tensorflow-gpu==2.6.2 tensorflow_io==0.21.0 matplotlib"
   ]
  },
  {
   "cell_type": "markdown",
   "metadata": {},
   "source": [
    "## 1.2 Load Dependencies"
   ]
  },
  {
   "cell_type": "code",
   "execution_count": 2,
   "metadata": {
    "jupyter": {
     "source_hidden": true
    },
    "tags": []
   },
   "outputs": [],
   "source": [
    "import os\n",
    "from matplotlib import pyplot as plt\n",
    "import tensorflow as tf \n",
    "import tensorflow_io as tfio"
   ]
  },
  {
   "cell_type": "markdown",
   "metadata": {},
   "source": [
    "# 2. Build Data Loading Function"
   ]
  },
  {
   "cell_type": "markdown",
   "metadata": {},
   "source": [
    "## 2.1 Define Paths to Files"
   ]
  },
  {
   "cell_type": "code",
   "execution_count": 6,
   "metadata": {
    "jupyter": {
     "source_hidden": true
    },
    "tags": []
   },
   "outputs": [],
   "source": [
    "BREATH_FILE = os.path.join('data','breaths','how_to_find_breaths-02.wav')\n",
    "NON_BREATH_FILE = os.path.join('data','non-breaths','how_to_find_non_breath-0.wav')"
   ]
  },
  {
   "cell_type": "markdown",
   "metadata": {},
   "source": [
    "## 2.2 Build Dataloading Function"
   ]
  },
  {
   "cell_type": "code",
   "execution_count": 7,
   "metadata": {
    "jupyter": {
     "source_hidden": true
    },
    "tags": []
   },
   "outputs": [],
   "source": [
    "def load_wav_mono(filename):\n",
    "    # Load encoded wav file\n",
    "    file_contents = tf.io.read_file(filename)\n",
    "    # Decode wav (tensors by channels) \n",
    "    wav, sample_rate = tf.audio.decode_wav(file_contents, desired_channels=1)\n",
    "    # Removes trailing axis\n",
    "    wav = tf.squeeze(wav, axis=-1)\n",
    "    sample_rate = tf.cast(sample_rate, dtype=tf.int64)\n",
    "    return wav"
   ]
  },
  {
   "cell_type": "markdown",
   "metadata": {},
   "source": [
    "## 2.3 Plot Wave"
   ]
  },
  {
   "cell_type": "code",
   "execution_count": 8,
   "metadata": {
    "jupyter": {
     "source_hidden": true
    },
    "tags": []
   },
   "outputs": [],
   "source": [
    "wave = load_wav_mono(BREATH_FILE)\n",
    "nwave = load_wav_mono(NON_BREATH_FILE)"
   ]
  },
  {
   "cell_type": "code",
   "execution_count": 9,
   "metadata": {
    "jupyter": {
     "source_hidden": true
    },
    "tags": []
   },
   "outputs": [
    {
     "data": {
      "image/png": "[encoded data removed]",
      "text/plain": [
       "<Figure size 432x288 with 1 Axes>"
      ]
     },
     "metadata": {
      "needs_background": "light"
     },
     "output_type": "display_data"
    }
   ],
   "source": [
    "plt.plot(wave)\n",
    "plt.plot(nwave)\n",
    "plt.show()"
   ]
  },
  {
   "cell_type": "markdown",
   "metadata": {},
   "source": [
    "# 3. Create Tensorflow Dataset"
   ]
  },
  {
   "cell_type": "markdown",
   "metadata": {},
   "source": [
    "## 3.1 Define Paths to Positive and Negative Data"
   ]
  },
  {
   "cell_type": "code",
   "execution_count": 10,
   "metadata": {
    "jupyter": {
     "source_hidden": true
    },
    "tags": []
   },
   "outputs": [
    {
     "data": {
      "text/plain": [
       "'data/breaths'"
      ]
     },
     "execution_count": 10,
     "metadata": {},
     "output_type": "execute_result"
    }
   ],
   "source": [
    "POS = os.path.join('data','breaths')\n",
    "NEG = os.path.join('data','non-breaths')\n",
    "POS"
   ]
  },
  {
   "cell_type": "markdown",
   "metadata": {},
   "source": [
    "## 3.2 Create Tensorflow Datasets"
   ]
  },
  {
   "cell_type": "code",
   "execution_count": 11,
   "metadata": {
    "jupyter": {
     "source_hidden": true
    },
    "tags": []
   },
   "outputs": [],
   "source": [
    "pos = tf.data.Dataset.list_files(POS+'/*.wav')\n",
    "neg = tf.data.Dataset.list_files(NEG+'/*.wav')"
   ]
  },
  {
   "cell_type": "markdown",
   "metadata": {},
   "source": [
    "## 3.3 Add labels and Combine Positive and Negative Samples"
   ]
  },
  {
   "cell_type": "code",
   "execution_count": 12,
   "metadata": {
    "jupyter": {
     "source_hidden": true
    },
    "tags": []
   },
   "outputs": [],
   "source": [
    "positives = tf.data.Dataset.zip((pos, tf.data.Dataset.from_tensor_slices(tf.ones(len(pos)))))\n",
    "negatives = tf.data.Dataset.zip((neg, tf.data.Dataset.from_tensor_slices(tf.zeros(len(neg)))))\n",
    "data = positives.concatenate(negatives)"
   ]
  },
  {
   "cell_type": "code",
   "execution_count": 20,
   "metadata": {},
   "outputs": [
    {
     "data": {
      "text/plain": [
       "(b'data/non-breaths/how_to_find_non_breath-183.wav', 0.0)"
      ]
     },
     "execution_count": 20,
     "metadata": {},
     "output_type": "execute_result"
    }
   ],
   "source": [
    "data.shuffle(10000).as_numpy_iterator().next()"
   ]
  },
  {
   "cell_type": "markdown",
   "metadata": {},
   "source": [
    "# 4. Determine Average Length of a Breath"
   ]
  },
  {
   "cell_type": "markdown",
   "metadata": {},
   "source": [
    "## 4.1 Calculate Wave Cycle Length"
   ]
  },
  {
   "cell_type": "code",
   "execution_count": 22,
   "metadata": {
    "jupyter": {
     "source_hidden": true
    },
    "tags": []
   },
   "outputs": [],
   "source": [
    "lengths = []\n",
    "for file in os.listdir(os.path.join('data','breaths')):\n",
    "    tensor_wave = load_wav_mono(os.path.join('data','breaths', file))\n",
    "    lengths.append(len(tensor_wave))"
   ]
  },
  {
   "cell_type": "code",
   "execution_count": 23,
   "metadata": {},
   "outputs": [
    {
     "data": {
      "text/plain": [
       "['how_to_find_breaths-297.wav',\n",
       " 'sleep_science_breaths-576.wav',\n",
       " 'sleep_science_breaths-228.wav',\n",
       " 'sleep_science_breaths-468.wav',\n",
       " 'holiday_breaths-78.wav',\n",
       " 'sleep_science_breaths-688.wav',\n",
       " 'how_to_find_breaths-346.wav',\n",
       " 'sleep_science_breaths-546.wav',\n",
       " 'holiday_breaths-41.wav',\n",
       " 'sleep_science_breaths-461.wav',\n",
       " 'sleep_science_breaths-528.wav',\n",
       " 'favorites_breaths-38.wav',\n",
       " 'sleep_science_breaths-711.wav',\n",
       " 'holiday_breaths-139.wav',\n",
       " 'sleep_science_breaths-407.wav',\n",
       " 'holiday_breaths-31.wav',\n",
       " 'how_to_find_breaths-228.wav',\n",
       " 'sleep_science_breaths-157.wav',\n",
       " 'favorites_breaths-257.wav',\n",
       " 'how_to_find_breaths-138.wav',\n",
       " 'sleep_science_breaths-743.wav',\n",
       " 'favorites_breaths-236.wav',\n",
       " 'how_to_find_breaths-36.wav',\n",
       " 'how_to_find_breaths-159.wav',\n",
       " 'sleep_science_breaths-118.wav',\n",
       " 'how_to_find_breaths-313.wav',\n",
       " 'holiday_breaths-60.wav',\n",
       " 'sleep_science_breaths-303.wav',\n",
       " 'favorites_breaths-107.wav',\n",
       " 'holiday_breaths-52.wav',\n",
       " 'favorites_breaths-255.wav',\n",
       " 'how_to_find_breaths-175.wav',\n",
       " 'how_to_find_breaths-284.wav',\n",
       " 'sleep_science_breaths-123.wav',\n",
       " 'holiday_breaths-46.wav',\n",
       " 'holiday_breaths-118.wav',\n",
       " 'how_to_find_breaths-358.wav',\n",
       " 'how_to_find_breaths-134.wav',\n",
       " 'sleep_science_breaths-639.wav',\n",
       " 'sleep_science_breaths-20.wav',\n",
       " 'sleep_science_breaths-333.wav',\n",
       " 'holiday_breaths-01.wav',\n",
       " 'favorites_breaths-245.wav',\n",
       " 'holiday_breaths-167.wav',\n",
       " 'how_to_find_breaths-178.wav',\n",
       " 'sleep_science_breaths-371.wav',\n",
       " 'sleep_science_breaths-516.wav',\n",
       " 'favorites_breaths-72.wav',\n",
       " 'sleep_science_breaths-574.wav',\n",
       " 'sleep_science_breaths-351.wav',\n",
       " 'holiday_breaths-142.wav',\n",
       " 'how_to_find_breaths-73.wav',\n",
       " 'holiday_breaths-138.wav',\n",
       " 'sleep_science_breaths-503.wav',\n",
       " 'sleep_science_breaths-607.wav',\n",
       " 'favorites_breaths-213.wav',\n",
       " 'sleep_science_breaths-171.wav',\n",
       " 'holiday_breaths-28.wav',\n",
       " 'sleep_science_breaths-372.wav',\n",
       " 'how_to_find_breaths-169.wav',\n",
       " 'sleep_science_breaths-450.wav',\n",
       " 'sleep_science_breaths-611.wav',\n",
       " 'sleep_science_breaths-152.wav',\n",
       " 'favorites_breaths-84.wav',\n",
       " 'how_to_find_breaths-69.wav',\n",
       " 'sleep_science_breaths-561.wav',\n",
       " 'how_to_find_breaths-168.wav',\n",
       " 'sleep_science_breaths-65.wav',\n",
       " 'holiday_breaths-07.wav',\n",
       " 'holiday_breaths-144.wav',\n",
       " 'sleep_science_breaths-734.wav',\n",
       " 'how_to_find_breaths-201.wav',\n",
       " 'how_to_find_breaths-223.wav',\n",
       " 'holiday_breaths-37.wav',\n",
       " 'how_to_find_breaths-129.wav',\n",
       " 'sleep_science_breaths-53.wav',\n",
       " 'favorites_breaths-214.wav',\n",
       " 'sleep_science_breaths-443.wav',\n",
       " 'how_to_find_breaths-356.wav',\n",
       " 'sleep_science_breaths-506.wav',\n",
       " 'sleep_science_breaths-798.wav',\n",
       " 'favorites_breaths-215.wav',\n",
       " 'how_to_find_breaths-52.wav',\n",
       " 'sleep_science_breaths-15.wav',\n",
       " 'how_to_find_breaths-295.wav',\n",
       " 'holiday_breaths-131.wav',\n",
       " 'holiday_breaths-150.wav',\n",
       " 'sleep_science_breaths-316.wav',\n",
       " 'how_to_find_breaths-232.wav',\n",
       " 'how_to_find_breaths-35.wav',\n",
       " 'how_to_find_breaths-84.wav',\n",
       " 'sleep_science_breaths-617.wav',\n",
       " 'sleep_science_breaths-725.wav',\n",
       " 'sleep_science_breaths-189.wav',\n",
       " 'sleep_science_breaths-68.wav',\n",
       " 'sleep_science_breaths-242.wav',\n",
       " 'favorites_breaths-76.wav',\n",
       " 'favorites_breaths-138.wav',\n",
       " 'sleep_science_breaths-701.wav',\n",
       " 'how_to_find_breaths-370.wav',\n",
       " 'sleep_science_breaths-254.wav',\n",
       " 'sleep_science_breaths-476.wav',\n",
       " 'sleep_science_breaths-174.wav',\n",
       " 'how_to_find_breaths-369.wav',\n",
       " 'sleep_science_breaths-359.wav',\n",
       " 'sleep_science_breaths-585.wav',\n",
       " 'sleep_science_breaths-128.wav',\n",
       " 'sleep_science_breaths-403.wav',\n",
       " 'sleep_science_breaths-136.wav',\n",
       " 'sleep_science_breaths-381.wav',\n",
       " 'sleep_science_breaths-55.wav',\n",
       " 'favorites_breaths-14.wav',\n",
       " 'holiday_breaths-69.wav',\n",
       " 'sleep_science_breaths-389.wav',\n",
       " 'sleep_science_breaths-356.wav',\n",
       " 'how_to_find_breaths-281.wav',\n",
       " 'sleep_science_breaths-700.wav',\n",
       " 'sleep_science_breaths-08.wav',\n",
       " 'how_to_find_breaths-361.wav',\n",
       " 'how_to_find_breaths-157.wav',\n",
       " 'holiday_breaths-153.wav',\n",
       " 'how_to_find_breaths-90.wav',\n",
       " 'sleep_science_breaths-505.wav',\n",
       " 'how_to_find_breaths-140.wav',\n",
       " 'sleep_science_breaths-72.wav',\n",
       " 'how_to_find_breaths-03.wav',\n",
       " 'how_to_find_breaths-22.wav',\n",
       " 'how_to_find_breaths-50.wav',\n",
       " 'sleep_science_breaths-724.wav',\n",
       " 'sleep_science_breaths-293.wav',\n",
       " 'favorites_breaths-134.wav',\n",
       " 'sleep_science_breaths-653.wav',\n",
       " 'sleep_science_breaths-708.wav',\n",
       " 'sleep_science_breaths-206.wav',\n",
       " 'sleep_science_breaths-668.wav',\n",
       " 'sleep_science_breaths-35.wav',\n",
       " 'holiday_breaths-47.wav',\n",
       " 'how_to_find_breaths-265.wav',\n",
       " 'sleep_science_breaths-139.wav',\n",
       " 'sleep_science_breaths-73.wav',\n",
       " 'how_to_find_breaths-304.wav',\n",
       " 'sleep_science_breaths-419.wav',\n",
       " 'sleep_science_breaths-772.wav',\n",
       " 'sleep_science_breaths-160.wav',\n",
       " 'how_to_find_breaths-61.wav',\n",
       " 'sleep_science_breaths-489.wav',\n",
       " 'holiday_breaths-169.wav',\n",
       " 'sleep_science_breaths-519.wav',\n",
       " 'how_to_find_breaths-42.wav',\n",
       " 'sleep_science_breaths-726.wav',\n",
       " 'sleep_science_breaths-198.wav',\n",
       " 'favorites_breaths-82.wav',\n",
       " 'sleep_science_breaths-28.wav',\n",
       " 'sleep_science_breaths-410.wav',\n",
       " 'holiday_breaths-13.wav',\n",
       " 'sleep_science_breaths-600.wav',\n",
       " 'how_to_find_breaths-57.wav',\n",
       " 'sleep_science_breaths-567.wav',\n",
       " 'sleep_science_breaths-654.wav',\n",
       " 'sleep_science_breaths-534.wav',\n",
       " 'how_to_find_breaths-16.wav',\n",
       " 'sleep_science_breaths-590.wav',\n",
       " 'how_to_find_breaths-348.wav',\n",
       " 'how_to_find_breaths-311.wav',\n",
       " 'favorites_breaths-19.wav',\n",
       " 'sleep_science_breaths-366.wav',\n",
       " 'sleep_science_breaths-453.wav',\n",
       " 'sleep_science_breaths-449.wav',\n",
       " 'favorites_breaths-77.wav',\n",
       " 'how_to_find_breaths-307.wav',\n",
       " 'sleep_science_breaths-797.wav',\n",
       " 'sleep_science_breaths-159.wav',\n",
       " 'holiday_breaths-91.wav',\n",
       " 'sleep_science_breaths-104.wav',\n",
       " 'holiday_breaths-112.wav',\n",
       " 'sleep_science_breaths-154.wav',\n",
       " 'sleep_science_breaths-18.wav',\n",
       " 'sleep_science_breaths-549.wav',\n",
       " 'favorites_breaths-196.wav',\n",
       " 'sleep_science_breaths-314.wav',\n",
       " 'favorites_breaths-50.wav',\n",
       " 'favorites_breaths-33.wav',\n",
       " 'how_to_find_breaths-259.wav',\n",
       " 'how_to_find_breaths-314.wav',\n",
       " 'how_to_find_breaths-210.wav',\n",
       " 'sleep_science_breaths-253.wav',\n",
       " 'favorites_breaths-65.wav',\n",
       " 'sleep_science_breaths-114.wav',\n",
       " 'favorites_breaths-21.wav',\n",
       " 'sleep_science_breaths-555.wav',\n",
       " 'favorites_breaths-244.wav',\n",
       " 'how_to_find_breaths-20.wav',\n",
       " 'sleep_science_breaths-353.wav',\n",
       " 'how_to_find_breaths-298.wav',\n",
       " 'sleep_science_breaths-465.wav',\n",
       " 'how_to_find_breaths-164.wav',\n",
       " 'how_to_find_breaths-92.wav',\n",
       " 'sleep_science_breaths-545.wav',\n",
       " 'how_to_find_breaths-192.wav',\n",
       " 'how_to_find_breaths-127.wav',\n",
       " 'holiday_breaths-70.wav',\n",
       " 'favorites_breaths-212.wav',\n",
       " 'favorites_breaths-110.wav',\n",
       " 'sleep_science_breaths-447.wav',\n",
       " 'sleep_science_breaths-603.wav',\n",
       " 'holiday_breaths-30.wav',\n",
       " 'sleep_science_breaths-365.wav',\n",
       " 'sleep_science_breaths-730.wav',\n",
       " 'sleep_science_breaths-26.wav',\n",
       " 'how_to_find_breaths-335.wav',\n",
       " 'sleep_science_breaths-428.wav',\n",
       " 'sleep_science_breaths-487.wav',\n",
       " 'how_to_find_breaths-12.wav',\n",
       " 'how_to_find_breaths-290.wav',\n",
       " 'favorites_breaths-135.wav',\n",
       " 'sleep_science_breaths-397.wav',\n",
       " 'how_to_find_breaths-85.wav',\n",
       " 'sleep_science_breaths-586.wav',\n",
       " 'how_to_find_breaths-158.wav',\n",
       " 'sleep_science_breaths-479.wav',\n",
       " 'favorites_breaths-28.wav',\n",
       " 'holiday_breaths-02.wav',\n",
       " 'sleep_science_breaths-342.wav',\n",
       " 'sleep_science_breaths-664.wav',\n",
       " 'sleep_science_breaths-643.wav',\n",
       " 'favorites_breaths-81.wav',\n",
       " 'how_to_find_breaths-100.wav',\n",
       " 'how_to_find_breaths-257.wav',\n",
       " 'sleep_science_breaths-24.wav',\n",
       " 'sleep_science_breaths-793.wav',\n",
       " 'sleep_science_breaths-563.wav',\n",
       " 'favorites_breaths-173.wav',\n",
       " 'sleep_science_breaths-31.wav',\n",
       " 'how_to_find_breaths-131.wav',\n",
       " 'holiday_breaths-24.wav',\n",
       " 'sleep_science_breaths-514.wav',\n",
       " 'sleep_science_breaths-452.wav',\n",
       " 'holiday_breaths-179.wav',\n",
       " 'sleep_science_breaths-704.wav',\n",
       " 'favorites_breaths-195.wav',\n",
       " 'favorites_breaths-205.wav',\n",
       " 'sleep_science_breaths-718.wav',\n",
       " 'sleep_science_breaths-477.wav',\n",
       " 'holiday_breaths-18.wav',\n",
       " 'sleep_science_breaths-416.wav',\n",
       " 'sleep_science_breaths-448.wav',\n",
       " 'sleep_science_breaths-355.wav',\n",
       " 'holiday_breaths-162.wav',\n",
       " 'sleep_science_breaths-127.wav',\n",
       " 'favorites_breaths-258.wav',\n",
       " 'how_to_find_breaths-264.wav',\n",
       " 'holiday_breaths-57.wav',\n",
       " 'holiday_breaths-27.wav',\n",
       " 'holiday_breaths-104.wav',\n",
       " 'sleep_science_breaths-367.wav',\n",
       " 'favorites_breaths-223.wav',\n",
       " 'sleep_science_breaths-433.wav',\n",
       " 'holiday_breaths-58.wav',\n",
       " 'sleep_science_breaths-673.wav',\n",
       " 'sleep_science_breaths-707.wav',\n",
       " 'sleep_science_breaths-289.wav',\n",
       " 'how_to_find_breaths-216.wav',\n",
       " 'sleep_science_breaths-203.wav',\n",
       " 'holiday_breaths-61.wav',\n",
       " 'how_to_find_breaths-225.wav',\n",
       " 'how_to_find_breaths-161.wav',\n",
       " 'favorites_breaths-47.wav',\n",
       " 'sleep_science_breaths-232.wav',\n",
       " 'how_to_find_breaths-91.wav',\n",
       " 'sleep_science_breaths-759.wav',\n",
       " 'favorites_breaths-53.wav',\n",
       " 'sleep_science_breaths-63.wav',\n",
       " 'how_to_find_breaths-312.wav',\n",
       " 'sleep_science_breaths-537.wav',\n",
       " 'holiday_breaths-34.wav',\n",
       " 'favorites_breaths-156.wav',\n",
       " 'sleep_science_breaths-288.wav',\n",
       " 'sleep_science_breaths-418.wav',\n",
       " 'sleep_science_breaths-87.wav',\n",
       " 'how_to_find_breaths-315.wav',\n",
       " 'holiday_breaths-64.wav',\n",
       " 'sleep_science_breaths-260.wav',\n",
       " 'sleep_science_breaths-644.wav',\n",
       " 'sleep_science_breaths-17.wav',\n",
       " 'favorites_breaths-227.wav',\n",
       " 'sleep_science_breaths-207.wav',\n",
       " 'sleep_science_breaths-552.wav',\n",
       " 'how_to_find_breaths-30.wav',\n",
       " 'sleep_science_breaths-369.wav',\n",
       " 'sleep_science_breaths-311.wav',\n",
       " 'favorites_breaths-226.wav',\n",
       " 'sleep_science_breaths-167.wav',\n",
       " 'how_to_find_breaths-133.wav',\n",
       " 'holiday_breaths-51.wav',\n",
       " 'how_to_find_breaths-360.wav',\n",
       " 'holiday_breaths-105.wav',\n",
       " 'how_to_find_breaths-206.wav',\n",
       " 'holiday_breaths-03.wav',\n",
       " 'sleep_science_breaths-246.wav',\n",
       " 'sleep_science_breaths-326.wav',\n",
       " 'sleep_science_breaths-327.wav',\n",
       " 'sleep_science_breaths-542.wav',\n",
       " 'how_to_find_breaths-23.wav',\n",
       " 'how_to_find_breaths-364.wav',\n",
       " 'sleep_science_breaths-266.wav',\n",
       " 'sleep_science_breaths-59.wav',\n",
       " 'how_to_find_breaths-13.wav',\n",
       " 'how_to_find_breaths-189.wav',\n",
       " 'favorites_breaths-27.wav',\n",
       " 'sleep_science_breaths-540.wav',\n",
       " 'how_to_find_breaths-181.wav',\n",
       " 'favorites_breaths-09.wav',\n",
       " 'how_to_find_breaths-109.wav',\n",
       " 'sleep_science_breaths-143.wav',\n",
       " 'sleep_science_breaths-80.wav',\n",
       " 'favorites_breaths-175.wav',\n",
       " 'sleep_science_breaths-291.wav',\n",
       " 'holiday_breaths-50.wav',\n",
       " 'sleep_science_breaths-438.wav',\n",
       " 'holiday_breaths-123.wav',\n",
       " 'sleep_science_breaths-156.wav',\n",
       " 'sleep_science_breaths-183.wav',\n",
       " 'sleep_science_breaths-96.wav',\n",
       " 'sleep_science_breaths-685.wav',\n",
       " 'sleep_science_breaths-394.wav',\n",
       " 'how_to_find_breaths-229.wav',\n",
       " 'sleep_science_breaths-86.wav',\n",
       " 'sleep_science_breaths-736.wav',\n",
       " 'sleep_science_breaths-791.wav',\n",
       " 'holiday_breaths-89.wav',\n",
       " 'sleep_science_breaths-625.wav',\n",
       " 'sleep_science_breaths-77.wav',\n",
       " 'how_to_find_breaths-155.wav',\n",
       " 'sleep_science_breaths-670.wav',\n",
       " 'sleep_science_breaths-239.wav',\n",
       " 'sleep_science_breaths-748.wav',\n",
       " 'holiday_breaths-98.wav',\n",
       " 'how_to_find_breaths-279.wav',\n",
       " 'how_to_find_breaths-252.wav',\n",
       " 'how_to_find_breaths-64.wav',\n",
       " 'holiday_breaths-71.wav',\n",
       " 'how_to_find_breaths-291.wav',\n",
       " 'sleep_science_breaths-233.wav',\n",
       " 'holiday_breaths-81.wav',\n",
       " 'sleep_science_breaths-149.wav',\n",
       " 'how_to_find_breaths-56.wav',\n",
       " 'sleep_science_breaths-783.wav',\n",
       " 'favorites_breaths-12.wav',\n",
       " 'how_to_find_breaths-171.wav',\n",
       " 'sleep_science_breaths-683.wav',\n",
       " 'how_to_find_breaths-319.wav',\n",
       " 'favorites_breaths-24.wav',\n",
       " 'favorites_breaths-05.wav',\n",
       " 'favorites_breaths-198.wav',\n",
       " 'sleep_science_breaths-182.wav',\n",
       " 'sleep_science_breaths-12.wav',\n",
       " 'holiday_breaths-76.wav',\n",
       " 'holiday_breaths-100.wav',\n",
       " 'sleep_science_breaths-194.wav',\n",
       " 'favorites_breaths-15.wav',\n",
       " 'holiday_breaths-180.wav',\n",
       " 'sleep_science_breaths-44.wav',\n",
       " 'holiday_breaths-48.wav',\n",
       " 'sleep_science_breaths-573.wav',\n",
       " 'sleep_science_breaths-788.wav',\n",
       " 'how_to_find_breaths-186.wav',\n",
       " 'sleep_science_breaths-216.wav',\n",
       " 'sleep_science_breaths-120.wav',\n",
       " 'holiday_breaths-86.wav',\n",
       " 'holiday_breaths-99.wav',\n",
       " 'sleep_science_breaths-91.wav',\n",
       " 'how_to_find_breaths-191.wav',\n",
       " 'sleep_science_breaths-629.wav',\n",
       " 'sleep_science_breaths-241.wav',\n",
       " 'sleep_science_breaths-513.wav',\n",
       " 'how_to_find_breaths-38.wav',\n",
       " 'sleep_science_breaths-190.wav',\n",
       " 'how_to_find_breaths-230.wav',\n",
       " 'sleep_science_breaths-463.wav',\n",
       " 'how_to_find_breaths-150.wav',\n",
       " 'how_to_find_breaths-287.wav',\n",
       " 'favorites_breaths-29.wav',\n",
       " 'holiday_breaths-20.wav',\n",
       " 'sleep_science_breaths-320.wav',\n",
       " 'sleep_science_breaths-176.wav',\n",
       " 'favorites_breaths-16.wav',\n",
       " 'sleep_science_breaths-512.wav',\n",
       " 'sleep_science_breaths-413.wav',\n",
       " 'how_to_find_breaths-62.wav',\n",
       " 'how_to_find_breaths-366.wav',\n",
       " 'holiday_breaths-45.wav',\n",
       " 'holiday_breaths-83.wav',\n",
       " 'how_to_find_breaths-98.wav',\n",
       " 'favorites_breaths-144.wav',\n",
       " 'sleep_science_breaths-252.wav',\n",
       " 'favorites_breaths-131.wav',\n",
       " 'holiday_breaths-11.wav',\n",
       " 'how_to_find_breaths-234.wav',\n",
       " 'holiday_breaths-125.wav',\n",
       " 'how_to_find_breaths-293.wav',\n",
       " 'how_to_find_breaths-202.wav',\n",
       " 'sleep_science_breaths-564.wav',\n",
       " 'how_to_find_breaths-339.wav',\n",
       " 'holiday_breaths-126.wav',\n",
       " 'sleep_science_breaths-456.wav',\n",
       " 'how_to_find_breaths-340.wav',\n",
       " 'sleep_science_breaths-379.wav',\n",
       " 'sleep_science_breaths-511.wav',\n",
       " 'sleep_science_breaths-209.wav',\n",
       " 'sleep_science_breaths-667.wav',\n",
       " 'sleep_science_breaths-89.wav',\n",
       " 'sleep_science_breaths-64.wav',\n",
       " 'sleep_science_breaths-533.wav',\n",
       " 'sleep_science_breaths-732.wav',\n",
       " 'sleep_science_breaths-739.wav',\n",
       " 'how_to_find_breaths-359.wav',\n",
       " 'sleep_science_breaths-54.wav',\n",
       " 'how_to_find_breaths-246.wav',\n",
       " 'sleep_science_breaths-204.wav',\n",
       " 'sleep_science_breaths-765.wav',\n",
       " 'holiday_breaths-95.wav',\n",
       " 'sleep_science_breaths-292.wav',\n",
       " 'favorites_breaths-148.wav',\n",
       " 'sleep_science_breaths-768.wav',\n",
       " 'sleep_science_breaths-224.wav',\n",
       " 'sleep_science_breaths-161.wav',\n",
       " 'favorites_breaths-127.wav',\n",
       " 'sleep_science_breaths-405.wav',\n",
       " 'how_to_find_breaths-67.wav',\n",
       " 'sleep_science_breaths-100.wav',\n",
       " 'sleep_science_breaths-795.wav',\n",
       " 'favorites_breaths-116.wav',\n",
       " 'sleep_science_breaths-88.wav',\n",
       " 'favorites_breaths-44.wav',\n",
       " 'sleep_science_breaths-609.wav',\n",
       " 'sleep_science_breaths-29.wav',\n",
       " 'sleep_science_breaths-530.wav',\n",
       " 'sleep_science_breaths-137.wav',\n",
       " 'holiday_breaths-141.wav',\n",
       " 'favorites_breaths-125.wav',\n",
       " 'favorites_breaths-132.wav',\n",
       " 'sleep_science_breaths-315.wav',\n",
       " 'holiday_breaths-148.wav',\n",
       " 'sleep_science_breaths-83.wav',\n",
       " 'favorites_breaths-118.wav',\n",
       " 'how_to_find_breaths-302.wav',\n",
       " 'favorites_breaths-243.wav',\n",
       " 'sleep_science_breaths-25.wav',\n",
       " 'sleep_science_breaths-192.wav',\n",
       " 'sleep_science_breaths-33.wav',\n",
       " 'sleep_science_breaths-175.wav',\n",
       " 'favorites_breaths-248.wav',\n",
       " 'sleep_science_breaths-651.wav',\n",
       " 'holiday_breaths-73.wav',\n",
       " 'sleep_science_breaths-763.wav',\n",
       " 'sleep_science_breaths-582.wav',\n",
       " 'sleep_science_breaths-589.wav',\n",
       " 'sleep_science_breaths-541.wav',\n",
       " 'favorites_breaths-99.wav',\n",
       " 'how_to_find_breaths-173.wav',\n",
       " 'favorites_breaths-218.wav',\n",
       " 'favorites_breaths-08.wav',\n",
       " 'sleep_science_breaths-185.wav',\n",
       " 'holiday_breaths-04.wav',\n",
       " 'how_to_find_breaths-88.wav',\n",
       " 'holiday_breaths-145.wav',\n",
       " 'sleep_science_breaths-466.wav',\n",
       " 'sleep_science_breaths-240.wav',\n",
       " 'sleep_science_breaths-624.wav',\n",
       " 'holiday_breaths-42.wav',\n",
       " 'favorites_breaths-172.wav',\n",
       " 'how_to_find_breaths-112.wav',\n",
       " 'sleep_science_breaths-645.wav',\n",
       " 'sleep_science_breaths-577.wav',\n",
       " 'holiday_breaths-165.wav',\n",
       " 'how_to_find_breaths-66.wav',\n",
       " 'sleep_science_breaths-502.wav',\n",
       " 'how_to_find_breaths-336.wav',\n",
       " 'sleep_science_breaths-376.wav',\n",
       " 'how_to_find_breaths-344.wav',\n",
       " 'sleep_science_breaths-238.wav',\n",
       " 'sleep_science_breaths-771.wav',\n",
       " 'how_to_find_breaths-214.wav',\n",
       " 'sleep_science_breaths-169.wav',\n",
       " 'sleep_science_breaths-52.wav',\n",
       " 'how_to_find_breaths-221.wav',\n",
       " 'sleep_science_breaths-19.wav',\n",
       " 'how_to_find_breaths-261.wav',\n",
       " 'sleep_science_breaths-07.wav',\n",
       " 'holiday_breaths-22.wav',\n",
       " 'favorites_breaths-230.wav',\n",
       " 'favorites_breaths-80.wav',\n",
       " 'sleep_science_breaths-62.wav',\n",
       " 'favorites_breaths-120.wav',\n",
       " 'sleep_science_breaths-481.wav',\n",
       " 'sleep_science_breaths-792.wav',\n",
       " 'sleep_science_breaths-455.wav',\n",
       " 'holiday_breaths-80.wav',\n",
       " 'holiday_breaths-113.wav',\n",
       " 'sleep_science_breaths-655.wav',\n",
       " 'favorites_breaths-207.wav',\n",
       " 'how_to_find_breaths-40.wav',\n",
       " 'how_to_find_breaths-349.wav',\n",
       " 'sleep_science_breaths-562.wav',\n",
       " 'how_to_find_breaths-07.wav',\n",
       " 'favorites_breaths-206.wav',\n",
       " 'favorites_breaths-36.wav',\n",
       " 'how_to_find_breaths-306.wav',\n",
       " 'sleep_science_breaths-339.wav',\n",
       " 'holiday_breaths-16.wav',\n",
       " 'how_to_find_breaths-130.wav',\n",
       " 'favorites_breaths-260.wav',\n",
       " 'holiday_breaths-63.wav',\n",
       " 'sleep_science_breaths-749.wav',\n",
       " 'sleep_science_breaths-205.wav',\n",
       " 'sleep_science_breaths-697.wav',\n",
       " 'sleep_science_breaths-786.wav',\n",
       " 'sleep_science_breaths-547.wav',\n",
       " 'favorites_breaths-104.wav',\n",
       " 'sleep_science_breaths-571.wav',\n",
       " 'how_to_find_breaths-350.wav',\n",
       " 'how_to_find_breaths-341.wav',\n",
       " 'sleep_science_breaths-208.wav',\n",
       " 'how_to_find_breaths-239.wav',\n",
       " 'holiday_breaths-114.wav',\n",
       " 'how_to_find_breaths-278.wav',\n",
       " 'how_to_find_breaths-124.wav',\n",
       " 'favorites_breaths-85.wav',\n",
       " 'holiday_breaths-178.wav',\n",
       " 'favorites_breaths-121.wav',\n",
       " 'how_to_find_breaths-224.wav',\n",
       " 'holiday_breaths-12.wav',\n",
       " 'favorites_breaths-98.wav',\n",
       " 'sleep_science_breaths-728.wav',\n",
       " 'favorites_breaths-208.wav',\n",
       " 'sleep_science_breaths-598.wav',\n",
       " 'favorites_breaths-105.wav',\n",
       " 'sleep_science_breaths-630.wav',\n",
       " 'how_to_find_breaths-354.wav',\n",
       " 'sleep_science_breaths-76.wav',\n",
       " 'sleep_science_breaths-641.wav',\n",
       " 'sleep_science_breaths-278.wav',\n",
       " 'sleep_science_breaths-568.wav',\n",
       " 'holiday_breaths-154.wav',\n",
       " 'favorites_breaths-142.wav',\n",
       " 'how_to_find_breaths-249.wav',\n",
       " 'holiday_breaths-85.wav',\n",
       " 'how_to_find_breaths-205.wav',\n",
       " 'how_to_find_breaths-211.wav',\n",
       " 'favorites_breaths-95.wav',\n",
       " 'sleep_science_breaths-16.wav',\n",
       " 'sleep_science_breaths-107.wav',\n",
       " 'holiday_breaths-164.wav',\n",
       " 'how_to_find_breaths-147.wav',\n",
       " 'sleep_science_breaths-92.wav',\n",
       " 'favorites_breaths-86.wav',\n",
       " 'how_to_find_breaths-179.wav',\n",
       " 'how_to_find_breaths-268.wav',\n",
       " 'holiday_breaths-140.wav',\n",
       " 'favorites_breaths-11.wav',\n",
       " 'how_to_find_breaths-251.wav',\n",
       " 'sleep_science_breaths-211.wav',\n",
       " 'sleep_science_breaths-121.wav',\n",
       " 'how_to_find_breaths-248.wav',\n",
       " 'sleep_science_breaths-46.wav',\n",
       " 'sleep_science_breaths-691.wav',\n",
       " 'sleep_science_breaths-430.wav',\n",
       " 'how_to_find_breaths-39.wav',\n",
       " 'sleep_science_breaths-442.wav',\n",
       " 'holiday_breaths-62.wav',\n",
       " 'sleep_science_breaths-525.wav',\n",
       " 'sleep_science_breaths-385.wav',\n",
       " 'holiday_breaths-177.wav',\n",
       " 'how_to_find_breaths-273.wav',\n",
       " 'sleep_science_breaths-362.wav',\n",
       " 'sleep_science_breaths-554.wav',\n",
       " 'favorites_breaths-59.wav',\n",
       " 'how_to_find_breaths-28.wav',\n",
       " 'how_to_find_breaths-255.wav',\n",
       " 'favorites_breaths-161.wav',\n",
       " 'sleep_science_breaths-282.wav',\n",
       " 'how_to_find_breaths-93.wav',\n",
       " 'sleep_science_breaths-710.wav',\n",
       " 'sleep_science_breaths-766.wav',\n",
       " 'favorites_breaths-124.wav',\n",
       " 'sleep_science_breaths-623.wav',\n",
       " 'holiday_breaths-75.wav',\n",
       " 'how_to_find_breaths-70.wav',\n",
       " 'favorites_breaths-147.wav',\n",
       " 'sleep_science_breaths-349.wav',\n",
       " 'sleep_science_breaths-538.wav',\n",
       " 'sleep_science_breaths-319.wav',\n",
       " 'favorites_breaths-32.wav',\n",
       " 'sleep_science_breaths-219.wav',\n",
       " 'how_to_find_breaths-10.wav',\n",
       " 'sleep_science_breaths-222.wav',\n",
       " 'sleep_science_breaths-780.wav',\n",
       " 'sleep_science_breaths-322.wav',\n",
       " 'favorites_breaths-149.wav',\n",
       " 'sleep_science_breaths-383.wav',\n",
       " 'sleep_science_breaths-656.wav',\n",
       " 'sleep_science_breaths-368.wav',\n",
       " 'holiday_breaths-35.wav',\n",
       " 'favorites_breaths-56.wav',\n",
       " 'sleep_science_breaths-446.wav',\n",
       " 'sleep_science_breaths-321.wav',\n",
       " 'sleep_science_breaths-478.wav',\n",
       " 'favorites_breaths-64.wav',\n",
       " 'sleep_science_breaths-705.wav',\n",
       " 'holiday_breaths-129.wav',\n",
       " 'sleep_science_breaths-135.wav',\n",
       " 'how_to_find_breaths-97.wav',\n",
       " 'sleep_science_breaths-755.wav',\n",
       " 'sleep_science_breaths-735.wav',\n",
       " 'how_to_find_breaths-334.wav',\n",
       " 'favorites_breaths-94.wav',\n",
       " 'sleep_science_breaths-364.wav',\n",
       " 'favorites_breaths-25.wav',\n",
       " 'sleep_science_breaths-493.wav',\n",
       " 'how_to_find_breaths-74.wav',\n",
       " 'sleep_science_breaths-138.wav',\n",
       " 'favorites_breaths-109.wav',\n",
       " 'sleep_science_breaths-334.wav',\n",
       " 'sleep_science_breaths-398.wav',\n",
       " 'sleep_science_breaths-801.wav',\n",
       " 'how_to_find_breaths-122.wav',\n",
       " 'how_to_find_breaths-299.wav',\n",
       " 'sleep_science_breaths-212.wav',\n",
       " 'sleep_science_breaths-706.wav',\n",
       " 'how_to_find_breaths-198.wav',\n",
       " 'how_to_find_breaths-222.wav',\n",
       " 'how_to_find_breaths-196.wav',\n",
       " 'sleep_science_breaths-731.wav',\n",
       " 'sleep_science_breaths-400.wav',\n",
       " 'sleep_science_breaths-14.wav',\n",
       " 'favorites_breaths-111.wav',\n",
       " 'favorites_breaths-160.wav',\n",
       " 'how_to_find_breaths-177.wav',\n",
       " 'sleep_science_breaths-164.wav',\n",
       " 'holiday_breaths-119.wav',\n",
       " 'sleep_science_breaths-699.wav',\n",
       " 'favorites_breaths-106.wav',\n",
       " 'sleep_science_breaths-236.wav',\n",
       " 'favorites_breaths-220.wav',\n",
       " 'favorites_breaths-200.wav',\n",
       " 'favorites_breaths-184.wav',\n",
       " 'sleep_science_breaths-102.wav',\n",
       " 'holiday_breaths-54.wav',\n",
       " 'favorites_breaths-17.wav',\n",
       " 'sleep_science_breaths-106.wav',\n",
       " 'sleep_science_breaths-313.wav',\n",
       " 'how_to_find_breaths-115.wav',\n",
       " 'sleep_science_breaths-155.wav',\n",
       " 'sleep_science_breaths-628.wav',\n",
       " 'sleep_science_breaths-230.wav',\n",
       " 'sleep_science_breaths-496.wav',\n",
       " 'sleep_science_breaths-709.wav',\n",
       " 'favorites_breaths-235.wav',\n",
       " 'favorites_breaths-151.wav',\n",
       " 'how_to_find_breaths-174.wav',\n",
       " 'holiday_breaths-55.wav',\n",
       " 'sleep_science_breaths-775.wav',\n",
       " 'sleep_science_breaths-317.wav',\n",
       " 'sleep_science_breaths-30.wav',\n",
       " 'favorites_breaths-133.wav',\n",
       " 'how_to_find_breaths-330.wav',\n",
       " 'how_to_find_breaths-148.wav',\n",
       " 'sleep_science_breaths-426.wav',\n",
       " 'favorites_breaths-246.wav',\n",
       " 'how_to_find_breaths-46.wav',\n",
       " 'sleep_science_breaths-71.wav',\n",
       " 'how_to_find_breaths-294.wav',\n",
       " 'sleep_science_breaths-36.wav',\n",
       " 'holiday_breaths-115.wav',\n",
       " 'how_to_find_breaths-242.wav',\n",
       " 'sleep_science_breaths-646.wav',\n",
       " 'how_to_find_breaths-121.wav',\n",
       " 'sleep_science_breaths-264.wav',\n",
       " 'how_to_find_breaths-326.wav',\n",
       " 'how_to_find_breaths-193.wav',\n",
       " 'sleep_science_breaths-286.wav',\n",
       " 'how_to_find_breaths-250.wav',\n",
       " 'sleep_science_breaths-256.wav',\n",
       " 'favorites_breaths-96.wav',\n",
       " 'sleep_science_breaths-648.wav',\n",
       " 'favorites_breaths-183.wav',\n",
       " 'favorites_breaths-57.wav',\n",
       " 'sleep_science_breaths-764.wav',\n",
       " 'favorites_breaths-93.wav',\n",
       " 'sleep_science_breaths-177.wav',\n",
       " 'sleep_science_breaths-262.wav',\n",
       " 'sleep_science_breaths-284.wav',\n",
       " 'favorites_breaths-52.wav',\n",
       " 'sleep_science_breaths-469.wav',\n",
       " 'holiday_breaths-108.wav',\n",
       " 'sleep_science_breaths-70.wav',\n",
       " 'how_to_find_breaths-41.wav',\n",
       " 'how_to_find_breaths-243.wav',\n",
       " 'sleep_science_breaths-335.wav',\n",
       " 'sleep_science_breaths-640.wav',\n",
       " 'sleep_science_breaths-344.wav',\n",
       " 'sleep_science_breaths-440.wav',\n",
       " 'favorites_breaths-204.wav',\n",
       " 'how_to_find_breaths-26.wav',\n",
       " 'how_to_find_breaths-365.wav',\n",
       " 'how_to_find_breaths-166.wav',\n",
       " 'favorites_breaths-49.wav',\n",
       " 'holiday_breaths-134.wav',\n",
       " 'how_to_find_breaths-32.wav',\n",
       " 'sleep_science_breaths-669.wav',\n",
       " 'sleep_science_breaths-572.wav',\n",
       " 'how_to_find_breaths-60.wav',\n",
       " 'sleep_science_breaths-500.wav',\n",
       " 'sleep_science_breaths-11.wav',\n",
       " 'favorites_breaths-69.wav',\n",
       " 'sleep_science_breaths-632.wav',\n",
       " 'sleep_science_breaths-712.wav',\n",
       " 'favorites_breaths-137.wav',\n",
       " 'sleep_science_breaths-84.wav',\n",
       " 'sleep_science_breaths-695.wav',\n",
       " 'sleep_science_breaths-518.wav',\n",
       " 'sleep_science_breaths-309.wav',\n",
       " 'holiday_breaths-92.wav',\n",
       " 'sleep_science_breaths-49.wav',\n",
       " 'favorites_breaths-254.wav',\n",
       " 'favorites_breaths-42.wav',\n",
       " 'how_to_find_breaths-101.wav',\n",
       " 'favorites_breaths-253.wav',\n",
       " 'sleep_science_breaths-687.wav',\n",
       " 'favorites_breaths-182.wav',\n",
       " 'sleep_science_breaths-751.wav',\n",
       " 'how_to_find_breaths-01.wav',\n",
       " 'sleep_science_breaths-510.wav',\n",
       " 'holiday_breaths-172.wav',\n",
       " 'sleep_science_breaths-191.wav',\n",
       " 'sleep_science_breaths-566.wav',\n",
       " 'how_to_find_breaths-77.wav',\n",
       " 'holiday_breaths-33.wav',\n",
       " 'holiday_breaths-88.wav',\n",
       " 'how_to_find_breaths-25.wav',\n",
       " 'sleep_science_breaths-60.wav',\n",
       " 'favorites_breaths-115.wav',\n",
       " 'how_to_find_breaths-78.wav',\n",
       " 'favorites_breaths-90.wav',\n",
       " 'holiday_breaths-155.wav',\n",
       " 'favorites_breaths-102.wav',\n",
       " 'sleep_science_breaths-109.wav',\n",
       " 'favorites_breaths-61.wav',\n",
       " 'sleep_science_breaths-340.wav',\n",
       " 'sleep_science_breaths-458.wav',\n",
       " 'sleep_science_breaths-675.wav',\n",
       " 'how_to_find_breaths-02.wav',\n",
       " 'favorites_breaths-91.wav',\n",
       " 'sleep_science_breaths-178.wav',\n",
       " 'how_to_find_breaths-125.wav',\n",
       " 'how_to_find_breaths-141.wav',\n",
       " 'sleep_science_breaths-464.wav',\n",
       " 'how_to_find_breaths-15.wav',\n",
       " 'sleep_science_breaths-188.wav',\n",
       " 'sleep_science_breaths-221.wav',\n",
       " 'holiday_breaths-66.wav',\n",
       " 'favorites_breaths-60.wav',\n",
       " 'how_to_find_breaths-81.wav',\n",
       " 'sleep_science_breaths-689.wav',\n",
       " 'how_to_find_breaths-227.wav',\n",
       " 'favorites_breaths-224.wav',\n",
       " 'holiday_breaths-84.wav',\n",
       " 'favorites_breaths-256.wav',\n",
       " 'sleep_science_breaths-200.wav',\n",
       " 'how_to_find_breaths-95.wav',\n",
       " 'sleep_science_breaths-460.wav',\n",
       " 'holiday_breaths-87.wav',\n",
       " 'how_to_find_breaths-55.wav',\n",
       " 'favorites_breaths-261.wav',\n",
       " 'sleep_science_breaths-10.wav',\n",
       " 'sleep_science_breaths-762.wav',\n",
       " 'favorites_breaths-141.wav',\n",
       " 'holiday_breaths-170.wav',\n",
       " 'sleep_science_breaths-741.wav',\n",
       " 'how_to_find_breaths-33.wav',\n",
       " 'holiday_breaths-158.wav',\n",
       " 'how_to_find_breaths-204.wav',\n",
       " 'how_to_find_breaths-188.wav',\n",
       " 'favorites_breaths-209.wav',\n",
       " 'sleep_science_breaths-631.wav',\n",
       " 'favorites_breaths-37.wav',\n",
       " 'sleep_science_breaths-569.wav',\n",
       " 'how_to_find_breaths-79.wav',\n",
       " 'how_to_find_breaths-87.wav',\n",
       " 'sleep_science_breaths-69.wav',\n",
       " 'sleep_science_breaths-97.wav',\n",
       " 'sleep_science_breaths-684.wav',\n",
       " 'how_to_find_breaths-256.wav',\n",
       " 'sleep_science_breaths-674.wav',\n",
       " 'sleep_science_breaths-297.wav',\n",
       " 'holiday_breaths-166.wav',\n",
       " 'sleep_science_breaths-21.wav',\n",
       " 'how_to_find_breaths-86.wav',\n",
       " 'sleep_science_breaths-437.wav',\n",
       " 'sleep_science_breaths-151.wav',\n",
       " 'favorites_breaths-55.wav',\n",
       " 'sleep_science_breaths-592.wav',\n",
       " 'sleep_science_breaths-737.wav',\n",
       " 'sleep_science_breaths-483.wav',\n",
       " 'sleep_science_breaths-594.wav',\n",
       " 'sleep_science_breaths-06.wav',\n",
       " 'how_to_find_breaths-27.wav',\n",
       " 'sleep_science_breaths-387.wav',\n",
       " 'sleep_science_breaths-457.wav',\n",
       " 'sleep_science_breaths-435.wav',\n",
       " 'sleep_science_breaths-373.wav',\n",
       " 'sleep_science_breaths-329.wav',\n",
       " 'sleep_science_breaths-474.wav',\n",
       " 'how_to_find_breaths-309.wav',\n",
       " 'sleep_science_breaths-108.wav',\n",
       " 'how_to_find_breaths-241.wav',\n",
       " 'sleep_science_breaths-220.wav',\n",
       " 'sleep_science_breaths-429.wav',\n",
       " 'sleep_science_breaths-424.wav',\n",
       " 'sleep_science_breaths-259.wav',\n",
       " 'how_to_find_breaths-190.wav',\n",
       " 'how_to_find_breaths-116.wav',\n",
       " 'how_to_find_breaths-343.wav',\n",
       " 'sleep_science_breaths-384.wav',\n",
       " 'how_to_find_breaths-58.wav',\n",
       " 'sleep_science_breaths-596.wav',\n",
       " 'sleep_science_breaths-556.wav',\n",
       " 'favorites_breaths-168.wav',\n",
       " 'favorites_breaths-150.wav',\n",
       " 'how_to_find_breaths-68.wav',\n",
       " 'sleep_science_breaths-522.wav',\n",
       " 'sleep_science_breaths-343.wav',\n",
       " 'sleep_science_breaths-323.wav',\n",
       " 'how_to_find_breaths-29.wav',\n",
       " 'sleep_science_breaths-575.wav',\n",
       " 'holiday_breaths-43.wav',\n",
       " 'sleep_science_breaths-281.wav',\n",
       " 'how_to_find_breaths-59.wav',\n",
       " 'sleep_science_breaths-229.wav',\n",
       " 'holiday_breaths-77.wav',\n",
       " 'sleep_science_breaths-113.wav',\n",
       " 'sleep_science_breaths-37.wav',\n",
       " 'how_to_find_breaths-226.wav',\n",
       " 'sleep_science_breaths-676.wav',\n",
       " 'how_to_find_breaths-328.wav',\n",
       " 'sleep_science_breaths-548.wav',\n",
       " 'holiday_breaths-176.wav',\n",
       " 'sleep_science_breaths-168.wav',\n",
       " 'sleep_science_breaths-336.wav',\n",
       " 'sleep_science_breaths-380.wav',\n",
       " 'sleep_science_breaths-249.wav',\n",
       " 'favorites_breaths-23.wav',\n",
       " 'sleep_science_breaths-480.wav',\n",
       " 'sleep_science_breaths-485.wav',\n",
       " 'sleep_science_breaths-529.wav',\n",
       " 'sleep_science_breaths-79.wav',\n",
       " 'sleep_science_breaths-357.wav',\n",
       " 'how_to_find_breaths-209.wav',\n",
       " 'sleep_science_breaths-636.wav',\n",
       " 'sleep_science_breaths-657.wav',\n",
       " 'sleep_science_breaths-484.wav',\n",
       " 'sleep_science_breaths-777.wav',\n",
       " 'sleep_science_breaths-27.wav',\n",
       " 'favorites_breaths-228.wav',\n",
       " 'favorites_breaths-139.wav',\n",
       " 'favorites_breaths-221.wav',\n",
       " 'sleep_science_breaths-58.wav',\n",
       " 'favorites_breaths-145.wav',\n",
       " 'how_to_find_breaths-317.wav',\n",
       " 'sleep_science_breaths-543.wav',\n",
       " 'how_to_find_breaths-167.wav',\n",
       " 'how_to_find_breaths-373.wav',\n",
       " 'sleep_science_breaths-213.wav',\n",
       " 'holiday_breaths-184.wav',\n",
       " 'sleep_science_breaths-520.wav',\n",
       " 'how_to_find_breaths-212.wav',\n",
       " 'how_to_find_breaths-338.wav',\n",
       " 'holiday_breaths-111.wav',\n",
       " 'sleep_science_breaths-787.wav',\n",
       " 'holiday_breaths-130.wav',\n",
       " 'favorites_breaths-152.wav',\n",
       " 'favorites_breaths-242.wav',\n",
       " 'sleep_science_breaths-778.wav',\n",
       " 'sleep_science_breaths-255.wav',\n",
       " 'how_to_find_breaths-152.wav',\n",
       " 'how_to_find_breaths-44.wav',\n",
       " 'sleep_science_breaths-619.wav',\n",
       " 'favorites_breaths-101.wav',\n",
       " 'sleep_science_breaths-417.wav',\n",
       " 'sleep_science_breaths-248.wav',\n",
       " 'sleep_science_breaths-131.wav',\n",
       " 'how_to_find_breaths-332.wav',\n",
       " 'sleep_science_breaths-184.wav',\n",
       " 'sleep_science_breaths-409.wav',\n",
       " 'sleep_science_breaths-650.wav',\n",
       " 'favorites_breaths-239.wav',\n",
       " 'how_to_find_breaths-244.wav',\n",
       " 'favorites_breaths-234.wav',\n",
       " 'sleep_science_breaths-524.wav',\n",
       " 'favorites_breaths-167.wav',\n",
       " 'sleep_science_breaths-551.wav',\n",
       " 'how_to_find_breaths-185.wav',\n",
       " 'sleep_science_breaths-544.wav',\n",
       " 'sleep_science_breaths-226.wav',\n",
       " 'how_to_find_breaths-282.wav',\n",
       " 'sleep_science_breaths-345.wav',\n",
       " 'sleep_science_breaths-09.wav',\n",
       " 'how_to_find_breaths-347.wav',\n",
       " 'sleep_science_breaths-295.wav',\n",
       " 'holiday_breaths-101.wav',\n",
       " 'favorites_breaths-20.wav',\n",
       " 'how_to_find_breaths-153.wav',\n",
       " 'sleep_science_breaths-760.wav',\n",
       " 'how_to_find_breaths-270.wav',\n",
       " 'how_to_find_breaths-240.wav',\n",
       " 'favorites_breaths-07.wav',\n",
       " 'how_to_find_breaths-200.wav',\n",
       " 'sleep_science_breaths-591.wav',\n",
       " 'holiday_breaths-174.wav',\n",
       " 'sleep_science_breaths-471.wav',\n",
       " 'how_to_find_breaths-345.wav',\n",
       " 'sleep_science_breaths-679.wav',\n",
       " 'holiday_breaths-79.wav',\n",
       " 'sleep_science_breaths-508.wav',\n",
       " 'sleep_science_breaths-187.wav',\n",
       " 'sleep_science_breaths-201.wav',\n",
       " 'holiday_breaths-36.wav',\n",
       " 'sleep_science_breaths-273.wav',\n",
       " 'sleep_science_breaths-275.wav',\n",
       " 'sleep_science_breaths-649.wav',\n",
       " 'sleep_science_breaths-250.wav',\n",
       " 'sleep_science_breaths-740.wav',\n",
       " 'sleep_science_breaths-285.wav',\n",
       " 'how_to_find_breaths-324.wav',\n",
       " 'holiday_breaths-10.wav',\n",
       " 'sleep_science_breaths-56.wav',\n",
       " 'sleep_science_breaths-298.wav',\n",
       " 'sleep_science_breaths-422.wav',\n",
       " 'how_to_find_breaths-63.wav',\n",
       " 'sleep_science_breaths-272.wav',\n",
       " 'how_to_find_breaths-260.wav',\n",
       " 'how_to_find_breaths-288.wav',\n",
       " 'favorites_breaths-237.wav',\n",
       " 'sleep_science_breaths-570.wav',\n",
       " 'holiday_breaths-40.wav',\n",
       " 'favorites_breaths-179.wav',\n",
       " 'how_to_find_breaths-303.wav',\n",
       " 'sleep_science_breaths-536.wav',\n",
       " 'favorites_breaths-92.wav',\n",
       " 'how_to_find_breaths-53.wav',\n",
       " 'how_to_find_breaths-75.wav',\n",
       " 'sleep_science_breaths-523.wav',\n",
       " 'how_to_find_breaths-331.wav',\n",
       " 'sleep_science_breaths-290.wav',\n",
       " 'sleep_science_breaths-626.wav',\n",
       " 'sleep_science_breaths-47.wav',\n",
       " 'favorites_breaths-252.wav',\n",
       " 'sleep_science_breaths-308.wav',\n",
       " 'sleep_science_breaths-776.wav',\n",
       " 'holiday_breaths-19.wav',\n",
       " 'how_to_find_breaths-269.wav',\n",
       " 'holiday_breaths-102.wav',\n",
       " 'sleep_science_breaths-214.wav',\n",
       " 'sleep_science_breaths-635.wav',\n",
       " 'favorites_breaths-190.wav',\n",
       " 'how_to_find_breaths-292.wav',\n",
       " 'sleep_science_breaths-597.wav',\n",
       " 'sleep_science_breaths-411.wav',\n",
       " 'sleep_science_breaths-375.wav',\n",
       " 'holiday_breaths-110.wav',\n",
       " 'favorites_breaths-63.wav',\n",
       " 'favorites_breaths-58.wav',\n",
       " 'sleep_science_breaths-331.wav',\n",
       " 'sleep_science_breaths-616.wav',\n",
       " 'favorites_breaths-202.wav',\n",
       " 'sleep_science_breaths-682.wav',\n",
       " 'sleep_science_breaths-719.wav',\n",
       " 'sleep_science_breaths-283.wav',\n",
       " 'how_to_find_breaths-106.wav',\n",
       " 'holiday_breaths-136.wav',\n",
       " 'sleep_science_breaths-310.wav',\n",
       " 'sleep_science_breaths-713.wav',\n",
       " 'holiday_breaths-26.wav',\n",
       " 'sleep_science_breaths-234.wav',\n",
       " 'sleep_science_breaths-745.wav',\n",
       " 'favorites_breaths-43.wav',\n",
       " 'sleep_science_breaths-265.wav',\n",
       " 'sleep_science_breaths-361.wav',\n",
       " 'how_to_find_breaths-215.wav',\n",
       " 'sleep_science_breaths-686.wav',\n",
       " 'sleep_science_breaths-715.wav',\n",
       " 'sleep_science_breaths-386.wav',\n",
       " 'favorites_breaths-232.wav',\n",
       " 'favorites_breaths-113.wav',\n",
       " 'sleep_science_breaths-179.wav',\n",
       " 'how_to_find_breaths-04.wav',\n",
       " 'favorites_breaths-114.wav',\n",
       " 'how_to_find_breaths-333.wav',\n",
       " 'holiday_breaths-132.wav',\n",
       " 'sleep_science_breaths-231.wav',\n",
       " ...]"
      ]
     },
     "execution_count": 23,
     "metadata": {},
     "output_type": "execute_result"
    }
   ],
   "source": [
    "os.listdir(os.path.join('data','breaths'))"
   ]
  },
  {
   "cell_type": "code",
   "execution_count": 11,
   "metadata": {},
   "outputs": [
    {
     "data": {
      "text/plain": [
       "[15108,\n",
       " 8915,\n",
       " 10138,\n",
       " 18737,\n",
       " 16646,\n",
       " 17120,\n",
       " 12701,\n",
       " 11242,\n",
       " 6312,\n",
       " 10769,\n",
       " 13925,\n",
       " 23668,\n",
       " 16804,\n",
       " 29111,\n",
       " 22010,\n",
       " 25797,\n",
       " 18264,\n",
       " 17513,\n",
       " 25324,\n",
       " 8205,\n",
       " 16015,\n",
       " 7810,\n",
       " 17159,\n",
       " 17672,\n",
       " 16764,\n",
       " 11558,\n",
       " 13254,\n",
       " 8481,\n",
       " 9309,\n",
       " 13254,\n",
       " 20787,\n",
       " 8835,\n",
       " 11834,\n",
       " 14161,\n",
       " 18106,\n",
       " 10926,\n",
       " 11163,\n",
       " 18816,\n",
       " 20906,\n",
       " 14082,\n",
       " 17593,\n",
       " 9152,\n",
       " 14437,\n",
       " 9309,\n",
       " 16291,\n",
       " 11084,\n",
       " 5956,\n",
       " 14398,\n",
       " 16883,\n",
       " 14239,\n",
       " 19131,\n",
       " 24811,\n",
       " 14003,\n",
       " 8915,\n",
       " 9743,\n",
       " 13530,\n",
       " 22562,\n",
       " 19841,\n",
       " 11439,\n",
       " 9743,\n",
       " 12031,\n",
       " 11123,\n",
       " 12504,\n",
       " 17277,\n",
       " 18539,\n",
       " 22129,\n",
       " 11676,\n",
       " 12070,\n",
       " 15265,\n",
       " 11202,\n",
       " 10730,\n",
       " 26626,\n",
       " 26626,\n",
       " 14319,\n",
       " 11716,\n",
       " 23825,\n",
       " 9822,\n",
       " 24890,\n",
       " 7415,\n",
       " 14634,\n",
       " 11163,\n",
       " 11873,\n",
       " 12071,\n",
       " 7810,\n",
       " 15699,\n",
       " 14043,\n",
       " 13017,\n",
       " 12188,\n",
       " 21143,\n",
       " 23036,\n",
       " 12149,\n",
       " 16015,\n",
       " 17948,\n",
       " 17277,\n",
       " 19723,\n",
       " 12899,\n",
       " 31635,\n",
       " 26862,\n",
       " 14082,\n",
       " 11755,\n",
       " 14635,\n",
       " 9821,\n",
       " 8087,\n",
       " 12228,\n",
       " 6784,\n",
       " 12819,\n",
       " 26784,\n",
       " 24811,\n",
       " 25048,\n",
       " 8559,\n",
       " 11006,\n",
       " 28755,\n",
       " 16646,\n",
       " 9861,\n",
       " 26153,\n",
       " 10848,\n",
       " 18855,\n",
       " 15541,\n",
       " 21971,\n",
       " 8402,\n",
       " 8481,\n",
       " 8876,\n",
       " 8994,\n",
       " 19249,\n",
       " 14042,\n",
       " 9546,\n",
       " 12623,\n",
       " 9231,\n",
       " 24930,\n",
       " 8638,\n",
       " 15700,\n",
       " 7928,\n",
       " 8836,\n",
       " 13333,\n",
       " 23351,\n",
       " 6863,\n",
       " 16607,\n",
       " 13175,\n",
       " 14477,\n",
       " 20117,\n",
       " 15976,\n",
       " 12938,\n",
       " 10887,\n",
       " 11992,\n",
       " 14042,\n",
       " 10808,\n",
       " 14556,\n",
       " 18302,\n",
       " 23036,\n",
       " 10335,\n",
       " 17198,\n",
       " 26113,\n",
       " 11281,\n",
       " 10177,\n",
       " 16685,\n",
       " 10689,\n",
       " 10532,\n",
       " 30807,\n",
       " 7732,\n",
       " 26153,\n",
       " 26192,\n",
       " 31991,\n",
       " 15265,\n",
       " 20236,\n",
       " 11360,\n",
       " 33055,\n",
       " 10572,\n",
       " 27297,\n",
       " 13017,\n",
       " 12189,\n",
       " 12978,\n",
       " 20946,\n",
       " 14397,\n",
       " 11321,\n",
       " 23588,\n",
       " 11557,\n",
       " 15502,\n",
       " 24772,\n",
       " 10729,\n",
       " 30965,\n",
       " 15463,\n",
       " 17947,\n",
       " 12188,\n",
       " 15423,\n",
       " 12820,\n",
       " 13214,\n",
       " 11163,\n",
       " 24811,\n",
       " 5523,\n",
       " 13135,\n",
       " 13214,\n",
       " 18066,\n",
       " 15857,\n",
       " 9231,\n",
       " 11202,\n",
       " 19526,\n",
       " 24141,\n",
       " 15068,\n",
       " 12583,\n",
       " 13333,\n",
       " 10887,\n",
       " 17119,\n",
       " 16172,\n",
       " 14831,\n",
       " 12228,\n",
       " 11400,\n",
       " 17593,\n",
       " 15857,\n",
       " 11400,\n",
       " 11399,\n",
       " 8914,\n",
       " 9190,\n",
       " 8244,\n",
       " 11005,\n",
       " 5404,\n",
       " 10019,\n",
       " 26783,\n",
       " 8796,\n",
       " 9467,\n",
       " 15383,\n",
       " 14004,\n",
       " 18895,\n",
       " 13727,\n",
       " 12465,\n",
       " 27966,\n",
       " 10295,\n",
       " 9072,\n",
       " 16685,\n",
       " 21932,\n",
       " 16567,\n",
       " 15226,\n",
       " 11123,\n",
       " 16330,\n",
       " 16133,\n",
       " 20393,\n",
       " 16212,\n",
       " 12701,\n",
       " 16212,\n",
       " 13491,\n",
       " 14516,\n",
       " 10137,\n",
       " 16567,\n",
       " 13214,\n",
       " 11676,\n",
       " 30057,\n",
       " 11320,\n",
       " 22562,\n",
       " 16094,\n",
       " 16251,\n",
       " 21221,\n",
       " 13096,\n",
       " 9506,\n",
       " 9309,\n",
       " 19171,\n",
       " 15423,\n",
       " 14437,\n",
       " 26941,\n",
       " 16488,\n",
       " 22642,\n",
       " 11479,\n",
       " 21182,\n",
       " 11005,\n",
       " 5286,\n",
       " 9664,\n",
       " 6903,\n",
       " 18974,\n",
       " 10689,\n",
       " 13491,\n",
       " 17632,\n",
       " 6548,\n",
       " 9230,\n",
       " 15304,\n",
       " 15620,\n",
       " 6982,\n",
       " 13924,\n",
       " 15738,\n",
       " 18105,\n",
       " 26625,\n",
       " 27927,\n",
       " 19644,\n",
       " 9506,\n",
       " 13214,\n",
       " 21419,\n",
       " 11321,\n",
       " 9467,\n",
       " 11242,\n",
       " 15384,\n",
       " 19446,\n",
       " 20038,\n",
       " 16883,\n",
       " 10177,\n",
       " 17317,\n",
       " 15818,\n",
       " 16212,\n",
       " 20196,\n",
       " 14713,\n",
       " 8401,\n",
       " 18579,\n",
       " 13017,\n",
       " 13411,\n",
       " 12583,\n",
       " 7298,\n",
       " 12346,\n",
       " 14160,\n",
       " 28401,\n",
       " 8087,\n",
       " 21813,\n",
       " 27414,\n",
       " 17514,\n",
       " 12781,\n",
       " 11163,\n",
       " 9349,\n",
       " 9821,\n",
       " 26231,\n",
       " 21497,\n",
       " 7337,\n",
       " 20749,\n",
       " 12702,\n",
       " 16055,\n",
       " 11163,\n",
       " 19841,\n",
       " 19052,\n",
       " 8796,\n",
       " 20630,\n",
       " 8639,\n",
       " 11754,\n",
       " 10413,\n",
       " 15344,\n",
       " 23115,\n",
       " 22839,\n",
       " 7968,\n",
       " 12268,\n",
       " 13924,\n",
       " 13254,\n",
       " 11045,\n",
       " 13253,\n",
       " 21222,\n",
       " 11952,\n",
       " 17040,\n",
       " 21853,\n",
       " 17396,\n",
       " 9033,\n",
       " 23155,\n",
       " 10334,\n",
       " 19486,\n",
       " 6627,\n",
       " 12938,\n",
       " 15345,\n",
       " 9782,\n",
       " 22326,\n",
       " 23273,\n",
       " 15857,\n",
       " 20275,\n",
       " 16133,\n",
       " 13490,\n",
       " 19644,\n",
       " 8086,\n",
       " 13174,\n",
       " 11282,\n",
       " 9191,\n",
       " 15266,\n",
       " 19920,\n",
       " 17829,\n",
       " 11596,\n",
       " 19644,\n",
       " 25482,\n",
       " 7218,\n",
       " 20630,\n",
       " 32543,\n",
       " 15186,\n",
       " 12070,\n",
       " 11992,\n",
       " 9782,\n",
       " 31990]"
      ]
     },
     "execution_count": 11,
     "metadata": {},
     "output_type": "execute_result"
    }
   ],
   "source": [
    "lengths"
   ]
  },
  {
   "cell_type": "markdown",
   "metadata": {},
   "source": [
    "## 4.2 Calculate Mean, Min and Max"
   ]
  },
  {
   "cell_type": "code",
   "execution_count": 12,
   "metadata": {
    "jupyter": {
     "source_hidden": true
    },
    "tags": []
   },
   "outputs": [
    {
     "data": {
      "text/plain": [
       "<tf.Tensor: shape=(), dtype=int32, numpy=15332>"
      ]
     },
     "execution_count": 12,
     "metadata": {},
     "output_type": "execute_result"
    }
   ],
   "source": [
    "tf.math.reduce_mean(lengths)"
   ]
  },
  {
   "cell_type": "code",
   "execution_count": 13,
   "metadata": {
    "jupyter": {
     "source_hidden": true
    },
    "tags": []
   },
   "outputs": [
    {
     "data": {
      "text/plain": [
       "<tf.Tensor: shape=(), dtype=int32, numpy=5286>"
      ]
     },
     "execution_count": 13,
     "metadata": {},
     "output_type": "execute_result"
    }
   ],
   "source": [
    "tf.math.reduce_min(lengths)"
   ]
  },
  {
   "cell_type": "code",
   "execution_count": 14,
   "metadata": {
    "jupyter": {
     "source_hidden": true
    },
    "scrolled": true,
    "tags": []
   },
   "outputs": [
    {
     "data": {
      "text/plain": [
       "<tf.Tensor: shape=(), dtype=int32, numpy=33055>"
      ]
     },
     "execution_count": 14,
     "metadata": {},
     "output_type": "execute_result"
    }
   ],
   "source": [
    "tf.math.reduce_max(lengths)"
   ]
  },
  {
   "cell_type": "code",
   "execution_count": 29,
   "metadata": {},
   "outputs": [],
   "source": [
    "BREATH_LENGTH=33055\n",
    "SAMPLE_RATE=44100"
   ]
  },
  {
   "cell_type": "markdown",
   "metadata": {},
   "source": [
    "# 5. Build Preprocessing Function to Convert to Spectrogram"
   ]
  },
  {
   "cell_type": "markdown",
   "metadata": {},
   "source": [
    "## 5.1 Build Preprocessing Function"
   ]
  },
  {
   "cell_type": "code",
   "execution_count": 16,
   "metadata": {},
   "outputs": [
    {
     "name": "stdout",
     "output_type": "stream",
     "text": [
      "Defaulting to user installation because normal site-packages is not writeable\n",
      "Requirement already satisfied: colorama==0.3.9 in /home/jrodriguez/.local/lib/python3.6/site-packages (0.3.9)\n"
     ]
    }
   ],
   "source": [
    "!pip install colorama==0.3.9"
   ]
  },
  {
   "cell_type": "code",
   "execution_count": 25,
   "metadata": {},
   "outputs": [],
   "source": [
    "import librosa\n",
    "import librosa.display"
   ]
  },
  {
   "cell_type": "code",
   "execution_count": 26,
   "metadata": {},
   "outputs": [],
   "source": [
    "def mel_preprocess(file_path, label): \n",
    "    samples, sr = librosa.load(file_path, sr=SAMPLE_RATE)\n",
    "    spectrogram = librosa.stft(samples)\n",
    "    sgram_mag, _ = librosa.magphase(spectrogram)\n",
    "    mel_scale_sgram = librosa.feature.melspectrogram(S=sgram_mag, sr=SAMPLE_RATE)\n",
    "    # Make mel spectrogram more readable\n",
    "    mel_sgram = librosa.amplitude_to_db(mel_scale_sgram)\n",
    "    # Increase spectrogram dimensions\n",
    "    #librosa.util.expand_to(mel_sgram, ndim=4, axes=[1,2])\n",
    "    #mel_scale_sgram = tf.expand_dims(mel_scale_sgram, axis=2)\n",
    "    return mel_sgram, label"
   ]
  },
  {
   "cell_type": "markdown",
   "metadata": {},
   "source": [
    "## 5.2 Test Out the Function and Visualize Mel Spectrogram"
   ]
  },
  {
   "cell_type": "code",
   "execution_count": 27,
   "metadata": {
    "jupyter": {
     "source_hidden": true
    },
    "tags": []
   },
   "outputs": [],
   "source": [
    "filepath, label = positives.shuffle(buffer_size=10000).as_numpy_iterator().next()"
   ]
  },
  {
   "cell_type": "code",
   "execution_count": 30,
   "metadata": {
    "jupyter": {
     "source_hidden": true
    },
    "tags": []
   },
   "outputs": [],
   "source": [
    "spectrogram, label = mel_preprocess(filepath, label)"
   ]
  },
  {
   "cell_type": "code",
   "execution_count": 31,
   "metadata": {
    "jupyter": {
     "source_hidden": true
    },
    "tags": []
   },
   "outputs": [
    {
     "data": {
      "text/plain": [
       "<matplotlib.colorbar.Colorbar at 0x7f4394936208>"
      ]
     },
     "execution_count": 31,
     "metadata": {},
     "output_type": "execute_result"
    },
    {
     "data": {
      "image/png": "[encoded data removed]",
      "text/plain": [
       "<Figure size 432x288 with 2 Axes>"
      ]
     },
     "metadata": {
      "needs_background": "light"
     },
     "output_type": "display_data"
    }
   ],
   "source": [
    "#Display mel spectrogram\n",
    "librosa.display.specshow(spectrogram, sr=44100, x_axis='time', y_axis='mel')\n",
    "plt.colorbar(format='%+2.0f dB')"
   ]
  },
  {
   "cell_type": "markdown",
   "metadata": {},
   "source": [
    "# 6. Create Training and Testing Partitions"
   ]
  },
  {
   "cell_type": "markdown",
   "metadata": {},
   "source": [
    "## 6.1 Create a Tensorflow Data Pipeline"
   ]
  },
  {
   "cell_type": "code",
   "execution_count": 474,
   "metadata": {
    "scrolled": true
   },
   "outputs": [
    {
     "data": {
      "text/plain": [
       "(array([0.00113555, 0.00135254, 0.0013533 , ..., 0.00602284, 0.00759717,\n",
       "        0.        ], dtype=float32),\n",
       " 41000)"
      ]
     },
     "execution_count": 474,
     "metadata": {},
     "output_type": "execute_result"
    }
   ],
   "source": [
    "filepath, label = data.shuffle(buffer_size=10000).as_numpy_iterator().next()\n",
    "librosa.load(filepath, sr=41000)"
   ]
  },
  {
   "cell_type": "code",
   "execution_count": 55,
   "metadata": {},
   "outputs": [
    {
     "ename": "AttributeError",
     "evalue": "'ConcatenateDataset' object has no attribute 'dataset'",
     "output_type": "error",
     "traceback": [
      "\u001b[0;31m---------------------------------------------------------------------------\u001b[0m",
      "\u001b[0;31mAttributeError\u001b[0m                            Traceback (most recent call last)",
      "\u001b[0;32m<ipython-input-55-b417fe7da0ac>\u001b[0m in \u001b[0;36m<module>\u001b[0;34m\u001b[0m\n\u001b[0;32m----> 1\u001b[0;31m \u001b[0mtype\u001b[0m\u001b[0;34m(\u001b[0m\u001b[0mdata\u001b[0m\u001b[0;34m.\u001b[0m\u001b[0mdataset\u001b[0m\u001b[0;34m)\u001b[0m\u001b[0;34m\u001b[0m\u001b[0;34m\u001b[0m\u001b[0m\n\u001b[0m",
      "\u001b[0;31mAttributeError\u001b[0m: 'ConcatenateDataset' object has no attribute 'dataset'"
     ]
    }
   ],
   "source": [
    "type(data.Dataset)"
   ]
  },
  {
   "cell_type": "code",
   "execution_count": 31,
   "metadata": {
    "jupyter": {
     "source_hidden": true
    },
    "tags": []
   },
   "outputs": [
    {
     "ename": "TypeError",
     "evalue": "in user code:\n\n    <ipython-input-18-db9e8d1943aa>:2 mel_preprocess  *\n        samples, sr = librosa.load(file_path, sr=SAMPLE_RATE)\n    /home/jrodriguez/.local/lib/python3.6/site-packages/librosa/util/decorators.py:51 inner_f  *\n        return f(*args, **kwargs)\n    /home/jrodriguez/.local/lib/python3.6/site-packages/librosa/core/audio.py:164 load  *\n        y, sr_native = __soundfile_load(path, offset, duration, dtype)\n    /home/jrodriguez/.local/lib/python3.6/site-packages/librosa/core/audio.py:195 __soundfile_load  *\n        context = sf.SoundFile(path)\n    /home/jrodriguez/.local/lib/python3.6/site-packages/soundfile.py:655 __init__  **\n        self._file = self._open(file, mode_int, closefd)\n    /home/jrodriguez/.local/lib/python3.6/site-packages/soundfile.py:1209 _open\n        raise TypeError(\"Invalid file: {0!r}\".format(self.name))\n\n    TypeError: Invalid file: <tf.Tensor 'args_0:0' shape=() dtype=string>\n",
     "output_type": "error",
     "traceback": [
      "\u001b[0;31m---------------------------------------------------------------------------\u001b[0m",
      "\u001b[0;31mTypeError\u001b[0m                                 Traceback (most recent call last)",
      "\u001b[0;32m<ipython-input-31-d9f075b472e2>\u001b[0m in \u001b[0;36m<module>\u001b[0;34m\u001b[0m\n\u001b[0;32m----> 1\u001b[0;31m \u001b[0mdata\u001b[0m \u001b[0;34m=\u001b[0m \u001b[0mdata\u001b[0m\u001b[0;34m.\u001b[0m\u001b[0mmap\u001b[0m\u001b[0;34m(\u001b[0m\u001b[0mmel_preprocess\u001b[0m\u001b[0;34m)\u001b[0m\u001b[0;34m\u001b[0m\u001b[0;34m\u001b[0m\u001b[0m\n\u001b[0m\u001b[1;32m      2\u001b[0m \u001b[0mdata\u001b[0m \u001b[0;34m=\u001b[0m \u001b[0mdata\u001b[0m\u001b[0;34m.\u001b[0m\u001b[0mcache\u001b[0m\u001b[0;34m(\u001b[0m\u001b[0;34m)\u001b[0m\u001b[0;34m\u001b[0m\u001b[0;34m\u001b[0m\u001b[0m\n\u001b[1;32m      3\u001b[0m \u001b[0mdata\u001b[0m \u001b[0;34m=\u001b[0m \u001b[0mdata\u001b[0m\u001b[0;34m.\u001b[0m\u001b[0mshuffle\u001b[0m\u001b[0;34m(\u001b[0m\u001b[0mbuffer_size\u001b[0m\u001b[0;34m=\u001b[0m\u001b[0;36m1000\u001b[0m\u001b[0;34m)\u001b[0m\u001b[0;34m\u001b[0m\u001b[0;34m\u001b[0m\u001b[0m\n\u001b[1;32m      4\u001b[0m \u001b[0mdata\u001b[0m \u001b[0;34m=\u001b[0m \u001b[0mdata\u001b[0m\u001b[0;34m.\u001b[0m\u001b[0mbatch\u001b[0m\u001b[0;34m(\u001b[0m\u001b[0;36m16\u001b[0m\u001b[0;34m)\u001b[0m\u001b[0;34m\u001b[0m\u001b[0;34m\u001b[0m\u001b[0m\n\u001b[1;32m      5\u001b[0m \u001b[0mdata\u001b[0m \u001b[0;34m=\u001b[0m \u001b[0mdata\u001b[0m\u001b[0;34m.\u001b[0m\u001b[0mprefetch\u001b[0m\u001b[0;34m(\u001b[0m\u001b[0;36m8\u001b[0m\u001b[0;34m)\u001b[0m\u001b[0;34m\u001b[0m\u001b[0;34m\u001b[0m\u001b[0m\n",
      "\u001b[0;32m~/.local/lib/python3.6/site-packages/tensorflow/python/data/ops/dataset_ops.py\u001b[0m in \u001b[0;36mmap\u001b[0;34m(self, map_func, num_parallel_calls, deterministic)\u001b[0m\n\u001b[1;32m   1859\u001b[0m         warnings.warn(\"The `deterministic` argument has no effect unless the \"\n\u001b[1;32m   1860\u001b[0m                       \"`num_parallel_calls` argument is specified.\")\n\u001b[0;32m-> 1861\u001b[0;31m       \u001b[0;32mreturn\u001b[0m \u001b[0mMapDataset\u001b[0m\u001b[0;34m(\u001b[0m\u001b[0mself\u001b[0m\u001b[0;34m,\u001b[0m \u001b[0mmap_func\u001b[0m\u001b[0;34m,\u001b[0m \u001b[0mpreserve_cardinality\u001b[0m\u001b[0;34m=\u001b[0m\u001b[0;32mTrue\u001b[0m\u001b[0;34m)\u001b[0m\u001b[0;34m\u001b[0m\u001b[0;34m\u001b[0m\u001b[0m\n\u001b[0m\u001b[1;32m   1862\u001b[0m     \u001b[0;32melse\u001b[0m\u001b[0;34m:\u001b[0m\u001b[0;34m\u001b[0m\u001b[0;34m\u001b[0m\u001b[0m\n\u001b[1;32m   1863\u001b[0m       return ParallelMapDataset(\n",
      "\u001b[0;32m~/.local/lib/python3.6/site-packages/tensorflow/python/data/ops/dataset_ops.py\u001b[0m in \u001b[0;36m__init__\u001b[0;34m(self, input_dataset, map_func, use_inter_op_parallelism, preserve_cardinality, use_legacy_function)\u001b[0m\n\u001b[1;32m   4983\u001b[0m         \u001b[0mself\u001b[0m\u001b[0;34m.\u001b[0m\u001b[0m_transformation_name\u001b[0m\u001b[0;34m(\u001b[0m\u001b[0;34m)\u001b[0m\u001b[0;34m,\u001b[0m\u001b[0;34m\u001b[0m\u001b[0;34m\u001b[0m\u001b[0m\n\u001b[1;32m   4984\u001b[0m         \u001b[0mdataset\u001b[0m\u001b[0;34m=\u001b[0m\u001b[0minput_dataset\u001b[0m\u001b[0;34m,\u001b[0m\u001b[0;34m\u001b[0m\u001b[0;34m\u001b[0m\u001b[0m\n\u001b[0;32m-> 4985\u001b[0;31m         use_legacy_function=use_legacy_function)\n\u001b[0m\u001b[1;32m   4986\u001b[0m     variant_tensor = gen_dataset_ops.map_dataset(\n\u001b[1;32m   4987\u001b[0m         \u001b[0minput_dataset\u001b[0m\u001b[0;34m.\u001b[0m\u001b[0m_variant_tensor\u001b[0m\u001b[0;34m,\u001b[0m  \u001b[0;31m# pylint: disable=protected-access\u001b[0m\u001b[0;34m\u001b[0m\u001b[0;34m\u001b[0m\u001b[0m\n",
      "\u001b[0;32m~/.local/lib/python3.6/site-packages/tensorflow/python/data/ops/dataset_ops.py\u001b[0m in \u001b[0;36m__init__\u001b[0;34m(self, func, transformation_name, dataset, input_classes, input_shapes, input_types, input_structure, add_to_graph, use_legacy_function, defun_kwargs)\u001b[0m\n\u001b[1;32m   4216\u001b[0m         \u001b[0mfn_factory\u001b[0m \u001b[0;34m=\u001b[0m \u001b[0mtrace_tf_function\u001b[0m\u001b[0;34m(\u001b[0m\u001b[0mdefun_kwargs\u001b[0m\u001b[0;34m)\u001b[0m\u001b[0;34m\u001b[0m\u001b[0;34m\u001b[0m\u001b[0m\n\u001b[1;32m   4217\u001b[0m \u001b[0;34m\u001b[0m\u001b[0m\n\u001b[0;32m-> 4218\u001b[0;31m     \u001b[0mself\u001b[0m\u001b[0;34m.\u001b[0m\u001b[0m_function\u001b[0m \u001b[0;34m=\u001b[0m \u001b[0mfn_factory\u001b[0m\u001b[0;34m(\u001b[0m\u001b[0;34m)\u001b[0m\u001b[0;34m\u001b[0m\u001b[0;34m\u001b[0m\u001b[0m\n\u001b[0m\u001b[1;32m   4219\u001b[0m     \u001b[0;31m# There is no graph to add in eager mode.\u001b[0m\u001b[0;34m\u001b[0m\u001b[0;34m\u001b[0m\u001b[0;34m\u001b[0m\u001b[0m\n\u001b[1;32m   4220\u001b[0m     \u001b[0madd_to_graph\u001b[0m \u001b[0;34m&=\u001b[0m \u001b[0;32mnot\u001b[0m \u001b[0mcontext\u001b[0m\u001b[0;34m.\u001b[0m\u001b[0mexecuting_eagerly\u001b[0m\u001b[0;34m(\u001b[0m\u001b[0;34m)\u001b[0m\u001b[0;34m\u001b[0m\u001b[0;34m\u001b[0m\u001b[0m\n",
      "\u001b[0;32m~/.local/lib/python3.6/site-packages/tensorflow/python/eager/function.py\u001b[0m in \u001b[0;36mget_concrete_function\u001b[0;34m(self, *args, **kwargs)\u001b[0m\n\u001b[1;32m   3149\u001b[0m     \"\"\"\n\u001b[1;32m   3150\u001b[0m     graph_function = self._get_concrete_function_garbage_collected(\n\u001b[0;32m-> 3151\u001b[0;31m         *args, **kwargs)\n\u001b[0m\u001b[1;32m   3152\u001b[0m     \u001b[0mgraph_function\u001b[0m\u001b[0;34m.\u001b[0m\u001b[0m_garbage_collector\u001b[0m\u001b[0;34m.\u001b[0m\u001b[0mrelease\u001b[0m\u001b[0;34m(\u001b[0m\u001b[0;34m)\u001b[0m  \u001b[0;31m# pylint: disable=protected-access\u001b[0m\u001b[0;34m\u001b[0m\u001b[0;34m\u001b[0m\u001b[0m\n\u001b[1;32m   3153\u001b[0m     \u001b[0;32mreturn\u001b[0m \u001b[0mgraph_function\u001b[0m\u001b[0;34m\u001b[0m\u001b[0;34m\u001b[0m\u001b[0m\n",
      "\u001b[0;32m~/.local/lib/python3.6/site-packages/tensorflow/python/eager/function.py\u001b[0m in \u001b[0;36m_get_concrete_function_garbage_collected\u001b[0;34m(self, *args, **kwargs)\u001b[0m\n\u001b[1;32m   3114\u001b[0m       \u001b[0margs\u001b[0m\u001b[0;34m,\u001b[0m \u001b[0mkwargs\u001b[0m \u001b[0;34m=\u001b[0m \u001b[0;32mNone\u001b[0m\u001b[0;34m,\u001b[0m \u001b[0;32mNone\u001b[0m\u001b[0;34m\u001b[0m\u001b[0;34m\u001b[0m\u001b[0m\n\u001b[1;32m   3115\u001b[0m     \u001b[0;32mwith\u001b[0m \u001b[0mself\u001b[0m\u001b[0;34m.\u001b[0m\u001b[0m_lock\u001b[0m\u001b[0;34m:\u001b[0m\u001b[0;34m\u001b[0m\u001b[0;34m\u001b[0m\u001b[0m\n\u001b[0;32m-> 3116\u001b[0;31m       \u001b[0mgraph_function\u001b[0m\u001b[0;34m,\u001b[0m \u001b[0m_\u001b[0m \u001b[0;34m=\u001b[0m \u001b[0mself\u001b[0m\u001b[0;34m.\u001b[0m\u001b[0m_maybe_define_function\u001b[0m\u001b[0;34m(\u001b[0m\u001b[0margs\u001b[0m\u001b[0;34m,\u001b[0m \u001b[0mkwargs\u001b[0m\u001b[0;34m)\u001b[0m\u001b[0;34m\u001b[0m\u001b[0;34m\u001b[0m\u001b[0m\n\u001b[0m\u001b[1;32m   3117\u001b[0m       \u001b[0mseen_names\u001b[0m \u001b[0;34m=\u001b[0m \u001b[0mset\u001b[0m\u001b[0;34m(\u001b[0m\u001b[0;34m)\u001b[0m\u001b[0;34m\u001b[0m\u001b[0;34m\u001b[0m\u001b[0m\n\u001b[1;32m   3118\u001b[0m       captured = object_identity.ObjectIdentitySet(\n",
      "\u001b[0;32m~/.local/lib/python3.6/site-packages/tensorflow/python/eager/function.py\u001b[0m in \u001b[0;36m_maybe_define_function\u001b[0;34m(self, args, kwargs)\u001b[0m\n\u001b[1;32m   3461\u001b[0m \u001b[0;34m\u001b[0m\u001b[0m\n\u001b[1;32m   3462\u001b[0m           \u001b[0mself\u001b[0m\u001b[0;34m.\u001b[0m\u001b[0m_function_cache\u001b[0m\u001b[0;34m.\u001b[0m\u001b[0mmissed\u001b[0m\u001b[0;34m.\u001b[0m\u001b[0madd\u001b[0m\u001b[0;34m(\u001b[0m\u001b[0mcall_context_key\u001b[0m\u001b[0;34m)\u001b[0m\u001b[0;34m\u001b[0m\u001b[0;34m\u001b[0m\u001b[0m\n\u001b[0;32m-> 3463\u001b[0;31m           \u001b[0mgraph_function\u001b[0m \u001b[0;34m=\u001b[0m \u001b[0mself\u001b[0m\u001b[0;34m.\u001b[0m\u001b[0m_create_graph_function\u001b[0m\u001b[0;34m(\u001b[0m\u001b[0margs\u001b[0m\u001b[0;34m,\u001b[0m \u001b[0mkwargs\u001b[0m\u001b[0;34m)\u001b[0m\u001b[0;34m\u001b[0m\u001b[0;34m\u001b[0m\u001b[0m\n\u001b[0m\u001b[1;32m   3464\u001b[0m           \u001b[0mself\u001b[0m\u001b[0;34m.\u001b[0m\u001b[0m_function_cache\u001b[0m\u001b[0;34m.\u001b[0m\u001b[0mprimary\u001b[0m\u001b[0;34m[\u001b[0m\u001b[0mcache_key\u001b[0m\u001b[0;34m]\u001b[0m \u001b[0;34m=\u001b[0m \u001b[0mgraph_function\u001b[0m\u001b[0;34m\u001b[0m\u001b[0;34m\u001b[0m\u001b[0m\n\u001b[1;32m   3465\u001b[0m \u001b[0;34m\u001b[0m\u001b[0m\n",
      "\u001b[0;32m~/.local/lib/python3.6/site-packages/tensorflow/python/eager/function.py\u001b[0m in \u001b[0;36m_create_graph_function\u001b[0;34m(self, args, kwargs, override_flat_arg_shapes)\u001b[0m\n\u001b[1;32m   3306\u001b[0m             \u001b[0marg_names\u001b[0m\u001b[0;34m=\u001b[0m\u001b[0marg_names\u001b[0m\u001b[0;34m,\u001b[0m\u001b[0;34m\u001b[0m\u001b[0;34m\u001b[0m\u001b[0m\n\u001b[1;32m   3307\u001b[0m             \u001b[0moverride_flat_arg_shapes\u001b[0m\u001b[0;34m=\u001b[0m\u001b[0moverride_flat_arg_shapes\u001b[0m\u001b[0;34m,\u001b[0m\u001b[0;34m\u001b[0m\u001b[0;34m\u001b[0m\u001b[0m\n\u001b[0;32m-> 3308\u001b[0;31m             capture_by_value=self._capture_by_value),\n\u001b[0m\u001b[1;32m   3309\u001b[0m         \u001b[0mself\u001b[0m\u001b[0;34m.\u001b[0m\u001b[0m_function_attributes\u001b[0m\u001b[0;34m,\u001b[0m\u001b[0;34m\u001b[0m\u001b[0;34m\u001b[0m\u001b[0m\n\u001b[1;32m   3310\u001b[0m         \u001b[0mfunction_spec\u001b[0m\u001b[0;34m=\u001b[0m\u001b[0mself\u001b[0m\u001b[0;34m.\u001b[0m\u001b[0mfunction_spec\u001b[0m\u001b[0;34m,\u001b[0m\u001b[0;34m\u001b[0m\u001b[0;34m\u001b[0m\u001b[0m\n",
      "\u001b[0;32m~/.local/lib/python3.6/site-packages/tensorflow/python/framework/func_graph.py\u001b[0m in \u001b[0;36mfunc_graph_from_py_func\u001b[0;34m(name, python_func, args, kwargs, signature, func_graph, autograph, autograph_options, add_control_dependencies, arg_names, op_return_value, collections, capture_by_value, override_flat_arg_shapes, acd_record_initial_resource_uses)\u001b[0m\n\u001b[1;32m   1005\u001b[0m         \u001b[0m_\u001b[0m\u001b[0;34m,\u001b[0m \u001b[0moriginal_func\u001b[0m \u001b[0;34m=\u001b[0m \u001b[0mtf_decorator\u001b[0m\u001b[0;34m.\u001b[0m\u001b[0munwrap\u001b[0m\u001b[0;34m(\u001b[0m\u001b[0mpython_func\u001b[0m\u001b[0;34m)\u001b[0m\u001b[0;34m\u001b[0m\u001b[0;34m\u001b[0m\u001b[0m\n\u001b[1;32m   1006\u001b[0m \u001b[0;34m\u001b[0m\u001b[0m\n\u001b[0;32m-> 1007\u001b[0;31m       \u001b[0mfunc_outputs\u001b[0m \u001b[0;34m=\u001b[0m \u001b[0mpython_func\u001b[0m\u001b[0;34m(\u001b[0m\u001b[0;34m*\u001b[0m\u001b[0mfunc_args\u001b[0m\u001b[0;34m,\u001b[0m \u001b[0;34m**\u001b[0m\u001b[0mfunc_kwargs\u001b[0m\u001b[0;34m)\u001b[0m\u001b[0;34m\u001b[0m\u001b[0;34m\u001b[0m\u001b[0m\n\u001b[0m\u001b[1;32m   1008\u001b[0m \u001b[0;34m\u001b[0m\u001b[0m\n\u001b[1;32m   1009\u001b[0m       \u001b[0;31m# invariant: `func_outputs` contains only Tensors, CompositeTensors,\u001b[0m\u001b[0;34m\u001b[0m\u001b[0;34m\u001b[0m\u001b[0;34m\u001b[0m\u001b[0m\n",
      "\u001b[0;32m~/.local/lib/python3.6/site-packages/tensorflow/python/data/ops/dataset_ops.py\u001b[0m in \u001b[0;36mwrapped_fn\u001b[0;34m(*args)\u001b[0m\n\u001b[1;32m   4193\u001b[0m           attributes=defun_kwargs)\n\u001b[1;32m   4194\u001b[0m       \u001b[0;32mdef\u001b[0m \u001b[0mwrapped_fn\u001b[0m\u001b[0;34m(\u001b[0m\u001b[0;34m*\u001b[0m\u001b[0margs\u001b[0m\u001b[0;34m)\u001b[0m\u001b[0;34m:\u001b[0m  \u001b[0;31m# pylint: disable=missing-docstring\u001b[0m\u001b[0;34m\u001b[0m\u001b[0;34m\u001b[0m\u001b[0m\n\u001b[0;32m-> 4195\u001b[0;31m         \u001b[0mret\u001b[0m \u001b[0;34m=\u001b[0m \u001b[0mwrapper_helper\u001b[0m\u001b[0;34m(\u001b[0m\u001b[0;34m*\u001b[0m\u001b[0margs\u001b[0m\u001b[0;34m)\u001b[0m\u001b[0;34m\u001b[0m\u001b[0;34m\u001b[0m\u001b[0m\n\u001b[0m\u001b[1;32m   4196\u001b[0m         \u001b[0mret\u001b[0m \u001b[0;34m=\u001b[0m \u001b[0mstructure\u001b[0m\u001b[0;34m.\u001b[0m\u001b[0mto_tensor_list\u001b[0m\u001b[0;34m(\u001b[0m\u001b[0mself\u001b[0m\u001b[0;34m.\u001b[0m\u001b[0m_output_structure\u001b[0m\u001b[0;34m,\u001b[0m \u001b[0mret\u001b[0m\u001b[0;34m)\u001b[0m\u001b[0;34m\u001b[0m\u001b[0;34m\u001b[0m\u001b[0m\n\u001b[1;32m   4197\u001b[0m         \u001b[0;32mreturn\u001b[0m \u001b[0;34m[\u001b[0m\u001b[0mops\u001b[0m\u001b[0;34m.\u001b[0m\u001b[0mconvert_to_tensor\u001b[0m\u001b[0;34m(\u001b[0m\u001b[0mt\u001b[0m\u001b[0;34m)\u001b[0m \u001b[0;32mfor\u001b[0m \u001b[0mt\u001b[0m \u001b[0;32min\u001b[0m \u001b[0mret\u001b[0m\u001b[0;34m]\u001b[0m\u001b[0;34m\u001b[0m\u001b[0;34m\u001b[0m\u001b[0m\n",
      "\u001b[0;32m~/.local/lib/python3.6/site-packages/tensorflow/python/data/ops/dataset_ops.py\u001b[0m in \u001b[0;36mwrapper_helper\u001b[0;34m(*args)\u001b[0m\n\u001b[1;32m   4123\u001b[0m       \u001b[0;32mif\u001b[0m \u001b[0;32mnot\u001b[0m \u001b[0m_should_unpack\u001b[0m\u001b[0;34m(\u001b[0m\u001b[0mnested_args\u001b[0m\u001b[0;34m)\u001b[0m\u001b[0;34m:\u001b[0m\u001b[0;34m\u001b[0m\u001b[0;34m\u001b[0m\u001b[0m\n\u001b[1;32m   4124\u001b[0m         \u001b[0mnested_args\u001b[0m \u001b[0;34m=\u001b[0m \u001b[0;34m(\u001b[0m\u001b[0mnested_args\u001b[0m\u001b[0;34m,\u001b[0m\u001b[0;34m)\u001b[0m\u001b[0;34m\u001b[0m\u001b[0;34m\u001b[0m\u001b[0m\n\u001b[0;32m-> 4125\u001b[0;31m       \u001b[0mret\u001b[0m \u001b[0;34m=\u001b[0m \u001b[0mautograph\u001b[0m\u001b[0;34m.\u001b[0m\u001b[0mtf_convert\u001b[0m\u001b[0;34m(\u001b[0m\u001b[0mself\u001b[0m\u001b[0;34m.\u001b[0m\u001b[0m_func\u001b[0m\u001b[0;34m,\u001b[0m \u001b[0mag_ctx\u001b[0m\u001b[0;34m)\u001b[0m\u001b[0;34m(\u001b[0m\u001b[0;34m*\u001b[0m\u001b[0mnested_args\u001b[0m\u001b[0;34m)\u001b[0m\u001b[0;34m\u001b[0m\u001b[0;34m\u001b[0m\u001b[0m\n\u001b[0m\u001b[1;32m   4126\u001b[0m       \u001b[0;32mif\u001b[0m \u001b[0m_should_pack\u001b[0m\u001b[0;34m(\u001b[0m\u001b[0mret\u001b[0m\u001b[0;34m)\u001b[0m\u001b[0;34m:\u001b[0m\u001b[0;34m\u001b[0m\u001b[0;34m\u001b[0m\u001b[0m\n\u001b[1;32m   4127\u001b[0m         \u001b[0mret\u001b[0m \u001b[0;34m=\u001b[0m \u001b[0mtuple\u001b[0m\u001b[0;34m(\u001b[0m\u001b[0mret\u001b[0m\u001b[0;34m)\u001b[0m\u001b[0;34m\u001b[0m\u001b[0;34m\u001b[0m\u001b[0m\n",
      "\u001b[0;32m~/.local/lib/python3.6/site-packages/tensorflow/python/autograph/impl/api.py\u001b[0m in \u001b[0;36mwrapper\u001b[0;34m(*args, **kwargs)\u001b[0m\n\u001b[1;32m    693\u001b[0m       \u001b[0;32mexcept\u001b[0m \u001b[0mException\u001b[0m \u001b[0;32mas\u001b[0m \u001b[0me\u001b[0m\u001b[0;34m:\u001b[0m  \u001b[0;31m# pylint:disable=broad-except\u001b[0m\u001b[0;34m\u001b[0m\u001b[0;34m\u001b[0m\u001b[0m\n\u001b[1;32m    694\u001b[0m         \u001b[0;32mif\u001b[0m \u001b[0mhasattr\u001b[0m\u001b[0;34m(\u001b[0m\u001b[0me\u001b[0m\u001b[0;34m,\u001b[0m \u001b[0;34m'ag_error_metadata'\u001b[0m\u001b[0;34m)\u001b[0m\u001b[0;34m:\u001b[0m\u001b[0;34m\u001b[0m\u001b[0;34m\u001b[0m\u001b[0m\n\u001b[0;32m--> 695\u001b[0;31m           \u001b[0;32mraise\u001b[0m \u001b[0me\u001b[0m\u001b[0;34m.\u001b[0m\u001b[0mag_error_metadata\u001b[0m\u001b[0;34m.\u001b[0m\u001b[0mto_exception\u001b[0m\u001b[0;34m(\u001b[0m\u001b[0me\u001b[0m\u001b[0;34m)\u001b[0m\u001b[0;34m\u001b[0m\u001b[0;34m\u001b[0m\u001b[0m\n\u001b[0m\u001b[1;32m    696\u001b[0m         \u001b[0;32melse\u001b[0m\u001b[0;34m:\u001b[0m\u001b[0;34m\u001b[0m\u001b[0;34m\u001b[0m\u001b[0m\n\u001b[1;32m    697\u001b[0m           \u001b[0;32mraise\u001b[0m\u001b[0;34m\u001b[0m\u001b[0;34m\u001b[0m\u001b[0m\n",
      "\u001b[0;31mTypeError\u001b[0m: in user code:\n\n    <ipython-input-18-db9e8d1943aa>:2 mel_preprocess  *\n        samples, sr = librosa.load(file_path, sr=SAMPLE_RATE)\n    /home/jrodriguez/.local/lib/python3.6/site-packages/librosa/util/decorators.py:51 inner_f  *\n        return f(*args, **kwargs)\n    /home/jrodriguez/.local/lib/python3.6/site-packages/librosa/core/audio.py:164 load  *\n        y, sr_native = __soundfile_load(path, offset, duration, dtype)\n    /home/jrodriguez/.local/lib/python3.6/site-packages/librosa/core/audio.py:195 __soundfile_load  *\n        context = sf.SoundFile(path)\n    /home/jrodriguez/.local/lib/python3.6/site-packages/soundfile.py:655 __init__  **\n        self._file = self._open(file, mode_int, closefd)\n    /home/jrodriguez/.local/lib/python3.6/site-packages/soundfile.py:1209 _open\n        raise TypeError(\"Invalid file: {0!r}\".format(self.name))\n\n    TypeError: Invalid file: <tf.Tensor 'args_0:0' shape=() dtype=string>\n"
     ]
    }
   ],
   "source": [
    "data = data.map(mel_preprocess)\n",
    "data = data.cache()\n",
    "data = data.shuffle(buffer_size=1000)\n",
    "data = data.batch(16)\n",
    "data = data.prefetch(8)"
   ]
  },
  {
   "cell_type": "markdown",
   "metadata": {},
   "source": [
    "## 6.2 Split into Training and Testing Partitions"
   ]
  },
  {
   "cell_type": "code",
   "execution_count": 509,
   "metadata": {},
   "outputs": [
    {
     "data": {
      "text/plain": [
       "748"
      ]
     },
     "execution_count": 509,
     "metadata": {},
     "output_type": "execute_result"
    }
   ],
   "source": [
    "len(data)"
   ]
  },
  {
   "cell_type": "code",
   "execution_count": 415,
   "metadata": {
    "jupyter": {
     "source_hidden": true
    },
    "tags": []
   },
   "outputs": [],
   "source": [
    "train = data.take(33)\n",
    "test = data.skip(33).take(14)"
   ]
  },
  {
   "cell_type": "markdown",
   "metadata": {},
   "source": [
    "## 6.3 Test One Batch"
   ]
  },
  {
   "cell_type": "code",
   "execution_count": 436,
   "metadata": {
    "jupyter": {
     "source_hidden": true
    },
    "tags": []
   },
   "outputs": [],
   "source": [
    "samples, labels = train.as_numpy_iterator().next()"
   ]
  },
  {
   "cell_type": "code",
   "execution_count": 479,
   "metadata": {
    "jupyter": {
     "source_hidden": true
    },
    "tags": []
   },
   "outputs": [
    {
     "data": {
      "text/plain": [
       "(16, 128, 21)"
      ]
     },
     "execution_count": 479,
     "metadata": {},
     "output_type": "execute_result"
    }
   ],
   "source": [
    "samples.shape"
   ]
  },
  {
   "cell_type": "markdown",
   "metadata": {},
   "source": [
    "# 7. Build Deep Learning Model"
   ]
  },
  {
   "cell_type": "markdown",
   "metadata": {},
   "source": [
    "## 7.1 Load Tensorflow Dependencies"
   ]
  },
  {
   "cell_type": "code",
   "execution_count": 33,
   "metadata": {
    "jupyter": {
     "source_hidden": true
    },
    "tags": []
   },
   "outputs": [],
   "source": [
    "from tensorflow.keras.models import Sequential\n",
    "from tensorflow.keras.layers import Conv2D, Dense, Flatten"
   ]
  },
  {
   "cell_type": "markdown",
   "metadata": {},
   "source": [
    "## 7.2 Build Sequential Model, Compile and View Summary"
   ]
  },
  {
   "cell_type": "code",
   "execution_count": 34,
   "metadata": {
    "jupyter": {
     "source_hidden": true
    },
    "tags": []
   },
   "outputs": [],
   "source": [
    "model = Sequential()\n",
    "model.add(Conv2D(16, (3,3), activation='relu', input_shape=(1023, 257, 1)))\n",
    "model.add(Conv2D(16, (3,3), activation='relu'))\n",
    "model.add(Flatten())\n",
    "model.add(Dense(128, activation='relu'))\n",
    "model.add(Dense(1, activation='sigmoid'))"
   ]
  },
  {
   "cell_type": "code",
   "execution_count": 35,
   "metadata": {
    "jupyter": {
     "source_hidden": true
    },
    "tags": []
   },
   "outputs": [],
   "source": [
    "model.compile('Adam', loss='BinaryCrossentropy', metrics=[tf.keras.metrics.Recall(),tf.keras.metrics.Precision()])"
   ]
  },
  {
   "cell_type": "code",
   "execution_count": 40,
   "metadata": {},
   "outputs": [],
   "source": [
    "import datetime\n",
    "from keras.callbacks import ModelCheckpoint"
   ]
  },
  {
   "cell_type": "code",
   "execution_count": 48,
   "metadata": {},
   "outputs": [],
   "source": [
    "# Create tensorflow stats and callbacks\n",
    "log_dir = \"logs/fit/\" + datetime.datetime.now().strftime(\"%Y%m%d-%H%M%S\")\n",
    "tensorboard_callback = tf.keras.callbacks.TensorBoard(log_dir=log_dir, histogram_freq=1)\n",
    "early_stopping_callback = tf.keras.callbacks.EarlyStopping(\n",
    "    monitor='val_loss',\n",
    "    min_delta=0,\n",
    "    patience=100,\n",
    "    verbose=0,\n",
    "    mode='min',\n",
    "    baseline=None,\n",
    "    restore_best_weights=True,\n",
    ")\n",
    "model_path = os.path.join('output_model_checkpoints')\n",
    "checkpoint_callback = ModelCheckpoint(filepath=model_path,\n",
    "                                     monitor='val_loss',\n",
    "                                     verbose=0,\n",
    "                                     save_best_only=True,\n",
    "                                     mode='min')"
   ]
  },
  {
   "cell_type": "code",
   "execution_count": 49,
   "metadata": {
    "jupyter": {
     "source_hidden": true
    },
    "tags": []
   },
   "outputs": [
    {
     "name": "stdout",
     "output_type": "stream",
     "text": [
      "Model: \"sequential\"\n",
      "_________________________________________________________________\n",
      "Layer (type)                 Output Shape              Param #   \n",
      "=================================================================\n",
      "conv2d (Conv2D)              (None, 1021, 255, 16)     160       \n",
      "_________________________________________________________________\n",
      "conv2d_1 (Conv2D)            (None, 1019, 253, 16)     2320      \n",
      "_________________________________________________________________\n",
      "flatten (Flatten)            (None, 4124912)           0         \n",
      "_________________________________________________________________\n",
      "dense (Dense)                (None, 128)               527988864 \n",
      "_________________________________________________________________\n",
      "dense_1 (Dense)              (None, 1)                 129       \n",
      "=================================================================\n",
      "Total params: 527,991,473\n",
      "Trainable params: 527,991,473\n",
      "Non-trainable params: 0\n",
      "_________________________________________________________________\n"
     ]
    }
   ],
   "source": [
    "model.summary()"
   ]
  },
  {
   "cell_type": "markdown",
   "metadata": {},
   "source": [
    "## 7.3 Fit Model, View Loss and KPI Plots"
   ]
  },
  {
   "cell_type": "code",
   "execution_count": 50,
   "metadata": {
    "jupyter": {
     "source_hidden": true
    },
    "tags": []
   },
   "outputs": [
    {
     "name": "stdout",
     "output_type": "stream",
     "text": [
      "Epoch 1/1000\n",
      "33/33 [==============================] - 144s 4s/step - loss: 0.0442 - recall: 1.0000 - precision: 0.9779 - val_loss: 0.0304 - val_recall: 1.0000 - val_precision: 0.9826\n",
      "INFO:tensorflow:Assets written to: output_model_checkpoints/assets\n",
      "Epoch 2/1000\n",
      "33/33 [==============================] - 143s 4s/step - loss: 0.0341 - recall: 1.0000 - precision: 0.9780 - val_loss: 0.0147 - val_recall: 1.0000 - val_precision: 0.9917\n",
      "INFO:tensorflow:Assets written to: output_model_checkpoints/assets\n",
      "Epoch 3/1000\n",
      "33/33 [==============================] - 149s 5s/step - loss: 0.0376 - recall: 1.0000 - precision: 0.9659 - val_loss: 0.0340 - val_recall: 1.0000 - val_precision: 0.9829\n",
      "Epoch 4/1000\n",
      "33/33 [==============================] - 145s 4s/step - loss: 0.0259 - recall: 1.0000 - precision: 0.9764 - val_loss: 0.0154 - val_recall: 1.0000 - val_precision: 0.9900\n",
      "Epoch 5/1000\n",
      "33/33 [==============================] - 147s 4s/step - loss: 0.0204 - recall: 1.0000 - precision: 0.9786 - val_loss: 0.0168 - val_recall: 1.0000 - val_precision: 0.9829\n",
      "Epoch 6/1000\n",
      "33/33 [==============================] - 144s 4s/step - loss: 0.0188 - recall: 1.0000 - precision: 0.9887 - val_loss: 0.0102 - val_recall: 1.0000 - val_precision: 0.9907\n",
      "INFO:tensorflow:Assets written to: output_model_checkpoints/assets\n",
      "Epoch 7/1000\n",
      "33/33 [==============================] - 141s 4s/step - loss: 0.0165 - recall: 1.0000 - precision: 0.9846 - val_loss: 0.0115 - val_recall: 1.0000 - val_precision: 0.9915\n",
      "Epoch 8/1000\n",
      "33/33 [==============================] - 141s 4s/step - loss: 0.0120 - recall: 1.0000 - precision: 0.9884 - val_loss: 0.0074 - val_recall: 1.0000 - val_precision: 0.9911\n",
      "INFO:tensorflow:Assets written to: output_model_checkpoints/assets\n",
      "Epoch 9/1000\n",
      "33/33 [==============================] - 140s 4s/step - loss: 0.9001 - recall: 0.8473 - precision: 0.9915 - val_loss: 0.6919 - val_recall: 1.0000 - val_precision: 0.9565\n",
      "Epoch 10/1000\n",
      "33/33 [==============================] - 146s 4s/step - loss: 0.3527 - recall: 0.9698 - precision: 0.9625 - val_loss: 0.2121 - val_recall: 1.0000 - val_precision: 0.9732\n",
      "Epoch 11/1000\n",
      "33/33 [==============================] - 144s 4s/step - loss: 0.1773 - recall: 0.9808 - precision: 0.9771 - val_loss: 0.0902 - val_recall: 0.9915 - val_precision: 0.9750\n",
      "Epoch 12/1000\n",
      "33/33 [==============================] - 140s 4s/step - loss: 0.1050 - recall: 0.9961 - precision: 0.9699 - val_loss: 0.0855 - val_recall: 1.0000 - val_precision: 0.9603\n",
      "Epoch 13/1000\n",
      "33/33 [==============================] - 148s 4s/step - loss: 0.0718 - recall: 0.9962 - precision: 0.9851 - val_loss: 0.0494 - val_recall: 1.0000 - val_precision: 0.9919\n",
      "Epoch 14/1000\n",
      "33/33 [==============================] - 145s 4s/step - loss: 0.0451 - recall: 1.0000 - precision: 0.9704 - val_loss: 0.0525 - val_recall: 1.0000 - val_precision: 0.9596\n",
      "Epoch 15/1000\n",
      "33/33 [==============================] - 140s 4s/step - loss: 0.0354 - recall: 1.0000 - precision: 0.9818 - val_loss: 0.0151 - val_recall: 1.0000 - val_precision: 0.9910\n",
      "Epoch 16/1000\n",
      "33/33 [==============================] - 143s 4s/step - loss: 0.0472 - recall: 1.0000 - precision: 0.9673 - val_loss: 0.0441 - val_recall: 1.0000 - val_precision: 0.9658\n",
      "Epoch 17/1000\n",
      "33/33 [==============================] - 146s 4s/step - loss: 0.0370 - recall: 1.0000 - precision: 0.9858 - val_loss: 0.0228 - val_recall: 1.0000 - val_precision: 0.9817\n",
      "Epoch 18/1000\n",
      "33/33 [==============================] - 145s 4s/step - loss: 0.0277 - recall: 1.0000 - precision: 0.9779 - val_loss: 0.0211 - val_recall: 1.0000 - val_precision: 0.9826\n",
      "Epoch 19/1000\n",
      "33/33 [==============================] - 142s 4s/step - loss: 0.0383 - recall: 1.0000 - precision: 0.9659 - val_loss: 0.0155 - val_recall: 1.0000 - val_precision: 0.9910\n",
      "Epoch 20/1000\n",
      "33/33 [==============================] - 145s 4s/step - loss: 0.0276 - recall: 1.0000 - precision: 0.9784 - val_loss: 0.0370 - val_recall: 1.0000 - val_precision: 0.9646\n",
      "Epoch 21/1000\n",
      "33/33 [==============================] - 146s 4s/step - loss: 0.0248 - recall: 1.0000 - precision: 0.9769 - val_loss: 0.0157 - val_recall: 1.0000 - val_precision: 0.9813\n",
      "Epoch 22/1000\n",
      "33/33 [==============================] - 141s 4s/step - loss: 0.0359 - recall: 1.0000 - precision: 0.9780 - val_loss: 0.0349 - val_recall: 1.0000 - val_precision: 0.9658\n",
      "Epoch 23/1000\n",
      "33/33 [==============================] - 142s 4s/step - loss: 0.0262 - recall: 1.0000 - precision: 0.9733 - val_loss: 0.0246 - val_recall: 1.0000 - val_precision: 0.9735\n",
      "Epoch 24/1000\n",
      "33/33 [==============================] - 141s 4s/step - loss: 0.0150 - recall: 1.0000 - precision: 0.9854 - val_loss: 0.0262 - val_recall: 1.0000 - val_precision: 0.9712\n",
      "Epoch 25/1000\n",
      "33/33 [==============================] - 142s 4s/step - loss: 0.0285 - recall: 1.0000 - precision: 0.9740 - val_loss: 0.0322 - val_recall: 1.0000 - val_precision: 0.9630\n",
      "Epoch 26/1000\n",
      "33/33 [==============================] - 146s 4s/step - loss: 0.0263 - recall: 1.0000 - precision: 0.9778 - val_loss: 0.0159 - val_recall: 1.0000 - val_precision: 0.9832\n",
      "Epoch 27/1000\n",
      "33/33 [==============================] - 141s 4s/step - loss: 0.0232 - recall: 1.0000 - precision: 0.9739 - val_loss: 0.0350 - val_recall: 1.0000 - val_precision: 0.9583\n",
      "Epoch 28/1000\n",
      "33/33 [==============================] - 145s 4s/step - loss: 0.0178 - recall: 1.0000 - precision: 0.9818 - val_loss: 0.0204 - val_recall: 1.0000 - val_precision: 0.9680\n",
      "Epoch 29/1000\n",
      "33/33 [==============================] - 141s 4s/step - loss: 0.0126 - recall: 1.0000 - precision: 0.9887 - val_loss: 0.0104 - val_recall: 1.0000 - val_precision: 0.9909\n",
      "Epoch 30/1000\n",
      "33/33 [==============================] - 141s 4s/step - loss: 0.0224 - recall: 1.0000 - precision: 0.9787 - val_loss: 0.0176 - val_recall: 1.0000 - val_precision: 0.9828\n",
      "Epoch 31/1000\n",
      "33/33 [==============================] - 141s 4s/step - loss: 0.0275 - recall: 1.0000 - precision: 0.9668 - val_loss: 0.0225 - val_recall: 1.0000 - val_precision: 0.9646\n",
      "Epoch 32/1000\n",
      "33/33 [==============================] - 145s 4s/step - loss: 0.0233 - recall: 1.0000 - precision: 0.9739 - val_loss: 0.0344 - val_recall: 1.0000 - val_precision: 0.9565\n",
      "Epoch 33/1000\n",
      "33/33 [==============================] - 142s 4s/step - loss: 0.0171 - recall: 1.0000 - precision: 0.9779 - val_loss: 0.0161 - val_recall: 1.0000 - val_precision: 0.9732\n",
      "Epoch 34/1000\n",
      "33/33 [==============================] - 140s 4s/step - loss: 0.0143 - recall: 1.0000 - precision: 0.9853 - val_loss: 0.0259 - val_recall: 1.0000 - val_precision: 0.9737\n",
      "Epoch 35/1000\n",
      "33/33 [==============================] - 148s 4s/step - loss: 0.0165 - recall: 1.0000 - precision: 0.9823 - val_loss: 0.0141 - val_recall: 1.0000 - val_precision: 0.9840\n",
      "Epoch 36/1000\n",
      "33/33 [==============================] - 145s 4s/step - loss: 0.0192 - recall: 1.0000 - precision: 0.9854 - val_loss: 0.0158 - val_recall: 1.0000 - val_precision: 0.9832\n",
      "Epoch 37/1000\n",
      "33/33 [==============================] - 142s 4s/step - loss: 0.0233 - recall: 1.0000 - precision: 0.9712 - val_loss: 0.0226 - val_recall: 1.0000 - val_precision: 0.9752\n",
      "Epoch 38/1000\n",
      "33/33 [==============================] - 142s 4s/step - loss: 0.0163 - recall: 1.0000 - precision: 0.9783 - val_loss: 0.0118 - val_recall: 1.0000 - val_precision: 0.9821\n",
      "Epoch 39/1000\n",
      "33/33 [==============================] - 141s 4s/step - loss: 0.0165 - recall: 1.0000 - precision: 0.9739 - val_loss: 0.0111 - val_recall: 1.0000 - val_precision: 1.0000\n",
      "Epoch 40/1000\n",
      "33/33 [==============================] - 144s 4s/step - loss: 0.0136 - recall: 1.0000 - precision: 0.9819 - val_loss: 0.0048 - val_recall: 1.0000 - val_precision: 0.9913\n",
      "INFO:tensorflow:Assets written to: output_model_checkpoints/assets\n",
      "Epoch 41/1000\n",
      "33/33 [==============================] - 145s 4s/step - loss: 0.0133 - recall: 1.0000 - precision: 0.9925 - val_loss: 0.0107 - val_recall: 1.0000 - val_precision: 0.9808\n",
      "Epoch 42/1000\n",
      "33/33 [==============================] - 142s 4s/step - loss: 0.0143 - recall: 1.0000 - precision: 0.9813 - val_loss: 0.0033 - val_recall: 1.0000 - val_precision: 1.0000\n",
      "INFO:tensorflow:Assets written to: output_model_checkpoints/assets\n",
      "Epoch 43/1000\n",
      "33/33 [==============================] - 141s 4s/step - loss: 0.0162 - recall: 1.0000 - precision: 0.9772 - val_loss: 0.0172 - val_recall: 1.0000 - val_precision: 0.9912\n",
      "Epoch 44/1000\n",
      "33/33 [==============================] - 143s 4s/step - loss: 0.0133 - recall: 1.0000 - precision: 0.9888 - val_loss: 0.0279 - val_recall: 1.0000 - val_precision: 0.9823\n",
      "Epoch 45/1000\n",
      "33/33 [==============================] - 141s 4s/step - loss: 0.0316 - recall: 1.0000 - precision: 0.9813 - val_loss: 0.0285 - val_recall: 1.0000 - val_precision: 0.9835\n",
      "Epoch 46/1000\n",
      "33/33 [==============================] - 142s 4s/step - loss: 0.0190 - recall: 1.0000 - precision: 0.9748 - val_loss: 0.0127 - val_recall: 1.0000 - val_precision: 0.9908\n",
      "Epoch 47/1000\n",
      "33/33 [==============================] - 142s 4s/step - loss: 0.0118 - recall: 1.0000 - precision: 0.9847 - val_loss: 0.0132 - val_recall: 1.0000 - val_precision: 0.9817\n",
      "Epoch 48/1000\n",
      "33/33 [==============================] - 143s 4s/step - loss: 0.0251 - recall: 1.0000 - precision: 0.9852 - val_loss: 0.2785 - val_recall: 1.0000 - val_precision: 0.9750\n",
      "Epoch 49/1000\n",
      "33/33 [==============================] - 141s 4s/step - loss: 0.0919 - recall: 1.0000 - precision: 0.9704 - val_loss: 0.0199 - val_recall: 1.0000 - val_precision: 0.9727\n",
      "Epoch 50/1000\n",
      "33/33 [==============================] - 142s 4s/step - loss: 0.0196 - recall: 1.0000 - precision: 0.9778 - val_loss: 0.0139 - val_recall: 1.0000 - val_precision: 0.9913\n",
      "Epoch 51/1000\n",
      "33/33 [==============================] - 142s 4s/step - loss: 0.0156 - recall: 1.0000 - precision: 0.9813 - val_loss: 0.0144 - val_recall: 1.0000 - val_precision: 0.9817\n",
      "Epoch 52/1000\n",
      "33/33 [==============================] - 141s 4s/step - loss: 0.0119 - recall: 1.0000 - precision: 0.9855 - val_loss: 0.0219 - val_recall: 1.0000 - val_precision: 0.9915\n",
      "Epoch 53/1000\n",
      "33/33 [==============================] - 145s 4s/step - loss: 0.0255 - recall: 1.0000 - precision: 0.9815 - val_loss: 0.0202 - val_recall: 1.0000 - val_precision: 0.9646\n",
      "Epoch 54/1000\n",
      "33/33 [==============================] - 145s 4s/step - loss: 0.0145 - recall: 1.0000 - precision: 0.9811 - val_loss: 0.0323 - val_recall: 1.0000 - val_precision: 0.9810\n",
      "Epoch 55/1000\n",
      "33/33 [==============================] - 145s 4s/step - loss: 0.0348 - recall: 1.0000 - precision: 0.9855 - val_loss: 0.0222 - val_recall: 1.0000 - val_precision: 0.9829\n",
      "Epoch 56/1000\n",
      "33/33 [==============================] - 148s 4s/step - loss: 0.0217 - recall: 1.0000 - precision: 0.9736 - val_loss: 0.0144 - val_recall: 1.0000 - val_precision: 0.9832\n",
      "Epoch 57/1000\n",
      "33/33 [==============================] - 146s 4s/step - loss: 0.0155 - recall: 1.0000 - precision: 0.9780 - val_loss: 0.0068 - val_recall: 1.0000 - val_precision: 0.9909\n",
      "Epoch 58/1000\n",
      "33/33 [==============================] - 145s 4s/step - loss: 0.0115 - recall: 1.0000 - precision: 0.9859 - val_loss: 0.0216 - val_recall: 1.0000 - val_precision: 0.9725\n",
      "Epoch 59/1000\n",
      "33/33 [==============================] - 144s 4s/step - loss: 0.0183 - recall: 1.0000 - precision: 0.9820 - val_loss: 0.0090 - val_recall: 1.0000 - val_precision: 0.9820\n",
      "Epoch 60/1000\n",
      "33/33 [==============================] - 139s 4s/step - loss: 0.0054 - recall: 1.0000 - precision: 1.0000 - val_loss: 0.0099 - val_recall: 1.0000 - val_precision: 0.9904\n",
      "Epoch 61/1000\n",
      "33/33 [==============================] - 145s 4s/step - loss: 0.0050 - recall: 1.0000 - precision: 1.0000 - val_loss: 0.0017 - val_recall: 1.0000 - val_precision: 1.0000\n",
      "INFO:tensorflow:Assets written to: output_model_checkpoints/assets\n",
      "Epoch 62/1000\n",
      "33/33 [==============================] - 144s 4s/step - loss: 0.0038 - recall: 1.0000 - precision: 1.0000 - val_loss: 0.0046 - val_recall: 1.0000 - val_precision: 1.0000\n",
      "Epoch 63/1000\n",
      "33/33 [==============================] - 142s 4s/step - loss: 0.0073 - recall: 1.0000 - precision: 0.9922 - val_loss: 0.0043 - val_recall: 1.0000 - val_precision: 0.9912\n",
      "Epoch 64/1000\n",
      "33/33 [==============================] - 141s 4s/step - loss: 0.0047 - recall: 1.0000 - precision: 0.9962 - val_loss: 0.0026 - val_recall: 1.0000 - val_precision: 1.0000\n",
      "Epoch 65/1000\n",
      "33/33 [==============================] - 141s 4s/step - loss: 0.0025 - recall: 1.0000 - precision: 1.0000 - val_loss: 0.0019 - val_recall: 1.0000 - val_precision: 1.0000\n",
      "Epoch 66/1000\n",
      "33/33 [==============================] - 142s 4s/step - loss: 0.0017 - recall: 1.0000 - precision: 1.0000 - val_loss: 0.0019 - val_recall: 1.0000 - val_precision: 1.0000\n",
      "Epoch 67/1000\n",
      "33/33 [==============================] - 142s 4s/step - loss: 0.0017 - recall: 1.0000 - precision: 1.0000 - val_loss: 9.8284e-04 - val_recall: 1.0000 - val_precision: 1.0000\n",
      "INFO:tensorflow:Assets written to: output_model_checkpoints/assets\n",
      "Epoch 68/1000\n",
      "33/33 [==============================] - 140s 4s/step - loss: 0.0050 - recall: 1.0000 - precision: 0.9961 - val_loss: 0.0029 - val_recall: 1.0000 - val_precision: 1.0000\n",
      "Epoch 69/1000\n",
      "33/33 [==============================] - 142s 4s/step - loss: 0.0112 - recall: 1.0000 - precision: 0.9884 - val_loss: 0.0080 - val_recall: 1.0000 - val_precision: 0.9917\n",
      "Epoch 70/1000\n",
      "33/33 [==============================] - 144s 4s/step - loss: 0.0123 - recall: 0.9963 - precision: 0.9891 - val_loss: 0.0050 - val_recall: 1.0000 - val_precision: 1.0000\n",
      "Epoch 71/1000\n",
      "33/33 [==============================] - 141s 4s/step - loss: 0.0469 - recall: 1.0000 - precision: 0.9784 - val_loss: 0.0379 - val_recall: 1.0000 - val_precision: 0.9909\n",
      "Epoch 72/1000\n",
      "33/33 [==============================] - 146s 4s/step - loss: 0.0342 - recall: 1.0000 - precision: 0.9818 - val_loss: 0.0262 - val_recall: 1.0000 - val_precision: 0.9908\n",
      "Epoch 73/1000\n",
      "33/33 [==============================] - 144s 4s/step - loss: 0.0274 - recall: 1.0000 - precision: 0.9818 - val_loss: 0.0249 - val_recall: 1.0000 - val_precision: 0.9904\n",
      "Epoch 74/1000\n",
      "33/33 [==============================] - 143s 4s/step - loss: 0.0257 - recall: 1.0000 - precision: 0.9854 - val_loss: 0.0158 - val_recall: 1.0000 - val_precision: 0.9913\n",
      "Epoch 75/1000\n",
      "33/33 [==============================] - 145s 4s/step - loss: 0.0219 - recall: 1.0000 - precision: 0.9850 - val_loss: 0.0213 - val_recall: 1.0000 - val_precision: 0.9831\n",
      "Epoch 76/1000\n",
      "33/33 [==============================] - 143s 4s/step - loss: 0.0174 - recall: 1.0000 - precision: 0.9846 - val_loss: 0.0157 - val_recall: 1.0000 - val_precision: 0.9828\n",
      "Epoch 77/1000\n",
      "33/33 [==============================] - 151s 5s/step - loss: 0.0112 - recall: 1.0000 - precision: 0.9850 - val_loss: 0.0046 - val_recall: 1.0000 - val_precision: 0.9912\n",
      "Epoch 78/1000\n",
      "33/33 [==============================] - 142s 4s/step - loss: 0.0038 - recall: 1.0000 - precision: 0.9961 - val_loss: 0.0056 - val_recall: 1.0000 - val_precision: 0.9911\n",
      "Epoch 79/1000\n",
      "33/33 [==============================] - 142s 4s/step - loss: 0.0081 - recall: 1.0000 - precision: 0.9887 - val_loss: 0.0134 - val_recall: 1.0000 - val_precision: 0.9820\n",
      "Epoch 80/1000\n",
      "33/33 [==============================] - 143s 4s/step - loss: 0.0097 - recall: 1.0000 - precision: 0.9881 - val_loss: 0.0064 - val_recall: 1.0000 - val_precision: 0.9913\n",
      "Epoch 81/1000\n",
      "33/33 [==============================] - 137s 4s/step - loss: 0.0160 - recall: 0.9963 - precision: 0.9926 - val_loss: 0.0090 - val_recall: 1.0000 - val_precision: 0.9821\n",
      "Epoch 82/1000\n",
      "33/33 [==============================] - 146s 4s/step - loss: 0.0053 - recall: 1.0000 - precision: 0.9964 - val_loss: 0.0045 - val_recall: 1.0000 - val_precision: 0.9907\n",
      "Epoch 83/1000\n",
      "33/33 [==============================] - 141s 4s/step - loss: 0.0061 - recall: 1.0000 - precision: 0.9923 - val_loss: 0.0073 - val_recall: 1.0000 - val_precision: 0.9904\n",
      "Epoch 84/1000\n",
      "33/33 [==============================] - 140s 4s/step - loss: 0.0037 - recall: 1.0000 - precision: 0.9962 - val_loss: 0.0081 - val_recall: 1.0000 - val_precision: 0.9823\n",
      "Epoch 85/1000\n",
      "33/33 [==============================] - 141s 4s/step - loss: 0.0062 - recall: 1.0000 - precision: 0.9962 - val_loss: 0.0022 - val_recall: 1.0000 - val_precision: 1.0000\n",
      "Epoch 86/1000\n",
      "33/33 [==============================] - 149s 5s/step - loss: 0.0034 - recall: 1.0000 - precision: 1.0000 - val_loss: 0.0018 - val_recall: 1.0000 - val_precision: 1.0000\n"
     ]
    },
    {
     "name": "stdout",
     "output_type": "stream",
     "text": [
      "Epoch 87/1000\n",
      "33/33 [==============================] - 145s 4s/step - loss: 0.0039 - recall: 1.0000 - precision: 1.0000 - val_loss: 6.8231e-04 - val_recall: 1.0000 - val_precision: 1.0000\n",
      "INFO:tensorflow:Assets written to: output_model_checkpoints/assets\n",
      "Epoch 88/1000\n",
      "33/33 [==============================] - 147s 4s/step - loss: 0.0037 - recall: 1.0000 - precision: 1.0000 - val_loss: 0.0016 - val_recall: 1.0000 - val_precision: 1.0000\n",
      "Epoch 89/1000\n",
      "33/33 [==============================] - 139s 4s/step - loss: 0.0135 - recall: 1.0000 - precision: 0.9962 - val_loss: 0.0077 - val_recall: 1.0000 - val_precision: 1.0000\n",
      "Epoch 90/1000\n",
      "33/33 [==============================] - 139s 4s/step - loss: 0.0042 - recall: 1.0000 - precision: 1.0000 - val_loss: 0.0037 - val_recall: 1.0000 - val_precision: 1.0000\n",
      "Epoch 91/1000\n",
      "33/33 [==============================] - 142s 4s/step - loss: 0.0023 - recall: 1.0000 - precision: 1.0000 - val_loss: 0.0041 - val_recall: 1.0000 - val_precision: 1.0000\n",
      "Epoch 92/1000\n",
      "33/33 [==============================] - 146s 4s/step - loss: 0.0013 - recall: 1.0000 - precision: 1.0000 - val_loss: 0.0018 - val_recall: 1.0000 - val_precision: 1.0000\n",
      "Epoch 93/1000\n",
      "33/33 [==============================] - 143s 4s/step - loss: 0.0016 - recall: 1.0000 - precision: 1.0000 - val_loss: 4.3766e-04 - val_recall: 1.0000 - val_precision: 1.0000\n",
      "INFO:tensorflow:Assets written to: output_model_checkpoints/assets\n",
      "Epoch 94/1000\n",
      "33/33 [==============================] - 143s 4s/step - loss: 2.6364e-04 - recall: 1.0000 - precision: 1.0000 - val_loss: 2.0461e-04 - val_recall: 1.0000 - val_precision: 1.0000\n",
      "INFO:tensorflow:Assets written to: output_model_checkpoints/assets\n",
      "Epoch 95/1000\n",
      "33/33 [==============================] - 138s 4s/step - loss: 9.0763e-05 - recall: 1.0000 - precision: 1.0000 - val_loss: 1.6737e-05 - val_recall: 1.0000 - val_precision: 1.0000\n",
      "INFO:tensorflow:Assets written to: output_model_checkpoints/assets\n",
      "Epoch 96/1000\n",
      "33/33 [==============================] - 143s 4s/step - loss: 2.0541e-04 - recall: 1.0000 - precision: 1.0000 - val_loss: 2.9145e-04 - val_recall: 1.0000 - val_precision: 1.0000\n",
      "Epoch 97/1000\n",
      "33/33 [==============================] - 143s 4s/step - loss: 3.4274e-04 - recall: 1.0000 - precision: 1.0000 - val_loss: 1.5893e-04 - val_recall: 1.0000 - val_precision: 1.0000\n",
      "Epoch 98/1000\n",
      "33/33 [==============================] - 150s 5s/step - loss: 1.4069e-04 - recall: 1.0000 - precision: 1.0000 - val_loss: 1.8143e-04 - val_recall: 1.0000 - val_precision: 1.0000\n",
      "Epoch 99/1000\n",
      "33/33 [==============================] - 143s 4s/step - loss: 1.2024e-04 - recall: 1.0000 - precision: 1.0000 - val_loss: 7.5930e-05 - val_recall: 1.0000 - val_precision: 1.0000\n",
      "Epoch 100/1000\n",
      "33/33 [==============================] - 141s 4s/step - loss: 1.0155e-04 - recall: 1.0000 - precision: 1.0000 - val_loss: 4.7509e-05 - val_recall: 1.0000 - val_precision: 1.0000\n",
      "Epoch 101/1000\n",
      "33/33 [==============================] - 143s 4s/step - loss: 1.7234e-04 - recall: 1.0000 - precision: 1.0000 - val_loss: 5.2427e-05 - val_recall: 1.0000 - val_precision: 1.0000\n",
      "Epoch 102/1000\n",
      "33/33 [==============================] - 144s 4s/step - loss: 1.0916e-04 - recall: 1.0000 - precision: 1.0000 - val_loss: 8.8725e-05 - val_recall: 1.0000 - val_precision: 1.0000\n",
      "Epoch 103/1000\n",
      "33/33 [==============================] - 143s 4s/step - loss: 1.3251e-04 - recall: 1.0000 - precision: 1.0000 - val_loss: 1.4533e-04 - val_recall: 1.0000 - val_precision: 1.0000\n",
      "Epoch 104/1000\n",
      "33/33 [==============================] - 140s 4s/step - loss: 7.4234e-05 - recall: 1.0000 - precision: 1.0000 - val_loss: 1.4554e-04 - val_recall: 1.0000 - val_precision: 1.0000\n",
      "Epoch 105/1000\n",
      "33/33 [==============================] - 145s 4s/step - loss: 8.4511e-05 - recall: 1.0000 - precision: 1.0000 - val_loss: 4.8770e-05 - val_recall: 1.0000 - val_precision: 1.0000\n",
      "Epoch 106/1000\n",
      "33/33 [==============================] - 146s 4s/step - loss: 1.1931e-04 - recall: 1.0000 - precision: 1.0000 - val_loss: 4.6304e-05 - val_recall: 1.0000 - val_precision: 1.0000\n",
      "Epoch 107/1000\n",
      "33/33 [==============================] - 140s 4s/step - loss: 1.1383e-04 - recall: 1.0000 - precision: 1.0000 - val_loss: 7.9221e-05 - val_recall: 1.0000 - val_precision: 1.0000\n",
      "Epoch 108/1000\n",
      "33/33 [==============================] - 140s 4s/step - loss: 1.0806e-04 - recall: 1.0000 - precision: 1.0000 - val_loss: 8.9556e-05 - val_recall: 1.0000 - val_precision: 1.0000\n",
      "Epoch 109/1000\n",
      "33/33 [==============================] - 142s 4s/step - loss: 1.2219e-04 - recall: 1.0000 - precision: 1.0000 - val_loss: 8.4818e-05 - val_recall: 1.0000 - val_precision: 1.0000\n",
      "Epoch 110/1000\n",
      "33/33 [==============================] - 139s 4s/step - loss: 9.8473e-05 - recall: 1.0000 - precision: 1.0000 - val_loss: 9.2367e-05 - val_recall: 1.0000 - val_precision: 1.0000\n",
      "Epoch 111/1000\n",
      "33/33 [==============================] - 145s 4s/step - loss: 9.7322e-05 - recall: 1.0000 - precision: 1.0000 - val_loss: 3.5701e-05 - val_recall: 1.0000 - val_precision: 1.0000\n",
      "Epoch 112/1000\n",
      "33/33 [==============================] - 142s 4s/step - loss: 6.5852e-05 - recall: 1.0000 - precision: 1.0000 - val_loss: 1.1842e-04 - val_recall: 1.0000 - val_precision: 1.0000\n",
      "Epoch 113/1000\n",
      "33/33 [==============================] - 142s 4s/step - loss: 9.9685e-05 - recall: 1.0000 - precision: 1.0000 - val_loss: 7.1757e-05 - val_recall: 1.0000 - val_precision: 1.0000\n",
      "Epoch 114/1000\n",
      "33/33 [==============================] - 147s 4s/step - loss: 7.7652e-05 - recall: 1.0000 - precision: 1.0000 - val_loss: 1.9345e-04 - val_recall: 1.0000 - val_precision: 1.0000\n",
      "Epoch 115/1000\n",
      "33/33 [==============================] - 145s 4s/step - loss: 7.0299e-05 - recall: 1.0000 - precision: 1.0000 - val_loss: 1.4434e-04 - val_recall: 1.0000 - val_precision: 1.0000\n",
      "Epoch 116/1000\n",
      "33/33 [==============================] - 147s 4s/step - loss: 1.2055e-04 - recall: 1.0000 - precision: 1.0000 - val_loss: 1.2853e-04 - val_recall: 1.0000 - val_precision: 1.0000\n",
      "Epoch 117/1000\n",
      "33/33 [==============================] - 147s 4s/step - loss: 9.8769e-05 - recall: 1.0000 - precision: 1.0000 - val_loss: 1.0827e-04 - val_recall: 1.0000 - val_precision: 1.0000\n",
      "Epoch 118/1000\n",
      "33/33 [==============================] - 143s 4s/step - loss: 7.6558e-05 - recall: 1.0000 - precision: 1.0000 - val_loss: 1.1047e-04 - val_recall: 1.0000 - val_precision: 1.0000\n",
      "Epoch 119/1000\n",
      "33/33 [==============================] - 148s 4s/step - loss: 8.5794e-05 - recall: 1.0000 - precision: 1.0000 - val_loss: 8.8195e-05 - val_recall: 1.0000 - val_precision: 1.0000\n",
      "Epoch 120/1000\n",
      "33/33 [==============================] - 145s 4s/step - loss: 7.3483e-05 - recall: 1.0000 - precision: 1.0000 - val_loss: 4.8575e-05 - val_recall: 1.0000 - val_precision: 1.0000\n",
      "Epoch 121/1000\n",
      "33/33 [==============================] - 142s 4s/step - loss: 7.7700e-05 - recall: 1.0000 - precision: 1.0000 - val_loss: 2.1868e-05 - val_recall: 1.0000 - val_precision: 1.0000\n",
      "Epoch 122/1000\n",
      "33/33 [==============================] - 144s 4s/step - loss: 6.6036e-05 - recall: 1.0000 - precision: 1.0000 - val_loss: 1.6301e-04 - val_recall: 1.0000 - val_precision: 1.0000\n",
      "Epoch 123/1000\n",
      "33/33 [==============================] - 145s 4s/step - loss: 6.6853e-05 - recall: 1.0000 - precision: 1.0000 - val_loss: 6.3680e-05 - val_recall: 1.0000 - val_precision: 1.0000\n",
      "Epoch 124/1000\n",
      "33/33 [==============================] - 139s 4s/step - loss: 5.7708e-05 - recall: 1.0000 - precision: 1.0000 - val_loss: 1.1162e-04 - val_recall: 1.0000 - val_precision: 1.0000\n",
      "Epoch 125/1000\n",
      "33/33 [==============================] - 144s 4s/step - loss: 4.0737e-05 - recall: 1.0000 - precision: 1.0000 - val_loss: 1.3186e-04 - val_recall: 1.0000 - val_precision: 1.0000\n",
      "Epoch 126/1000\n",
      "33/33 [==============================] - 142s 4s/step - loss: 5.3333e-05 - recall: 1.0000 - precision: 1.0000 - val_loss: 1.4394e-04 - val_recall: 1.0000 - val_precision: 1.0000\n",
      "Epoch 127/1000\n",
      "33/33 [==============================] - 148s 4s/step - loss: 8.1265e-05 - recall: 1.0000 - precision: 1.0000 - val_loss: 1.2579e-04 - val_recall: 1.0000 - val_precision: 1.0000\n",
      "Epoch 128/1000\n",
      "33/33 [==============================] - 144s 4s/step - loss: 4.9774e-05 - recall: 1.0000 - precision: 1.0000 - val_loss: 5.8520e-05 - val_recall: 1.0000 - val_precision: 1.0000\n",
      "Epoch 129/1000\n",
      "33/33 [==============================] - 146s 4s/step - loss: 8.1236e-05 - recall: 1.0000 - precision: 1.0000 - val_loss: 5.1635e-05 - val_recall: 1.0000 - val_precision: 1.0000\n",
      "Epoch 130/1000\n",
      "33/33 [==============================] - 145s 4s/step - loss: 4.6145e-05 - recall: 1.0000 - precision: 1.0000 - val_loss: 4.2477e-05 - val_recall: 1.0000 - val_precision: 1.0000\n",
      "Epoch 131/1000\n",
      "33/33 [==============================] - 142s 4s/step - loss: 5.7479e-05 - recall: 1.0000 - precision: 1.0000 - val_loss: 1.0304e-04 - val_recall: 1.0000 - val_precision: 1.0000\n",
      "Epoch 132/1000\n",
      "33/33 [==============================] - 147s 4s/step - loss: 3.9829e-05 - recall: 1.0000 - precision: 1.0000 - val_loss: 1.1836e-04 - val_recall: 1.0000 - val_precision: 1.0000\n",
      "Epoch 133/1000\n",
      "33/33 [==============================] - 147s 4s/step - loss: 7.1098e-05 - recall: 1.0000 - precision: 1.0000 - val_loss: 1.1859e-05 - val_recall: 1.0000 - val_precision: 1.0000\n",
      "INFO:tensorflow:Assets written to: output_model_checkpoints/assets\n",
      "Epoch 134/1000\n",
      "33/33 [==============================] - 146s 4s/step - loss: 6.4048e-05 - recall: 1.0000 - precision: 1.0000 - val_loss: 1.0350e-04 - val_recall: 1.0000 - val_precision: 1.0000\n",
      "Epoch 135/1000\n",
      "33/33 [==============================] - 142s 4s/step - loss: 3.7230e-05 - recall: 1.0000 - precision: 1.0000 - val_loss: 4.6119e-05 - val_recall: 1.0000 - val_precision: 1.0000\n",
      "Epoch 136/1000\n",
      "33/33 [==============================] - 141s 4s/step - loss: 3.1104e-05 - recall: 1.0000 - precision: 1.0000 - val_loss: 9.0154e-05 - val_recall: 1.0000 - val_precision: 1.0000\n",
      "Epoch 137/1000\n",
      "33/33 [==============================] - 145s 4s/step - loss: 6.0961e-05 - recall: 1.0000 - precision: 1.0000 - val_loss: 2.6772e-05 - val_recall: 1.0000 - val_precision: 1.0000\n",
      "Epoch 138/1000\n",
      "33/33 [==============================] - 142s 4s/step - loss: 5.1312e-05 - recall: 1.0000 - precision: 1.0000 - val_loss: 5.1857e-05 - val_recall: 1.0000 - val_precision: 1.0000\n",
      "Epoch 139/1000\n",
      "33/33 [==============================] - 146s 4s/step - loss: 4.9284e-05 - recall: 1.0000 - precision: 1.0000 - val_loss: 2.3581e-06 - val_recall: 1.0000 - val_precision: 1.0000\n",
      "INFO:tensorflow:Assets written to: output_model_checkpoints/assets\n",
      "Epoch 140/1000\n",
      "33/33 [==============================] - 148s 4s/step - loss: 5.7360e-05 - recall: 1.0000 - precision: 1.0000 - val_loss: 4.0969e-05 - val_recall: 1.0000 - val_precision: 1.0000\n",
      "Epoch 141/1000\n",
      "33/33 [==============================] - 144s 4s/step - loss: 6.3083e-05 - recall: 1.0000 - precision: 1.0000 - val_loss: 2.3941e-05 - val_recall: 1.0000 - val_precision: 1.0000\n",
      "Epoch 142/1000\n",
      "33/33 [==============================] - 139s 4s/step - loss: 4.2707e-05 - recall: 1.0000 - precision: 1.0000 - val_loss: 8.2936e-05 - val_recall: 1.0000 - val_precision: 1.0000\n",
      "Epoch 143/1000\n",
      "33/33 [==============================] - 150s 5s/step - loss: 5.5445e-05 - recall: 1.0000 - precision: 1.0000 - val_loss: 2.3185e-05 - val_recall: 1.0000 - val_precision: 1.0000\n",
      "Epoch 144/1000\n",
      "33/33 [==============================] - 149s 5s/step - loss: 5.2255e-05 - recall: 1.0000 - precision: 1.0000 - val_loss: 5.2168e-05 - val_recall: 1.0000 - val_precision: 1.0000\n",
      "Epoch 145/1000\n",
      "33/33 [==============================] - 149s 5s/step - loss: 3.6640e-05 - recall: 1.0000 - precision: 1.0000 - val_loss: 6.1235e-05 - val_recall: 1.0000 - val_precision: 1.0000\n",
      "Epoch 146/1000\n",
      "33/33 [==============================] - 143s 4s/step - loss: 5.5240e-05 - recall: 1.0000 - precision: 1.0000 - val_loss: 3.7095e-05 - val_recall: 1.0000 - val_precision: 1.0000\n",
      "Epoch 147/1000\n",
      "33/33 [==============================] - 142s 4s/step - loss: 4.6724e-05 - recall: 1.0000 - precision: 1.0000 - val_loss: 4.6313e-05 - val_recall: 1.0000 - val_precision: 1.0000\n",
      "Epoch 148/1000\n",
      "33/33 [==============================] - 142s 4s/step - loss: 3.5215e-05 - recall: 1.0000 - precision: 1.0000 - val_loss: 7.6640e-05 - val_recall: 1.0000 - val_precision: 1.0000\n",
      "Epoch 149/1000\n",
      "33/33 [==============================] - 140s 4s/step - loss: 3.1721e-05 - recall: 1.0000 - precision: 1.0000 - val_loss: 2.8308e-06 - val_recall: 1.0000 - val_precision: 1.0000\n",
      "Epoch 150/1000\n",
      "33/33 [==============================] - 142s 4s/step - loss: 2.5155e-05 - recall: 1.0000 - precision: 1.0000 - val_loss: 3.8063e-05 - val_recall: 1.0000 - val_precision: 1.0000\n",
      "Epoch 151/1000\n",
      "33/33 [==============================] - 147s 4s/step - loss: 2.2896e-05 - recall: 1.0000 - precision: 1.0000 - val_loss: 4.4054e-05 - val_recall: 1.0000 - val_precision: 1.0000\n",
      "Epoch 152/1000\n",
      "33/33 [==============================] - 143s 4s/step - loss: 1.2961e-05 - recall: 1.0000 - precision: 1.0000 - val_loss: 8.1023e-06 - val_recall: 1.0000 - val_precision: 1.0000\n",
      "Epoch 153/1000\n",
      "33/33 [==============================] - 144s 4s/step - loss: 4.0487e-05 - recall: 1.0000 - precision: 1.0000 - val_loss: 1.8276e-05 - val_recall: 1.0000 - val_precision: 1.0000\n",
      "Epoch 154/1000\n",
      "33/33 [==============================] - 140s 4s/step - loss: 2.9691e-05 - recall: 1.0000 - precision: 1.0000 - val_loss: 9.7752e-06 - val_recall: 1.0000 - val_precision: 1.0000\n",
      "Epoch 155/1000\n",
      "33/33 [==============================] - 139s 4s/step - loss: 3.1249e-05 - recall: 1.0000 - precision: 1.0000 - val_loss: 2.7237e-05 - val_recall: 1.0000 - val_precision: 1.0000\n",
      "Epoch 156/1000\n",
      "33/33 [==============================] - 142s 4s/step - loss: 2.3293e-05 - recall: 1.0000 - precision: 1.0000 - val_loss: 1.7692e-06 - val_recall: 1.0000 - val_precision: 1.0000\n",
      "INFO:tensorflow:Assets written to: output_model_checkpoints/assets\n",
      "Epoch 157/1000\n",
      "33/33 [==============================] - 143s 4s/step - loss: 1.6893e-05 - recall: 1.0000 - precision: 1.0000 - val_loss: 1.5069e-05 - val_recall: 1.0000 - val_precision: 1.0000\n",
      "Epoch 158/1000\n",
      "33/33 [==============================] - 144s 4s/step - loss: 1.8655e-05 - recall: 1.0000 - precision: 1.0000 - val_loss: 2.2954e-05 - val_recall: 1.0000 - val_precision: 1.0000\n",
      "Epoch 159/1000\n",
      "33/33 [==============================] - 142s 4s/step - loss: 2.5652e-05 - recall: 1.0000 - precision: 1.0000 - val_loss: 1.2167e-05 - val_recall: 1.0000 - val_precision: 1.0000\n",
      "Epoch 160/1000\n",
      "33/33 [==============================] - 146s 4s/step - loss: 7.9822e-06 - recall: 1.0000 - precision: 1.0000 - val_loss: 1.0085e-06 - val_recall: 1.0000 - val_precision: 1.0000\n",
      "INFO:tensorflow:Assets written to: output_model_checkpoints/assets\n",
      "Epoch 161/1000\n",
      "33/33 [==============================] - 144s 4s/step - loss: 1.0824e-05 - recall: 1.0000 - precision: 1.0000 - val_loss: 1.4711e-05 - val_recall: 1.0000 - val_precision: 1.0000\n",
      "Epoch 162/1000\n",
      "33/33 [==============================] - 143s 4s/step - loss: 1.8255e-05 - recall: 1.0000 - precision: 1.0000 - val_loss: 1.5817e-05 - val_recall: 1.0000 - val_precision: 1.0000\n",
      "Epoch 163/1000\n",
      "33/33 [==============================] - 142s 4s/step - loss: 1.2352e-05 - recall: 1.0000 - precision: 1.0000 - val_loss: 8.8936e-06 - val_recall: 1.0000 - val_precision: 1.0000\n",
      "Epoch 164/1000\n",
      "33/33 [==============================] - 143s 4s/step - loss: 2.4624e-05 - recall: 1.0000 - precision: 1.0000 - val_loss: 2.0944e-05 - val_recall: 1.0000 - val_precision: 1.0000\n",
      "Epoch 165/1000\n",
      "33/33 [==============================] - 144s 4s/step - loss: 1.8783e-05 - recall: 1.0000 - precision: 1.0000 - val_loss: 1.3173e-05 - val_recall: 1.0000 - val_precision: 1.0000\n",
      "Epoch 166/1000\n",
      "33/33 [==============================] - 150s 5s/step - loss: 2.0751e-05 - recall: 1.0000 - precision: 1.0000 - val_loss: 1.2609e-05 - val_recall: 1.0000 - val_precision: 1.0000\n",
      "Epoch 167/1000\n",
      "33/33 [==============================] - 143s 4s/step - loss: 1.3081e-05 - recall: 1.0000 - precision: 1.0000 - val_loss: 2.2435e-06 - val_recall: 1.0000 - val_precision: 1.0000\n",
      "Epoch 168/1000\n",
      "33/33 [==============================] - 143s 4s/step - loss: 1.8581e-05 - recall: 1.0000 - precision: 1.0000 - val_loss: 9.1835e-06 - val_recall: 1.0000 - val_precision: 1.0000\n",
      "Epoch 169/1000\n"
     ]
    },
    {
     "name": "stdout",
     "output_type": "stream",
     "text": [
      "33/33 [==============================] - 142s 4s/step - loss: 1.3977e-05 - recall: 1.0000 - precision: 1.0000 - val_loss: 3.4008e-05 - val_recall: 1.0000 - val_precision: 1.0000\n",
      "Epoch 170/1000\n",
      "33/33 [==============================] - 140s 4s/step - loss: 1.8843e-05 - recall: 1.0000 - precision: 1.0000 - val_loss: 1.0927e-05 - val_recall: 1.0000 - val_precision: 1.0000\n",
      "Epoch 171/1000\n",
      "33/33 [==============================] - 141s 4s/step - loss: 1.7909e-05 - recall: 1.0000 - precision: 1.0000 - val_loss: 1.9983e-05 - val_recall: 1.0000 - val_precision: 1.0000\n",
      "Epoch 172/1000\n",
      "33/33 [==============================] - 142s 4s/step - loss: 1.3102e-05 - recall: 1.0000 - precision: 1.0000 - val_loss: 1.8190e-05 - val_recall: 1.0000 - val_precision: 1.0000\n",
      "Epoch 173/1000\n",
      "33/33 [==============================] - 143s 4s/step - loss: 1.8828e-05 - recall: 1.0000 - precision: 1.0000 - val_loss: 9.0364e-06 - val_recall: 1.0000 - val_precision: 1.0000\n",
      "Epoch 174/1000\n",
      "33/33 [==============================] - 145s 4s/step - loss: 1.3344e-05 - recall: 1.0000 - precision: 1.0000 - val_loss: 1.7237e-05 - val_recall: 1.0000 - val_precision: 1.0000\n",
      "Epoch 175/1000\n",
      "33/33 [==============================] - 144s 4s/step - loss: 1.7900e-05 - recall: 1.0000 - precision: 1.0000 - val_loss: 1.1686e-05 - val_recall: 1.0000 - val_precision: 1.0000\n",
      "Epoch 176/1000\n",
      "33/33 [==============================] - 141s 4s/step - loss: 1.1965e-05 - recall: 1.0000 - precision: 1.0000 - val_loss: 2.3458e-05 - val_recall: 1.0000 - val_precision: 1.0000\n",
      "Epoch 177/1000\n",
      "33/33 [==============================] - 146s 4s/step - loss: 1.3829e-05 - recall: 1.0000 - precision: 1.0000 - val_loss: 2.3623e-05 - val_recall: 1.0000 - val_precision: 1.0000\n",
      "Epoch 178/1000\n",
      "33/33 [==============================] - 146s 4s/step - loss: 1.5097e-05 - recall: 1.0000 - precision: 1.0000 - val_loss: 3.3661e-06 - val_recall: 1.0000 - val_precision: 1.0000\n",
      "Epoch 179/1000\n",
      "33/33 [==============================] - 142s 4s/step - loss: 8.6078e-06 - recall: 1.0000 - precision: 1.0000 - val_loss: 6.0356e-06 - val_recall: 1.0000 - val_precision: 1.0000\n",
      "Epoch 180/1000\n",
      "33/33 [==============================] - 141s 4s/step - loss: 1.3859e-05 - recall: 1.0000 - precision: 1.0000 - val_loss: 1.3188e-05 - val_recall: 1.0000 - val_precision: 1.0000\n",
      "Epoch 181/1000\n",
      "33/33 [==============================] - 142s 4s/step - loss: 1.5425e-05 - recall: 1.0000 - precision: 1.0000 - val_loss: 9.1663e-06 - val_recall: 1.0000 - val_precision: 1.0000\n",
      "Epoch 182/1000\n",
      "33/33 [==============================] - 146s 4s/step - loss: 1.4562e-05 - recall: 1.0000 - precision: 1.0000 - val_loss: 6.1375e-06 - val_recall: 1.0000 - val_precision: 1.0000\n",
      "Epoch 183/1000\n",
      "33/33 [==============================] - 145s 4s/step - loss: 1.2884e-05 - recall: 1.0000 - precision: 1.0000 - val_loss: 8.4012e-06 - val_recall: 1.0000 - val_precision: 1.0000\n",
      "Epoch 184/1000\n",
      "33/33 [==============================] - 149s 4s/step - loss: 1.5456e-05 - recall: 1.0000 - precision: 1.0000 - val_loss: 1.1619e-05 - val_recall: 1.0000 - val_precision: 1.0000\n",
      "Epoch 185/1000\n",
      "33/33 [==============================] - 143s 4s/step - loss: 8.4973e-06 - recall: 1.0000 - precision: 1.0000 - val_loss: 3.3589e-06 - val_recall: 1.0000 - val_precision: 1.0000\n",
      "Epoch 186/1000\n",
      "33/33 [==============================] - 143s 4s/step - loss: 1.4291e-05 - recall: 1.0000 - precision: 1.0000 - val_loss: 6.1736e-06 - val_recall: 1.0000 - val_precision: 1.0000\n",
      "Epoch 187/1000\n",
      "33/33 [==============================] - 142s 4s/step - loss: 1.3520e-05 - recall: 1.0000 - precision: 1.0000 - val_loss: 1.0963e-05 - val_recall: 1.0000 - val_precision: 1.0000\n",
      "Epoch 188/1000\n",
      "33/33 [==============================] - 145s 4s/step - loss: 1.5385e-05 - recall: 1.0000 - precision: 1.0000 - val_loss: 1.2026e-05 - val_recall: 1.0000 - val_precision: 1.0000\n",
      "Epoch 189/1000\n",
      "33/33 [==============================] - 144s 4s/step - loss: 1.3301e-05 - recall: 1.0000 - precision: 1.0000 - val_loss: 1.4227e-05 - val_recall: 1.0000 - val_precision: 1.0000\n",
      "Epoch 190/1000\n",
      "33/33 [==============================] - 139s 4s/step - loss: 6.7330e-06 - recall: 1.0000 - precision: 1.0000 - val_loss: 9.6978e-06 - val_recall: 1.0000 - val_precision: 1.0000\n",
      "Epoch 191/1000\n",
      "33/33 [==============================] - 143s 4s/step - loss: 1.1913e-05 - recall: 1.0000 - precision: 1.0000 - val_loss: 2.4641e-05 - val_recall: 1.0000 - val_precision: 1.0000\n",
      "Epoch 192/1000\n",
      "33/33 [==============================] - 145s 4s/step - loss: 1.2160e-05 - recall: 1.0000 - precision: 1.0000 - val_loss: 1.9604e-05 - val_recall: 1.0000 - val_precision: 1.0000\n",
      "Epoch 193/1000\n",
      "33/33 [==============================] - 151s 5s/step - loss: 6.4356e-06 - recall: 1.0000 - precision: 1.0000 - val_loss: 8.3226e-06 - val_recall: 1.0000 - val_precision: 1.0000\n",
      "Epoch 194/1000\n",
      "33/33 [==============================] - 140s 4s/step - loss: 1.3421e-05 - recall: 1.0000 - precision: 1.0000 - val_loss: 1.4683e-05 - val_recall: 1.0000 - val_precision: 1.0000\n",
      "Epoch 195/1000\n",
      "33/33 [==============================] - 140s 4s/step - loss: 1.1804e-05 - recall: 1.0000 - precision: 1.0000 - val_loss: 4.8504e-06 - val_recall: 1.0000 - val_precision: 1.0000\n",
      "Epoch 196/1000\n",
      "33/33 [==============================] - 144s 4s/step - loss: 5.3991e-06 - recall: 1.0000 - precision: 1.0000 - val_loss: 6.2337e-06 - val_recall: 1.0000 - val_precision: 1.0000\n",
      "Epoch 197/1000\n",
      "33/33 [==============================] - 146s 4s/step - loss: 1.3128e-05 - recall: 1.0000 - precision: 1.0000 - val_loss: 7.4542e-06 - val_recall: 1.0000 - val_precision: 1.0000\n",
      "Epoch 198/1000\n",
      "33/33 [==============================] - 147s 4s/step - loss: 9.5128e-06 - recall: 1.0000 - precision: 1.0000 - val_loss: 3.0073e-06 - val_recall: 1.0000 - val_precision: 1.0000\n",
      "Epoch 199/1000\n",
      "33/33 [==============================] - 143s 4s/step - loss: 8.7659e-06 - recall: 1.0000 - precision: 1.0000 - val_loss: 1.7255e-05 - val_recall: 1.0000 - val_precision: 1.0000\n",
      "Epoch 200/1000\n",
      "33/33 [==============================] - 145s 4s/step - loss: 1.0742e-05 - recall: 1.0000 - precision: 1.0000 - val_loss: 8.7688e-06 - val_recall: 1.0000 - val_precision: 1.0000\n",
      "Epoch 201/1000\n",
      "33/33 [==============================] - 146s 4s/step - loss: 4.1746e-06 - recall: 1.0000 - precision: 1.0000 - val_loss: 4.1112e-06 - val_recall: 1.0000 - val_precision: 1.0000\n",
      "Epoch 202/1000\n",
      "33/33 [==============================] - 144s 4s/step - loss: 9.1538e-06 - recall: 1.0000 - precision: 1.0000 - val_loss: 4.3126e-06 - val_recall: 1.0000 - val_precision: 1.0000\n",
      "Epoch 203/1000\n",
      "33/33 [==============================] - 145s 4s/step - loss: 7.2953e-06 - recall: 1.0000 - precision: 1.0000 - val_loss: 1.2297e-05 - val_recall: 1.0000 - val_precision: 1.0000\n",
      "Epoch 204/1000\n",
      "33/33 [==============================] - 141s 4s/step - loss: 8.8242e-06 - recall: 1.0000 - precision: 1.0000 - val_loss: 5.4153e-06 - val_recall: 1.0000 - val_precision: 1.0000\n",
      "Epoch 205/1000\n",
      "33/33 [==============================] - 142s 4s/step - loss: 9.0173e-06 - recall: 1.0000 - precision: 1.0000 - val_loss: 4.2038e-06 - val_recall: 1.0000 - val_precision: 1.0000\n",
      "Epoch 206/1000\n",
      "33/33 [==============================] - 143s 4s/step - loss: 7.1399e-06 - recall: 1.0000 - precision: 1.0000 - val_loss: 1.6663e-05 - val_recall: 1.0000 - val_precision: 1.0000\n",
      "Epoch 207/1000\n",
      "33/33 [==============================] - 145s 4s/step - loss: 9.6012e-06 - recall: 1.0000 - precision: 1.0000 - val_loss: 9.5008e-06 - val_recall: 1.0000 - val_precision: 1.0000\n",
      "Epoch 208/1000\n",
      "33/33 [==============================] - 144s 4s/step - loss: 8.6117e-06 - recall: 1.0000 - precision: 1.0000 - val_loss: 3.8783e-06 - val_recall: 1.0000 - val_precision: 1.0000\n",
      "Epoch 209/1000\n",
      "33/33 [==============================] - 143s 4s/step - loss: 5.6856e-06 - recall: 1.0000 - precision: 1.0000 - val_loss: 2.1367e-06 - val_recall: 1.0000 - val_precision: 1.0000\n",
      "Epoch 210/1000\n",
      "33/33 [==============================] - 143s 4s/step - loss: 9.6879e-06 - recall: 1.0000 - precision: 1.0000 - val_loss: 9.2477e-06 - val_recall: 1.0000 - val_precision: 1.0000\n",
      "Epoch 211/1000\n",
      "33/33 [==============================] - 139s 4s/step - loss: 7.6832e-06 - recall: 1.0000 - precision: 1.0000 - val_loss: 6.2492e-06 - val_recall: 1.0000 - val_precision: 1.0000\n",
      "Epoch 212/1000\n",
      "33/33 [==============================] - 147s 4s/step - loss: 8.2175e-06 - recall: 1.0000 - precision: 1.0000 - val_loss: 1.3202e-05 - val_recall: 1.0000 - val_precision: 1.0000\n",
      "Epoch 213/1000\n",
      "33/33 [==============================] - 142s 4s/step - loss: 4.3505e-06 - recall: 1.0000 - precision: 1.0000 - val_loss: 7.3477e-06 - val_recall: 1.0000 - val_precision: 1.0000\n",
      "Epoch 214/1000\n",
      "33/33 [==============================] - 150s 5s/step - loss: 4.5547e-06 - recall: 1.0000 - precision: 1.0000 - val_loss: 8.4074e-06 - val_recall: 1.0000 - val_precision: 1.0000\n",
      "Epoch 215/1000\n",
      "33/33 [==============================] - 142s 4s/step - loss: 8.8658e-06 - recall: 1.0000 - precision: 1.0000 - val_loss: 1.1390e-05 - val_recall: 1.0000 - val_precision: 1.0000\n"
     ]
    },
    {
     "ename": "KeyboardInterrupt",
     "evalue": "",
     "output_type": "error",
     "traceback": [
      "\u001b[0;31m---------------------------------------------------------------------------\u001b[0m",
      "\u001b[0;31mKeyboardInterrupt\u001b[0m                         Traceback (most recent call last)",
      "\u001b[0;32m<ipython-input-50-56b77705ab02>\u001b[0m in \u001b[0;36m<module>\u001b[0;34m\u001b[0m\n\u001b[0;32m----> 1\u001b[0;31m \u001b[0mhist\u001b[0m \u001b[0;34m=\u001b[0m \u001b[0mmodel\u001b[0m\u001b[0;34m.\u001b[0m\u001b[0mfit\u001b[0m\u001b[0;34m(\u001b[0m\u001b[0mtrain\u001b[0m\u001b[0;34m,\u001b[0m \u001b[0mepochs\u001b[0m\u001b[0;34m=\u001b[0m\u001b[0;36m1000\u001b[0m\u001b[0;34m,\u001b[0m \u001b[0mvalidation_data\u001b[0m\u001b[0;34m=\u001b[0m\u001b[0mtest\u001b[0m\u001b[0;34m,\u001b[0m \u001b[0mcallbacks\u001b[0m\u001b[0;34m=\u001b[0m\u001b[0;34m[\u001b[0m\u001b[0mtensorboard_callback\u001b[0m\u001b[0;34m,\u001b[0m \u001b[0mcheckpoint_callback\u001b[0m\u001b[0;34m]\u001b[0m\u001b[0;34m)\u001b[0m\u001b[0;34m\u001b[0m\u001b[0;34m\u001b[0m\u001b[0m\n\u001b[0m",
      "\u001b[0;32m/usr/local/lib/python3.6/dist-packages/keras/engine/training.py\u001b[0m in \u001b[0;36mfit\u001b[0;34m(self, x, y, batch_size, epochs, verbose, callbacks, validation_split, validation_data, shuffle, class_weight, sample_weight, initial_epoch, steps_per_epoch, validation_steps, validation_batch_size, validation_freq, max_queue_size, workers, use_multiprocessing)\u001b[0m\n\u001b[1;32m   1228\u001b[0m           \u001b[0mepoch_logs\u001b[0m\u001b[0;34m.\u001b[0m\u001b[0mupdate\u001b[0m\u001b[0;34m(\u001b[0m\u001b[0mval_logs\u001b[0m\u001b[0;34m)\u001b[0m\u001b[0;34m\u001b[0m\u001b[0;34m\u001b[0m\u001b[0m\n\u001b[1;32m   1229\u001b[0m \u001b[0;34m\u001b[0m\u001b[0m\n\u001b[0;32m-> 1230\u001b[0;31m         \u001b[0mcallbacks\u001b[0m\u001b[0;34m.\u001b[0m\u001b[0mon_epoch_end\u001b[0m\u001b[0;34m(\u001b[0m\u001b[0mepoch\u001b[0m\u001b[0;34m,\u001b[0m \u001b[0mepoch_logs\u001b[0m\u001b[0;34m)\u001b[0m\u001b[0;34m\u001b[0m\u001b[0;34m\u001b[0m\u001b[0m\n\u001b[0m\u001b[1;32m   1231\u001b[0m         \u001b[0mtraining_logs\u001b[0m \u001b[0;34m=\u001b[0m \u001b[0mepoch_logs\u001b[0m\u001b[0;34m\u001b[0m\u001b[0;34m\u001b[0m\u001b[0m\n\u001b[1;32m   1232\u001b[0m         \u001b[0;32mif\u001b[0m \u001b[0mself\u001b[0m\u001b[0;34m.\u001b[0m\u001b[0mstop_training\u001b[0m\u001b[0;34m:\u001b[0m\u001b[0;34m\u001b[0m\u001b[0;34m\u001b[0m\u001b[0m\n",
      "\u001b[0;32m/usr/local/lib/python3.6/dist-packages/keras/callbacks.py\u001b[0m in \u001b[0;36mon_epoch_end\u001b[0;34m(self, epoch, logs)\u001b[0m\n\u001b[1;32m    411\u001b[0m     \u001b[0mlogs\u001b[0m \u001b[0;34m=\u001b[0m \u001b[0mself\u001b[0m\u001b[0;34m.\u001b[0m\u001b[0m_process_logs\u001b[0m\u001b[0;34m(\u001b[0m\u001b[0mlogs\u001b[0m\u001b[0;34m)\u001b[0m\u001b[0;34m\u001b[0m\u001b[0;34m\u001b[0m\u001b[0m\n\u001b[1;32m    412\u001b[0m     \u001b[0;32mfor\u001b[0m \u001b[0mcallback\u001b[0m \u001b[0;32min\u001b[0m \u001b[0mself\u001b[0m\u001b[0;34m.\u001b[0m\u001b[0mcallbacks\u001b[0m\u001b[0;34m:\u001b[0m\u001b[0;34m\u001b[0m\u001b[0;34m\u001b[0m\u001b[0m\n\u001b[0;32m--> 413\u001b[0;31m       \u001b[0mcallback\u001b[0m\u001b[0;34m.\u001b[0m\u001b[0mon_epoch_end\u001b[0m\u001b[0;34m(\u001b[0m\u001b[0mepoch\u001b[0m\u001b[0;34m,\u001b[0m \u001b[0mlogs\u001b[0m\u001b[0;34m)\u001b[0m\u001b[0;34m\u001b[0m\u001b[0;34m\u001b[0m\u001b[0m\n\u001b[0m\u001b[1;32m    414\u001b[0m \u001b[0;34m\u001b[0m\u001b[0m\n\u001b[1;32m    415\u001b[0m   \u001b[0;32mdef\u001b[0m \u001b[0mon_train_batch_begin\u001b[0m\u001b[0;34m(\u001b[0m\u001b[0mself\u001b[0m\u001b[0;34m,\u001b[0m \u001b[0mbatch\u001b[0m\u001b[0;34m,\u001b[0m \u001b[0mlogs\u001b[0m\u001b[0;34m=\u001b[0m\u001b[0;32mNone\u001b[0m\u001b[0;34m)\u001b[0m\u001b[0;34m:\u001b[0m\u001b[0;34m\u001b[0m\u001b[0;34m\u001b[0m\u001b[0m\n",
      "\u001b[0;32m/usr/local/lib/python3.6/dist-packages/keras/callbacks.py\u001b[0m in \u001b[0;36mon_epoch_end\u001b[0;34m(self, epoch, logs)\u001b[0m\n\u001b[1;32m   2445\u001b[0m \u001b[0;34m\u001b[0m\u001b[0m\n\u001b[1;32m   2446\u001b[0m     \u001b[0;32mif\u001b[0m \u001b[0mself\u001b[0m\u001b[0;34m.\u001b[0m\u001b[0mhistogram_freq\u001b[0m \u001b[0;32mand\u001b[0m \u001b[0mepoch\u001b[0m \u001b[0;34m%\u001b[0m \u001b[0mself\u001b[0m\u001b[0;34m.\u001b[0m\u001b[0mhistogram_freq\u001b[0m \u001b[0;34m==\u001b[0m \u001b[0;36m0\u001b[0m\u001b[0;34m:\u001b[0m\u001b[0;34m\u001b[0m\u001b[0;34m\u001b[0m\u001b[0m\n\u001b[0;32m-> 2447\u001b[0;31m       \u001b[0mself\u001b[0m\u001b[0;34m.\u001b[0m\u001b[0m_log_weights\u001b[0m\u001b[0;34m(\u001b[0m\u001b[0mepoch\u001b[0m\u001b[0;34m)\u001b[0m\u001b[0;34m\u001b[0m\u001b[0;34m\u001b[0m\u001b[0m\n\u001b[0m\u001b[1;32m   2448\u001b[0m \u001b[0;34m\u001b[0m\u001b[0m\n\u001b[1;32m   2449\u001b[0m     \u001b[0;32mif\u001b[0m \u001b[0mself\u001b[0m\u001b[0;34m.\u001b[0m\u001b[0membeddings_freq\u001b[0m \u001b[0;32mand\u001b[0m \u001b[0mepoch\u001b[0m \u001b[0;34m%\u001b[0m \u001b[0mself\u001b[0m\u001b[0;34m.\u001b[0m\u001b[0membeddings_freq\u001b[0m \u001b[0;34m==\u001b[0m \u001b[0;36m0\u001b[0m\u001b[0;34m:\u001b[0m\u001b[0;34m\u001b[0m\u001b[0;34m\u001b[0m\u001b[0m\n",
      "\u001b[0;32m/usr/local/lib/python3.6/dist-packages/keras/callbacks.py\u001b[0m in \u001b[0;36m_log_weights\u001b[0;34m(self, epoch)\u001b[0m\n\u001b[1;32m   2512\u001b[0m           \u001b[0;32mfor\u001b[0m \u001b[0mweight\u001b[0m \u001b[0;32min\u001b[0m \u001b[0mlayer\u001b[0m\u001b[0;34m.\u001b[0m\u001b[0mweights\u001b[0m\u001b[0;34m:\u001b[0m\u001b[0;34m\u001b[0m\u001b[0;34m\u001b[0m\u001b[0m\n\u001b[1;32m   2513\u001b[0m             \u001b[0mweight_name\u001b[0m \u001b[0;34m=\u001b[0m \u001b[0mweight\u001b[0m\u001b[0;34m.\u001b[0m\u001b[0mname\u001b[0m\u001b[0;34m.\u001b[0m\u001b[0mreplace\u001b[0m\u001b[0;34m(\u001b[0m\u001b[0;34m':'\u001b[0m\u001b[0;34m,\u001b[0m \u001b[0;34m'_'\u001b[0m\u001b[0;34m)\u001b[0m\u001b[0;34m\u001b[0m\u001b[0;34m\u001b[0m\u001b[0m\n\u001b[0;32m-> 2514\u001b[0;31m             \u001b[0mtf\u001b[0m\u001b[0;34m.\u001b[0m\u001b[0msummary\u001b[0m\u001b[0;34m.\u001b[0m\u001b[0mhistogram\u001b[0m\u001b[0;34m(\u001b[0m\u001b[0mweight_name\u001b[0m\u001b[0;34m,\u001b[0m \u001b[0mweight\u001b[0m\u001b[0;34m,\u001b[0m \u001b[0mstep\u001b[0m\u001b[0;34m=\u001b[0m\u001b[0mepoch\u001b[0m\u001b[0;34m)\u001b[0m\u001b[0;34m\u001b[0m\u001b[0;34m\u001b[0m\u001b[0m\n\u001b[0m\u001b[1;32m   2515\u001b[0m             \u001b[0;32mif\u001b[0m \u001b[0mself\u001b[0m\u001b[0;34m.\u001b[0m\u001b[0mwrite_images\u001b[0m\u001b[0;34m:\u001b[0m\u001b[0;34m\u001b[0m\u001b[0;34m\u001b[0m\u001b[0m\n\u001b[1;32m   2516\u001b[0m               \u001b[0mself\u001b[0m\u001b[0;34m.\u001b[0m\u001b[0m_log_weight_as_image\u001b[0m\u001b[0;34m(\u001b[0m\u001b[0mweight\u001b[0m\u001b[0;34m,\u001b[0m \u001b[0mweight_name\u001b[0m\u001b[0;34m,\u001b[0m \u001b[0mepoch\u001b[0m\u001b[0;34m)\u001b[0m\u001b[0;34m\u001b[0m\u001b[0;34m\u001b[0m\u001b[0m\n",
      "\u001b[0;32m/usr/local/lib/python3.6/dist-packages/tensorboard/plugins/histogram/summary_v2.py\u001b[0m in \u001b[0;36mhistogram\u001b[0;34m(name, data, step, buckets, description)\u001b[0m\n\u001b[1;32m    172\u001b[0m             \u001b[0;32mlambda\u001b[0m\u001b[0;34m:\u001b[0m \u001b[0;32mFalse\u001b[0m\u001b[0;34m,\u001b[0m\u001b[0;34m\u001b[0m\u001b[0;34m\u001b[0m\u001b[0m\n\u001b[1;32m    173\u001b[0m         )\n\u001b[0;32m--> 174\u001b[0;31m     \u001b[0;32mreturn\u001b[0m \u001b[0mhistogram_summary\u001b[0m\u001b[0;34m(\u001b[0m\u001b[0mdata\u001b[0m\u001b[0;34m,\u001b[0m \u001b[0mbuckets\u001b[0m\u001b[0;34m,\u001b[0m \u001b[0msummary_metadata\u001b[0m\u001b[0;34m,\u001b[0m \u001b[0mstep\u001b[0m\u001b[0;34m)\u001b[0m\u001b[0;34m\u001b[0m\u001b[0;34m\u001b[0m\u001b[0m\n\u001b[0m\u001b[1;32m    175\u001b[0m \u001b[0;34m\u001b[0m\u001b[0m\n\u001b[1;32m    176\u001b[0m \u001b[0;34m\u001b[0m\u001b[0m\n",
      "\u001b[0;32m/usr/local/lib/python3.6/dist-packages/tensorboard/plugins/histogram/summary_v2.py\u001b[0m in \u001b[0;36mhistogram_summary\u001b[0;34m(data, buckets, histogram_metadata, step)\u001b[0m\n\u001b[1;32m    152\u001b[0m                     \u001b[0mtensor\u001b[0m\u001b[0;34m=\u001b[0m\u001b[0mlazy_tensor\u001b[0m\u001b[0;34m,\u001b[0m\u001b[0;34m\u001b[0m\u001b[0;34m\u001b[0m\u001b[0m\n\u001b[1;32m    153\u001b[0m                     \u001b[0mstep\u001b[0m\u001b[0;34m=\u001b[0m\u001b[0mstep\u001b[0m\u001b[0;34m,\u001b[0m\u001b[0;34m\u001b[0m\u001b[0;34m\u001b[0m\u001b[0m\n\u001b[0;32m--> 154\u001b[0;31m                     \u001b[0mmetadata\u001b[0m\u001b[0;34m=\u001b[0m\u001b[0msummary_metadata\u001b[0m\u001b[0;34m,\u001b[0m\u001b[0;34m\u001b[0m\u001b[0;34m\u001b[0m\u001b[0m\n\u001b[0m\u001b[1;32m    155\u001b[0m                 )\n\u001b[1;32m    156\u001b[0m \u001b[0;34m\u001b[0m\u001b[0m\n",
      "\u001b[0;32m~/.local/lib/python3.6/site-packages/tensorflow/python/ops/summary_ops_v2.py\u001b[0m in \u001b[0;36mwrite\u001b[0;34m(tag, tensor, step, metadata, name)\u001b[0m\n\u001b[1;32m    761\u001b[0m \u001b[0;34m\u001b[0m\u001b[0m\n\u001b[1;32m    762\u001b[0m     op = smart_cond.smart_cond(\n\u001b[0;32m--> 763\u001b[0;31m         should_record_summaries(), record, _nothing, name=\"summary_cond\")\n\u001b[0m\u001b[1;32m    764\u001b[0m     \u001b[0;32mif\u001b[0m \u001b[0;32mnot\u001b[0m \u001b[0mcontext\u001b[0m\u001b[0;34m.\u001b[0m\u001b[0mexecuting_eagerly\u001b[0m\u001b[0;34m(\u001b[0m\u001b[0;34m)\u001b[0m\u001b[0;34m:\u001b[0m\u001b[0;34m\u001b[0m\u001b[0;34m\u001b[0m\u001b[0m\n\u001b[1;32m    765\u001b[0m       \u001b[0mops\u001b[0m\u001b[0;34m.\u001b[0m\u001b[0madd_to_collection\u001b[0m\u001b[0;34m(\u001b[0m\u001b[0mops\u001b[0m\u001b[0;34m.\u001b[0m\u001b[0mGraphKeys\u001b[0m\u001b[0;34m.\u001b[0m\u001b[0m_SUMMARY_COLLECTION\u001b[0m\u001b[0;34m,\u001b[0m \u001b[0mop\u001b[0m\u001b[0;34m)\u001b[0m  \u001b[0;31m# pylint: disable=protected-access\u001b[0m\u001b[0;34m\u001b[0m\u001b[0;34m\u001b[0m\u001b[0m\n",
      "\u001b[0;32m~/.local/lib/python3.6/site-packages/tensorflow/python/framework/smart_cond.py\u001b[0m in \u001b[0;36msmart_cond\u001b[0;34m(pred, true_fn, false_fn, name)\u001b[0m\n\u001b[1;32m     54\u001b[0m   \u001b[0;32mif\u001b[0m \u001b[0mpred_value\u001b[0m \u001b[0;32mis\u001b[0m \u001b[0;32mnot\u001b[0m \u001b[0;32mNone\u001b[0m\u001b[0;34m:\u001b[0m\u001b[0;34m\u001b[0m\u001b[0;34m\u001b[0m\u001b[0m\n\u001b[1;32m     55\u001b[0m     \u001b[0;32mif\u001b[0m \u001b[0mpred_value\u001b[0m\u001b[0;34m:\u001b[0m\u001b[0;34m\u001b[0m\u001b[0;34m\u001b[0m\u001b[0m\n\u001b[0;32m---> 56\u001b[0;31m       \u001b[0;32mreturn\u001b[0m \u001b[0mtrue_fn\u001b[0m\u001b[0;34m(\u001b[0m\u001b[0;34m)\u001b[0m\u001b[0;34m\u001b[0m\u001b[0;34m\u001b[0m\u001b[0m\n\u001b[0m\u001b[1;32m     57\u001b[0m     \u001b[0;32melse\u001b[0m\u001b[0;34m:\u001b[0m\u001b[0;34m\u001b[0m\u001b[0;34m\u001b[0m\u001b[0m\n\u001b[1;32m     58\u001b[0m       \u001b[0;32mreturn\u001b[0m \u001b[0mfalse_fn\u001b[0m\u001b[0;34m(\u001b[0m\u001b[0;34m)\u001b[0m\u001b[0;34m\u001b[0m\u001b[0;34m\u001b[0m\u001b[0m\n",
      "\u001b[0;32m~/.local/lib/python3.6/site-packages/tensorflow/python/ops/summary_ops_v2.py\u001b[0m in \u001b[0;36mrecord\u001b[0;34m()\u001b[0m\n\u001b[1;32m    748\u001b[0m       \u001b[0;31m# Note the identity to move the tensor to the CPU.\u001b[0m\u001b[0;34m\u001b[0m\u001b[0;34m\u001b[0m\u001b[0;34m\u001b[0m\u001b[0m\n\u001b[1;32m    749\u001b[0m       \u001b[0;32mwith\u001b[0m \u001b[0mops\u001b[0m\u001b[0;34m.\u001b[0m\u001b[0mdevice\u001b[0m\u001b[0;34m(\u001b[0m\u001b[0;34m\"cpu:0\"\u001b[0m\u001b[0;34m)\u001b[0m\u001b[0;34m:\u001b[0m\u001b[0;34m\u001b[0m\u001b[0;34m\u001b[0m\u001b[0m\n\u001b[0;32m--> 750\u001b[0;31m         summary_tensor = tensor() if callable(tensor) else array_ops.identity(\n\u001b[0m\u001b[1;32m    751\u001b[0m             tensor)\n\u001b[1;32m    752\u001b[0m         write_summary_op = gen_summary_ops.write_summary(\n",
      "\u001b[0;32m/usr/local/lib/python3.6/dist-packages/tensorboard/util/lazy_tensor_creator.py\u001b[0m in \u001b[0;36m__call__\u001b[0;34m(self)\u001b[0m\n\u001b[1;32m     64\u001b[0m                 \u001b[0;32melif\u001b[0m \u001b[0mself\u001b[0m\u001b[0;34m.\u001b[0m\u001b[0m_tensor\u001b[0m \u001b[0;32mis\u001b[0m \u001b[0;32mNone\u001b[0m\u001b[0;34m:\u001b[0m\u001b[0;34m\u001b[0m\u001b[0;34m\u001b[0m\u001b[0m\n\u001b[1;32m     65\u001b[0m                     \u001b[0mself\u001b[0m\u001b[0;34m.\u001b[0m\u001b[0m_tensor\u001b[0m \u001b[0;34m=\u001b[0m \u001b[0m_CALL_IN_PROGRESS_SENTINEL\u001b[0m\u001b[0;34m\u001b[0m\u001b[0;34m\u001b[0m\u001b[0m\n\u001b[0;32m---> 66\u001b[0;31m                     \u001b[0mself\u001b[0m\u001b[0;34m.\u001b[0m\u001b[0m_tensor\u001b[0m \u001b[0;34m=\u001b[0m \u001b[0mself\u001b[0m\u001b[0;34m.\u001b[0m\u001b[0m_tensor_callable\u001b[0m\u001b[0;34m(\u001b[0m\u001b[0;34m)\u001b[0m\u001b[0;34m\u001b[0m\u001b[0;34m\u001b[0m\u001b[0m\n\u001b[0m\u001b[1;32m     67\u001b[0m         \u001b[0;32mreturn\u001b[0m \u001b[0mself\u001b[0m\u001b[0;34m.\u001b[0m\u001b[0m_tensor\u001b[0m\u001b[0;34m\u001b[0m\u001b[0;34m\u001b[0m\u001b[0m\n\u001b[1;32m     68\u001b[0m \u001b[0;34m\u001b[0m\u001b[0m\n",
      "\u001b[0;32m/usr/local/lib/python3.6/dist-packages/tensorboard/plugins/histogram/summary_v2.py\u001b[0m in \u001b[0;36mlazy_tensor\u001b[0;34m()\u001b[0m\n\u001b[1;32m    146\u001b[0m                 \u001b[0;34m@\u001b[0m\u001b[0mlazy_tensor_creator\u001b[0m\u001b[0;34m.\u001b[0m\u001b[0mLazyTensorCreator\u001b[0m\u001b[0;34m\u001b[0m\u001b[0;34m\u001b[0m\u001b[0m\n\u001b[1;32m    147\u001b[0m                 \u001b[0;32mdef\u001b[0m \u001b[0mlazy_tensor\u001b[0m\u001b[0;34m(\u001b[0m\u001b[0;34m)\u001b[0m\u001b[0;34m:\u001b[0m\u001b[0;34m\u001b[0m\u001b[0;34m\u001b[0m\u001b[0m\n\u001b[0;32m--> 148\u001b[0;31m                     \u001b[0;32mreturn\u001b[0m \u001b[0m_buckets\u001b[0m\u001b[0;34m(\u001b[0m\u001b[0mdata\u001b[0m\u001b[0;34m,\u001b[0m \u001b[0mbuckets\u001b[0m\u001b[0;34m)\u001b[0m\u001b[0;34m\u001b[0m\u001b[0;34m\u001b[0m\u001b[0m\n\u001b[0m\u001b[1;32m    149\u001b[0m \u001b[0;34m\u001b[0m\u001b[0m\n\u001b[1;32m    150\u001b[0m                 return tf.summary.write(\n",
      "\u001b[0;32m/usr/local/lib/python3.6/dist-packages/tensorboard/plugins/histogram/summary_v2.py\u001b[0m in \u001b[0;36m_buckets\u001b[0;34m(data, bucket_count)\u001b[0m\n\u001b[1;32m    239\u001b[0m             \u001b[0;32mreturn\u001b[0m \u001b[0mtf\u001b[0m\u001b[0;34m.\u001b[0m\u001b[0mcond\u001b[0m\u001b[0;34m(\u001b[0m\u001b[0mis_singular\u001b[0m\u001b[0;34m,\u001b[0m \u001b[0mwhen_singular\u001b[0m\u001b[0;34m,\u001b[0m \u001b[0mwhen_nonsingular\u001b[0m\u001b[0;34m)\u001b[0m\u001b[0;34m\u001b[0m\u001b[0;34m\u001b[0m\u001b[0m\n\u001b[1;32m    240\u001b[0m \u001b[0;34m\u001b[0m\u001b[0m\n\u001b[0;32m--> 241\u001b[0;31m         \u001b[0;32mreturn\u001b[0m \u001b[0mtf\u001b[0m\u001b[0;34m.\u001b[0m\u001b[0mcond\u001b[0m\u001b[0;34m(\u001b[0m\u001b[0mis_empty\u001b[0m\u001b[0;34m,\u001b[0m \u001b[0mwhen_empty\u001b[0m\u001b[0;34m,\u001b[0m \u001b[0mwhen_nonempty\u001b[0m\u001b[0;34m)\u001b[0m\u001b[0;34m\u001b[0m\u001b[0;34m\u001b[0m\u001b[0m\n\u001b[0m\u001b[1;32m    242\u001b[0m \u001b[0;34m\u001b[0m\u001b[0m\n\u001b[1;32m    243\u001b[0m \u001b[0;34m\u001b[0m\u001b[0m\n",
      "\u001b[0;32m~/.local/lib/python3.6/site-packages/tensorflow/python/util/dispatch.py\u001b[0m in \u001b[0;36mwrapper\u001b[0;34m(*args, **kwargs)\u001b[0m\n\u001b[1;32m    204\u001b[0m     \u001b[0;34m\"\"\"Call target, and fall back on dispatchers if there is a TypeError.\"\"\"\u001b[0m\u001b[0;34m\u001b[0m\u001b[0;34m\u001b[0m\u001b[0m\n\u001b[1;32m    205\u001b[0m     \u001b[0;32mtry\u001b[0m\u001b[0;34m:\u001b[0m\u001b[0;34m\u001b[0m\u001b[0;34m\u001b[0m\u001b[0m\n\u001b[0;32m--> 206\u001b[0;31m       \u001b[0;32mreturn\u001b[0m \u001b[0mtarget\u001b[0m\u001b[0;34m(\u001b[0m\u001b[0;34m*\u001b[0m\u001b[0margs\u001b[0m\u001b[0;34m,\u001b[0m \u001b[0;34m**\u001b[0m\u001b[0mkwargs\u001b[0m\u001b[0;34m)\u001b[0m\u001b[0;34m\u001b[0m\u001b[0;34m\u001b[0m\u001b[0m\n\u001b[0m\u001b[1;32m    207\u001b[0m     \u001b[0;32mexcept\u001b[0m \u001b[0;34m(\u001b[0m\u001b[0mTypeError\u001b[0m\u001b[0;34m,\u001b[0m \u001b[0mValueError\u001b[0m\u001b[0;34m)\u001b[0m\u001b[0;34m:\u001b[0m\u001b[0;34m\u001b[0m\u001b[0;34m\u001b[0m\u001b[0m\n\u001b[1;32m    208\u001b[0m       \u001b[0;31m# Note: convert_to_eager_tensor currently raises a ValueError, not a\u001b[0m\u001b[0;34m\u001b[0m\u001b[0;34m\u001b[0m\u001b[0;34m\u001b[0m\u001b[0m\n",
      "\u001b[0;32m~/.local/lib/python3.6/site-packages/tensorflow/python/ops/control_flow_ops.py\u001b[0m in \u001b[0;36mcond_for_tf_v2\u001b[0;34m(pred, true_fn, false_fn, name)\u001b[0m\n\u001b[1;32m   1436\u001b[0m \u001b[0;34m\u001b[0m\u001b[0m\n\u001b[1;32m   1437\u001b[0m   \"\"\"\n\u001b[0;32m-> 1438\u001b[0;31m   \u001b[0;32mreturn\u001b[0m \u001b[0mcond\u001b[0m\u001b[0;34m(\u001b[0m\u001b[0mpred\u001b[0m\u001b[0;34m,\u001b[0m \u001b[0mtrue_fn\u001b[0m\u001b[0;34m=\u001b[0m\u001b[0mtrue_fn\u001b[0m\u001b[0;34m,\u001b[0m \u001b[0mfalse_fn\u001b[0m\u001b[0;34m=\u001b[0m\u001b[0mfalse_fn\u001b[0m\u001b[0;34m,\u001b[0m \u001b[0mstrict\u001b[0m\u001b[0;34m=\u001b[0m\u001b[0;32mTrue\u001b[0m\u001b[0;34m,\u001b[0m \u001b[0mname\u001b[0m\u001b[0;34m=\u001b[0m\u001b[0mname\u001b[0m\u001b[0;34m)\u001b[0m\u001b[0;34m\u001b[0m\u001b[0;34m\u001b[0m\u001b[0m\n\u001b[0m\u001b[1;32m   1439\u001b[0m \u001b[0;34m\u001b[0m\u001b[0m\n\u001b[1;32m   1440\u001b[0m \u001b[0;34m\u001b[0m\u001b[0m\n",
      "\u001b[0;32m~/.local/lib/python3.6/site-packages/tensorflow/python/util/dispatch.py\u001b[0m in \u001b[0;36mwrapper\u001b[0;34m(*args, **kwargs)\u001b[0m\n\u001b[1;32m    204\u001b[0m     \u001b[0;34m\"\"\"Call target, and fall back on dispatchers if there is a TypeError.\"\"\"\u001b[0m\u001b[0;34m\u001b[0m\u001b[0;34m\u001b[0m\u001b[0m\n\u001b[1;32m    205\u001b[0m     \u001b[0;32mtry\u001b[0m\u001b[0;34m:\u001b[0m\u001b[0;34m\u001b[0m\u001b[0;34m\u001b[0m\u001b[0m\n\u001b[0;32m--> 206\u001b[0;31m       \u001b[0;32mreturn\u001b[0m \u001b[0mtarget\u001b[0m\u001b[0;34m(\u001b[0m\u001b[0;34m*\u001b[0m\u001b[0margs\u001b[0m\u001b[0;34m,\u001b[0m \u001b[0;34m**\u001b[0m\u001b[0mkwargs\u001b[0m\u001b[0;34m)\u001b[0m\u001b[0;34m\u001b[0m\u001b[0;34m\u001b[0m\u001b[0m\n\u001b[0m\u001b[1;32m    207\u001b[0m     \u001b[0;32mexcept\u001b[0m \u001b[0;34m(\u001b[0m\u001b[0mTypeError\u001b[0m\u001b[0;34m,\u001b[0m \u001b[0mValueError\u001b[0m\u001b[0;34m)\u001b[0m\u001b[0;34m:\u001b[0m\u001b[0;34m\u001b[0m\u001b[0;34m\u001b[0m\u001b[0m\n\u001b[1;32m    208\u001b[0m       \u001b[0;31m# Note: convert_to_eager_tensor currently raises a ValueError, not a\u001b[0m\u001b[0;34m\u001b[0m\u001b[0;34m\u001b[0m\u001b[0;34m\u001b[0m\u001b[0m\n",
      "\u001b[0;32m~/.local/lib/python3.6/site-packages/tensorflow/python/util/deprecation.py\u001b[0m in \u001b[0;36mnew_func\u001b[0;34m(*args, **kwargs)\u001b[0m\n\u001b[1;32m    547\u001b[0m                 \u001b[0;34m'in a future version'\u001b[0m \u001b[0;32mif\u001b[0m \u001b[0mdate\u001b[0m \u001b[0;32mis\u001b[0m \u001b[0;32mNone\u001b[0m \u001b[0;32melse\u001b[0m \u001b[0;34m(\u001b[0m\u001b[0;34m'after %s'\u001b[0m \u001b[0;34m%\u001b[0m \u001b[0mdate\u001b[0m\u001b[0;34m)\u001b[0m\u001b[0;34m,\u001b[0m\u001b[0;34m\u001b[0m\u001b[0;34m\u001b[0m\u001b[0m\n\u001b[1;32m    548\u001b[0m                 instructions)\n\u001b[0;32m--> 549\u001b[0;31m       \u001b[0;32mreturn\u001b[0m \u001b[0mfunc\u001b[0m\u001b[0;34m(\u001b[0m\u001b[0;34m*\u001b[0m\u001b[0margs\u001b[0m\u001b[0;34m,\u001b[0m \u001b[0;34m**\u001b[0m\u001b[0mkwargs\u001b[0m\u001b[0;34m)\u001b[0m\u001b[0;34m\u001b[0m\u001b[0;34m\u001b[0m\u001b[0m\n\u001b[0m\u001b[1;32m    550\u001b[0m \u001b[0;34m\u001b[0m\u001b[0m\n\u001b[1;32m    551\u001b[0m     doc = _add_deprecated_arg_notice_to_docstring(\n",
      "\u001b[0;32m~/.local/lib/python3.6/site-packages/tensorflow/python/ops/control_flow_ops.py\u001b[0m in \u001b[0;36mcond\u001b[0;34m(pred, true_fn, false_fn, strict, name, fn1, fn2)\u001b[0m\n\u001b[1;32m   1248\u001b[0m \u001b[0;34m\u001b[0m\u001b[0m\n\u001b[1;32m   1249\u001b[0m   \u001b[0;32mif\u001b[0m \u001b[0mcontext\u001b[0m\u001b[0;34m.\u001b[0m\u001b[0mexecuting_eagerly\u001b[0m\u001b[0;34m(\u001b[0m\u001b[0;34m)\u001b[0m\u001b[0;34m:\u001b[0m\u001b[0;34m\u001b[0m\u001b[0;34m\u001b[0m\u001b[0m\n\u001b[0;32m-> 1250\u001b[0;31m     \u001b[0;32mreturn\u001b[0m \u001b[0m_eager_cond_implementation\u001b[0m\u001b[0;34m(\u001b[0m\u001b[0mpred\u001b[0m\u001b[0;34m,\u001b[0m \u001b[0mtrue_fn\u001b[0m\u001b[0;34m,\u001b[0m \u001b[0mfalse_fn\u001b[0m\u001b[0;34m,\u001b[0m \u001b[0mstrict\u001b[0m\u001b[0;34m,\u001b[0m \u001b[0mname\u001b[0m\u001b[0;34m)\u001b[0m\u001b[0;34m\u001b[0m\u001b[0;34m\u001b[0m\u001b[0m\n\u001b[0m\u001b[1;32m   1251\u001b[0m \u001b[0;34m\u001b[0m\u001b[0m\n\u001b[1;32m   1252\u001b[0m   \u001b[0;31m# Always enable control flow v2 if building a function, regardless of toggle.\u001b[0m\u001b[0;34m\u001b[0m\u001b[0;34m\u001b[0m\u001b[0;34m\u001b[0m\u001b[0m\n",
      "\u001b[0;32m~/.local/lib/python3.6/site-packages/tensorflow/python/ops/control_flow_ops.py\u001b[0m in \u001b[0;36m_eager_cond_implementation\u001b[0;34m(pred, true_fn, false_fn, strict, name)\u001b[0m\n\u001b[1;32m   1139\u001b[0m         \u001b[0mresult\u001b[0m \u001b[0;34m=\u001b[0m \u001b[0mtrue_fn\u001b[0m\u001b[0;34m(\u001b[0m\u001b[0;34m)\u001b[0m\u001b[0;34m\u001b[0m\u001b[0;34m\u001b[0m\u001b[0m\n\u001b[1;32m   1140\u001b[0m       \u001b[0;32melse\u001b[0m\u001b[0;34m:\u001b[0m\u001b[0;34m\u001b[0m\u001b[0;34m\u001b[0m\u001b[0m\n\u001b[0;32m-> 1141\u001b[0;31m         \u001b[0mresult\u001b[0m \u001b[0;34m=\u001b[0m \u001b[0mfalse_fn\u001b[0m\u001b[0;34m(\u001b[0m\u001b[0;34m)\u001b[0m\u001b[0;34m\u001b[0m\u001b[0;34m\u001b[0m\u001b[0m\n\u001b[0m\u001b[1;32m   1142\u001b[0m       \u001b[0;32mif\u001b[0m \u001b[0;32mnot\u001b[0m \u001b[0mstrict\u001b[0m\u001b[0;34m:\u001b[0m\u001b[0;34m\u001b[0m\u001b[0;34m\u001b[0m\u001b[0m\n\u001b[1;32m   1143\u001b[0m         \u001b[0mresult\u001b[0m \u001b[0;34m=\u001b[0m \u001b[0m_UnpackIfSingleton\u001b[0m\u001b[0;34m(\u001b[0m\u001b[0mresult\u001b[0m\u001b[0;34m)\u001b[0m\u001b[0;34m\u001b[0m\u001b[0;34m\u001b[0m\u001b[0m\n",
      "\u001b[0;32m/usr/local/lib/python3.6/dist-packages/tensorboard/plugins/histogram/summary_v2.py\u001b[0m in \u001b[0;36mwhen_nonempty\u001b[0;34m()\u001b[0m\n\u001b[1;32m    237\u001b[0m                 )\n\u001b[1;32m    238\u001b[0m \u001b[0;34m\u001b[0m\u001b[0m\n\u001b[0;32m--> 239\u001b[0;31m             \u001b[0;32mreturn\u001b[0m \u001b[0mtf\u001b[0m\u001b[0;34m.\u001b[0m\u001b[0mcond\u001b[0m\u001b[0;34m(\u001b[0m\u001b[0mis_singular\u001b[0m\u001b[0;34m,\u001b[0m \u001b[0mwhen_singular\u001b[0m\u001b[0;34m,\u001b[0m \u001b[0mwhen_nonsingular\u001b[0m\u001b[0;34m)\u001b[0m\u001b[0;34m\u001b[0m\u001b[0;34m\u001b[0m\u001b[0m\n\u001b[0m\u001b[1;32m    240\u001b[0m \u001b[0;34m\u001b[0m\u001b[0m\n\u001b[1;32m    241\u001b[0m         \u001b[0;32mreturn\u001b[0m \u001b[0mtf\u001b[0m\u001b[0;34m.\u001b[0m\u001b[0mcond\u001b[0m\u001b[0;34m(\u001b[0m\u001b[0mis_empty\u001b[0m\u001b[0;34m,\u001b[0m \u001b[0mwhen_empty\u001b[0m\u001b[0;34m,\u001b[0m \u001b[0mwhen_nonempty\u001b[0m\u001b[0;34m)\u001b[0m\u001b[0;34m\u001b[0m\u001b[0;34m\u001b[0m\u001b[0m\n",
      "\u001b[0;32m~/.local/lib/python3.6/site-packages/tensorflow/python/util/dispatch.py\u001b[0m in \u001b[0;36mwrapper\u001b[0;34m(*args, **kwargs)\u001b[0m\n\u001b[1;32m    204\u001b[0m     \u001b[0;34m\"\"\"Call target, and fall back on dispatchers if there is a TypeError.\"\"\"\u001b[0m\u001b[0;34m\u001b[0m\u001b[0;34m\u001b[0m\u001b[0m\n\u001b[1;32m    205\u001b[0m     \u001b[0;32mtry\u001b[0m\u001b[0;34m:\u001b[0m\u001b[0;34m\u001b[0m\u001b[0;34m\u001b[0m\u001b[0m\n\u001b[0;32m--> 206\u001b[0;31m       \u001b[0;32mreturn\u001b[0m \u001b[0mtarget\u001b[0m\u001b[0;34m(\u001b[0m\u001b[0;34m*\u001b[0m\u001b[0margs\u001b[0m\u001b[0;34m,\u001b[0m \u001b[0;34m**\u001b[0m\u001b[0mkwargs\u001b[0m\u001b[0;34m)\u001b[0m\u001b[0;34m\u001b[0m\u001b[0;34m\u001b[0m\u001b[0m\n\u001b[0m\u001b[1;32m    207\u001b[0m     \u001b[0;32mexcept\u001b[0m \u001b[0;34m(\u001b[0m\u001b[0mTypeError\u001b[0m\u001b[0;34m,\u001b[0m \u001b[0mValueError\u001b[0m\u001b[0;34m)\u001b[0m\u001b[0;34m:\u001b[0m\u001b[0;34m\u001b[0m\u001b[0;34m\u001b[0m\u001b[0m\n\u001b[1;32m    208\u001b[0m       \u001b[0;31m# Note: convert_to_eager_tensor currently raises a ValueError, not a\u001b[0m\u001b[0;34m\u001b[0m\u001b[0;34m\u001b[0m\u001b[0;34m\u001b[0m\u001b[0m\n",
      "\u001b[0;32m~/.local/lib/python3.6/site-packages/tensorflow/python/ops/control_flow_ops.py\u001b[0m in \u001b[0;36mcond_for_tf_v2\u001b[0;34m(pred, true_fn, false_fn, name)\u001b[0m\n\u001b[1;32m   1436\u001b[0m \u001b[0;34m\u001b[0m\u001b[0m\n\u001b[1;32m   1437\u001b[0m   \"\"\"\n\u001b[0;32m-> 1438\u001b[0;31m   \u001b[0;32mreturn\u001b[0m \u001b[0mcond\u001b[0m\u001b[0;34m(\u001b[0m\u001b[0mpred\u001b[0m\u001b[0;34m,\u001b[0m \u001b[0mtrue_fn\u001b[0m\u001b[0;34m=\u001b[0m\u001b[0mtrue_fn\u001b[0m\u001b[0;34m,\u001b[0m \u001b[0mfalse_fn\u001b[0m\u001b[0;34m=\u001b[0m\u001b[0mfalse_fn\u001b[0m\u001b[0;34m,\u001b[0m \u001b[0mstrict\u001b[0m\u001b[0;34m=\u001b[0m\u001b[0;32mTrue\u001b[0m\u001b[0;34m,\u001b[0m \u001b[0mname\u001b[0m\u001b[0;34m=\u001b[0m\u001b[0mname\u001b[0m\u001b[0;34m)\u001b[0m\u001b[0;34m\u001b[0m\u001b[0;34m\u001b[0m\u001b[0m\n\u001b[0m\u001b[1;32m   1439\u001b[0m \u001b[0;34m\u001b[0m\u001b[0m\n\u001b[1;32m   1440\u001b[0m \u001b[0;34m\u001b[0m\u001b[0m\n",
      "\u001b[0;32m~/.local/lib/python3.6/site-packages/tensorflow/python/util/dispatch.py\u001b[0m in \u001b[0;36mwrapper\u001b[0;34m(*args, **kwargs)\u001b[0m\n\u001b[1;32m    204\u001b[0m     \u001b[0;34m\"\"\"Call target, and fall back on dispatchers if there is a TypeError.\"\"\"\u001b[0m\u001b[0;34m\u001b[0m\u001b[0;34m\u001b[0m\u001b[0m\n\u001b[1;32m    205\u001b[0m     \u001b[0;32mtry\u001b[0m\u001b[0;34m:\u001b[0m\u001b[0;34m\u001b[0m\u001b[0;34m\u001b[0m\u001b[0m\n\u001b[0;32m--> 206\u001b[0;31m       \u001b[0;32mreturn\u001b[0m \u001b[0mtarget\u001b[0m\u001b[0;34m(\u001b[0m\u001b[0;34m*\u001b[0m\u001b[0margs\u001b[0m\u001b[0;34m,\u001b[0m \u001b[0;34m**\u001b[0m\u001b[0mkwargs\u001b[0m\u001b[0;34m)\u001b[0m\u001b[0;34m\u001b[0m\u001b[0;34m\u001b[0m\u001b[0m\n\u001b[0m\u001b[1;32m    207\u001b[0m     \u001b[0;32mexcept\u001b[0m \u001b[0;34m(\u001b[0m\u001b[0mTypeError\u001b[0m\u001b[0;34m,\u001b[0m \u001b[0mValueError\u001b[0m\u001b[0;34m)\u001b[0m\u001b[0;34m:\u001b[0m\u001b[0;34m\u001b[0m\u001b[0;34m\u001b[0m\u001b[0m\n\u001b[1;32m    208\u001b[0m       \u001b[0;31m# Note: convert_to_eager_tensor currently raises a ValueError, not a\u001b[0m\u001b[0;34m\u001b[0m\u001b[0;34m\u001b[0m\u001b[0;34m\u001b[0m\u001b[0m\n",
      "\u001b[0;32m~/.local/lib/python3.6/site-packages/tensorflow/python/util/deprecation.py\u001b[0m in \u001b[0;36mnew_func\u001b[0;34m(*args, **kwargs)\u001b[0m\n\u001b[1;32m    547\u001b[0m                 \u001b[0;34m'in a future version'\u001b[0m \u001b[0;32mif\u001b[0m \u001b[0mdate\u001b[0m \u001b[0;32mis\u001b[0m \u001b[0;32mNone\u001b[0m \u001b[0;32melse\u001b[0m \u001b[0;34m(\u001b[0m\u001b[0;34m'after %s'\u001b[0m \u001b[0;34m%\u001b[0m \u001b[0mdate\u001b[0m\u001b[0;34m)\u001b[0m\u001b[0;34m,\u001b[0m\u001b[0;34m\u001b[0m\u001b[0;34m\u001b[0m\u001b[0m\n\u001b[1;32m    548\u001b[0m                 instructions)\n\u001b[0;32m--> 549\u001b[0;31m       \u001b[0;32mreturn\u001b[0m \u001b[0mfunc\u001b[0m\u001b[0;34m(\u001b[0m\u001b[0;34m*\u001b[0m\u001b[0margs\u001b[0m\u001b[0;34m,\u001b[0m \u001b[0;34m**\u001b[0m\u001b[0mkwargs\u001b[0m\u001b[0;34m)\u001b[0m\u001b[0;34m\u001b[0m\u001b[0;34m\u001b[0m\u001b[0m\n\u001b[0m\u001b[1;32m    550\u001b[0m \u001b[0;34m\u001b[0m\u001b[0m\n\u001b[1;32m    551\u001b[0m     doc = _add_deprecated_arg_notice_to_docstring(\n",
      "\u001b[0;32m~/.local/lib/python3.6/site-packages/tensorflow/python/ops/control_flow_ops.py\u001b[0m in \u001b[0;36mcond\u001b[0;34m(pred, true_fn, false_fn, strict, name, fn1, fn2)\u001b[0m\n\u001b[1;32m   1248\u001b[0m \u001b[0;34m\u001b[0m\u001b[0m\n\u001b[1;32m   1249\u001b[0m   \u001b[0;32mif\u001b[0m \u001b[0mcontext\u001b[0m\u001b[0;34m.\u001b[0m\u001b[0mexecuting_eagerly\u001b[0m\u001b[0;34m(\u001b[0m\u001b[0;34m)\u001b[0m\u001b[0;34m:\u001b[0m\u001b[0;34m\u001b[0m\u001b[0;34m\u001b[0m\u001b[0m\n\u001b[0;32m-> 1250\u001b[0;31m     \u001b[0;32mreturn\u001b[0m \u001b[0m_eager_cond_implementation\u001b[0m\u001b[0;34m(\u001b[0m\u001b[0mpred\u001b[0m\u001b[0;34m,\u001b[0m \u001b[0mtrue_fn\u001b[0m\u001b[0;34m,\u001b[0m \u001b[0mfalse_fn\u001b[0m\u001b[0;34m,\u001b[0m \u001b[0mstrict\u001b[0m\u001b[0;34m,\u001b[0m \u001b[0mname\u001b[0m\u001b[0;34m)\u001b[0m\u001b[0;34m\u001b[0m\u001b[0;34m\u001b[0m\u001b[0m\n\u001b[0m\u001b[1;32m   1251\u001b[0m \u001b[0;34m\u001b[0m\u001b[0m\n\u001b[1;32m   1252\u001b[0m   \u001b[0;31m# Always enable control flow v2 if building a function, regardless of toggle.\u001b[0m\u001b[0;34m\u001b[0m\u001b[0;34m\u001b[0m\u001b[0;34m\u001b[0m\u001b[0m\n",
      "\u001b[0;32m~/.local/lib/python3.6/site-packages/tensorflow/python/ops/control_flow_ops.py\u001b[0m in \u001b[0;36m_eager_cond_implementation\u001b[0;34m(pred, true_fn, false_fn, strict, name)\u001b[0m\n\u001b[1;32m   1139\u001b[0m         \u001b[0mresult\u001b[0m \u001b[0;34m=\u001b[0m \u001b[0mtrue_fn\u001b[0m\u001b[0;34m(\u001b[0m\u001b[0;34m)\u001b[0m\u001b[0;34m\u001b[0m\u001b[0;34m\u001b[0m\u001b[0m\n\u001b[1;32m   1140\u001b[0m       \u001b[0;32melse\u001b[0m\u001b[0;34m:\u001b[0m\u001b[0;34m\u001b[0m\u001b[0;34m\u001b[0m\u001b[0m\n\u001b[0;32m-> 1141\u001b[0;31m         \u001b[0mresult\u001b[0m \u001b[0;34m=\u001b[0m \u001b[0mfalse_fn\u001b[0m\u001b[0;34m(\u001b[0m\u001b[0;34m)\u001b[0m\u001b[0;34m\u001b[0m\u001b[0;34m\u001b[0m\u001b[0m\n\u001b[0m\u001b[1;32m   1142\u001b[0m       \u001b[0;32mif\u001b[0m \u001b[0;32mnot\u001b[0m \u001b[0mstrict\u001b[0m\u001b[0;34m:\u001b[0m\u001b[0;34m\u001b[0m\u001b[0;34m\u001b[0m\u001b[0m\n\u001b[1;32m   1143\u001b[0m         \u001b[0mresult\u001b[0m \u001b[0;34m=\u001b[0m \u001b[0m_UnpackIfSingleton\u001b[0m\u001b[0;34m(\u001b[0m\u001b[0mresult\u001b[0m\u001b[0;34m)\u001b[0m\u001b[0;34m\u001b[0m\u001b[0;34m\u001b[0m\u001b[0m\n",
      "\u001b[0;32m/usr/local/lib/python3.6/dist-packages/tensorboard/plugins/histogram/summary_v2.py\u001b[0m in \u001b[0;36mwhen_nonsingular\u001b[0;34m()\u001b[0m\n\u001b[1;32m    211\u001b[0m                 )\n\u001b[1;32m    212\u001b[0m                 \u001b[0mclamped_indices\u001b[0m \u001b[0;34m=\u001b[0m \u001b[0mtf\u001b[0m\u001b[0;34m.\u001b[0m\u001b[0mminimum\u001b[0m\u001b[0;34m(\u001b[0m\u001b[0mbucket_indices\u001b[0m\u001b[0;34m,\u001b[0m \u001b[0mbucket_count\u001b[0m \u001b[0;34m-\u001b[0m \u001b[0;36m1\u001b[0m\u001b[0;34m)\u001b[0m\u001b[0;34m\u001b[0m\u001b[0;34m\u001b[0m\u001b[0m\n\u001b[0;32m--> 213\u001b[0;31m                 \u001b[0mone_hots\u001b[0m \u001b[0;34m=\u001b[0m \u001b[0mtf\u001b[0m\u001b[0;34m.\u001b[0m\u001b[0mone_hot\u001b[0m\u001b[0;34m(\u001b[0m\u001b[0mclamped_indices\u001b[0m\u001b[0;34m,\u001b[0m \u001b[0mdepth\u001b[0m\u001b[0;34m=\u001b[0m\u001b[0mbucket_count\u001b[0m\u001b[0;34m)\u001b[0m\u001b[0;34m\u001b[0m\u001b[0;34m\u001b[0m\u001b[0m\n\u001b[0m\u001b[1;32m    214\u001b[0m                 bucket_counts = tf.cast(\n\u001b[1;32m    215\u001b[0m                     \u001b[0mtf\u001b[0m\u001b[0;34m.\u001b[0m\u001b[0mreduce_sum\u001b[0m\u001b[0;34m(\u001b[0m\u001b[0minput_tensor\u001b[0m\u001b[0;34m=\u001b[0m\u001b[0mone_hots\u001b[0m\u001b[0;34m,\u001b[0m \u001b[0maxis\u001b[0m\u001b[0;34m=\u001b[0m\u001b[0;36m0\u001b[0m\u001b[0;34m)\u001b[0m\u001b[0;34m,\u001b[0m\u001b[0;34m\u001b[0m\u001b[0;34m\u001b[0m\u001b[0m\n",
      "\u001b[0;32m~/.local/lib/python3.6/site-packages/tensorflow/python/util/dispatch.py\u001b[0m in \u001b[0;36mwrapper\u001b[0;34m(*args, **kwargs)\u001b[0m\n\u001b[1;32m    204\u001b[0m     \u001b[0;34m\"\"\"Call target, and fall back on dispatchers if there is a TypeError.\"\"\"\u001b[0m\u001b[0;34m\u001b[0m\u001b[0;34m\u001b[0m\u001b[0m\n\u001b[1;32m    205\u001b[0m     \u001b[0;32mtry\u001b[0m\u001b[0;34m:\u001b[0m\u001b[0;34m\u001b[0m\u001b[0;34m\u001b[0m\u001b[0m\n\u001b[0;32m--> 206\u001b[0;31m       \u001b[0;32mreturn\u001b[0m \u001b[0mtarget\u001b[0m\u001b[0;34m(\u001b[0m\u001b[0;34m*\u001b[0m\u001b[0margs\u001b[0m\u001b[0;34m,\u001b[0m \u001b[0;34m**\u001b[0m\u001b[0mkwargs\u001b[0m\u001b[0;34m)\u001b[0m\u001b[0;34m\u001b[0m\u001b[0;34m\u001b[0m\u001b[0m\n\u001b[0m\u001b[1;32m    207\u001b[0m     \u001b[0;32mexcept\u001b[0m \u001b[0;34m(\u001b[0m\u001b[0mTypeError\u001b[0m\u001b[0;34m,\u001b[0m \u001b[0mValueError\u001b[0m\u001b[0;34m)\u001b[0m\u001b[0;34m:\u001b[0m\u001b[0;34m\u001b[0m\u001b[0;34m\u001b[0m\u001b[0m\n\u001b[1;32m    208\u001b[0m       \u001b[0;31m# Note: convert_to_eager_tensor currently raises a ValueError, not a\u001b[0m\u001b[0;34m\u001b[0m\u001b[0;34m\u001b[0m\u001b[0;34m\u001b[0m\u001b[0m\n",
      "\u001b[0;32m~/.local/lib/python3.6/site-packages/tensorflow/python/ops/array_ops.py\u001b[0m in \u001b[0;36mone_hot\u001b[0;34m(indices, depth, on_value, off_value, axis, dtype, name)\u001b[0m\n\u001b[1;32m   4348\u001b[0m \u001b[0;34m\u001b[0m\u001b[0m\n\u001b[1;32m   4349\u001b[0m     return gen_array_ops.one_hot(indices, depth, on_value, off_value, axis,\n\u001b[0;32m-> 4350\u001b[0;31m                                  name)\n\u001b[0m\u001b[1;32m   4351\u001b[0m \u001b[0;34m\u001b[0m\u001b[0m\n\u001b[1;32m   4352\u001b[0m \u001b[0;34m\u001b[0m\u001b[0m\n",
      "\u001b[0;32m~/.local/lib/python3.6/site-packages/tensorflow/python/ops/gen_array_ops.py\u001b[0m in \u001b[0;36mone_hot\u001b[0;34m(indices, depth, on_value, off_value, axis, name)\u001b[0m\n\u001b[1;32m   6234\u001b[0m       _result = pywrap_tfe.TFE_Py_FastPathExecute(\n\u001b[1;32m   6235\u001b[0m         \u001b[0m_ctx\u001b[0m\u001b[0;34m,\u001b[0m \u001b[0;34m\"OneHot\"\u001b[0m\u001b[0;34m,\u001b[0m \u001b[0mname\u001b[0m\u001b[0;34m,\u001b[0m \u001b[0mindices\u001b[0m\u001b[0;34m,\u001b[0m \u001b[0mdepth\u001b[0m\u001b[0;34m,\u001b[0m \u001b[0mon_value\u001b[0m\u001b[0;34m,\u001b[0m \u001b[0moff_value\u001b[0m\u001b[0;34m,\u001b[0m \u001b[0;34m\"axis\"\u001b[0m\u001b[0;34m,\u001b[0m\u001b[0;34m\u001b[0m\u001b[0;34m\u001b[0m\u001b[0m\n\u001b[0;32m-> 6236\u001b[0;31m         axis)\n\u001b[0m\u001b[1;32m   6237\u001b[0m       \u001b[0;32mreturn\u001b[0m \u001b[0m_result\u001b[0m\u001b[0;34m\u001b[0m\u001b[0;34m\u001b[0m\u001b[0m\n\u001b[1;32m   6238\u001b[0m     \u001b[0;32mexcept\u001b[0m \u001b[0m_core\u001b[0m\u001b[0;34m.\u001b[0m\u001b[0m_NotOkStatusException\u001b[0m \u001b[0;32mas\u001b[0m \u001b[0me\u001b[0m\u001b[0;34m:\u001b[0m\u001b[0;34m\u001b[0m\u001b[0;34m\u001b[0m\u001b[0m\n",
      "\u001b[0;31mKeyboardInterrupt\u001b[0m: "
     ]
    }
   ],
   "source": [
    "hist = model.fit(train, epochs=1000, validation_data=test, callbacks=[tensorboard_callback, checkpoint_callback])"
   ]
  },
  {
   "cell_type": "code",
   "execution_count": 51,
   "metadata": {
    "jupyter": {
     "source_hidden": true
    },
    "tags": []
   },
   "outputs": [
    {
     "ename": "NameError",
     "evalue": "name 'hist' is not defined",
     "output_type": "error",
     "traceback": [
      "\u001b[0;31m---------------------------------------------------------------------------\u001b[0m",
      "\u001b[0;31mNameError\u001b[0m                                 Traceback (most recent call last)",
      "\u001b[0;32m<ipython-input-51-a7b4009104f8>\u001b[0m in \u001b[0;36m<module>\u001b[0;34m\u001b[0m\n\u001b[1;32m      1\u001b[0m \u001b[0mplt\u001b[0m\u001b[0;34m.\u001b[0m\u001b[0mtitle\u001b[0m\u001b[0;34m(\u001b[0m\u001b[0;34m'Loss'\u001b[0m\u001b[0;34m)\u001b[0m\u001b[0;34m\u001b[0m\u001b[0;34m\u001b[0m\u001b[0m\n\u001b[0;32m----> 2\u001b[0;31m \u001b[0mplt\u001b[0m\u001b[0;34m.\u001b[0m\u001b[0mplot\u001b[0m\u001b[0;34m(\u001b[0m\u001b[0mhist\u001b[0m\u001b[0;34m.\u001b[0m\u001b[0mhistory\u001b[0m\u001b[0;34m[\u001b[0m\u001b[0;34m'loss'\u001b[0m\u001b[0;34m]\u001b[0m\u001b[0;34m,\u001b[0m \u001b[0;34m'r'\u001b[0m\u001b[0;34m)\u001b[0m\u001b[0;34m\u001b[0m\u001b[0;34m\u001b[0m\u001b[0m\n\u001b[0m\u001b[1;32m      3\u001b[0m \u001b[0mplt\u001b[0m\u001b[0;34m.\u001b[0m\u001b[0mplot\u001b[0m\u001b[0;34m(\u001b[0m\u001b[0mhist\u001b[0m\u001b[0;34m.\u001b[0m\u001b[0mhistory\u001b[0m\u001b[0;34m[\u001b[0m\u001b[0;34m'val_loss'\u001b[0m\u001b[0;34m]\u001b[0m\u001b[0;34m,\u001b[0m \u001b[0;34m'b'\u001b[0m\u001b[0;34m)\u001b[0m\u001b[0;34m\u001b[0m\u001b[0;34m\u001b[0m\u001b[0m\n\u001b[1;32m      4\u001b[0m \u001b[0mplt\u001b[0m\u001b[0;34m.\u001b[0m\u001b[0mshow\u001b[0m\u001b[0;34m(\u001b[0m\u001b[0;34m)\u001b[0m\u001b[0;34m\u001b[0m\u001b[0;34m\u001b[0m\u001b[0m\n",
      "\u001b[0;31mNameError\u001b[0m: name 'hist' is not defined"
     ]
    },
    {
     "data": {
      "image/png": "[encoded data removed]",
      "text/plain": [
       "<Figure size 432x288 with 1 Axes>"
      ]
     },
     "metadata": {
      "needs_background": "light"
     },
     "output_type": "display_data"
    }
   ],
   "source": [
    "plt.title('Loss')\n",
    "plt.plot(hist.history['loss'], 'r')\n",
    "plt.plot(hist.history['val_loss'], 'b')\n",
    "plt.show()"
   ]
  },
  {
   "cell_type": "code",
   "execution_count": 75,
   "metadata": {
    "jupyter": {
     "source_hidden": true
    },
    "scrolled": true,
    "tags": []
   },
   "outputs": [
    {
     "data": {
      "image/png": "[encoded data removed]",
      "text/plain": [
       "<Figure size 640x480 with 1 Axes>"
      ]
     },
     "metadata": {},
     "output_type": "display_data"
    }
   ],
   "source": [
    "plt.title('Precision')\n",
    "plt.plot(hist.history['precision'], 'r')\n",
    "plt.plot(hist.history['val_precision'], 'b')\n",
    "plt.show()"
   ]
  },
  {
   "cell_type": "code",
   "execution_count": 76,
   "metadata": {
    "jupyter": {
     "source_hidden": true
    },
    "scrolled": true,
    "tags": []
   },
   "outputs": [
    {
     "data": {
      "image/png": "[encoded data removed]",
      "text/plain": [
       "<Figure size 640x480 with 1 Axes>"
      ]
     },
     "metadata": {},
     "output_type": "display_data"
    }
   ],
   "source": [
    "plt.title('Recall')\n",
    "plt.plot(hist.history['recall'], 'r')\n",
    "plt.plot(hist.history['val_recall'], 'b')\n",
    "plt.show()"
   ]
  },
  {
   "cell_type": "markdown",
   "metadata": {},
   "source": [
    "## 7.4 Display Tensorflow Stats"
   ]
  },
  {
   "cell_type": "code",
   "execution_count": 52,
   "metadata": {
    "scrolled": true
   },
   "outputs": [],
   "source": [
    "%load_ext tensorboard"
   ]
  },
  {
   "cell_type": "code",
   "execution_count": 53,
   "metadata": {},
   "outputs": [
    {
     "data": {
      "text/html": [
       "\n",
       "      <iframe id=\"tensorboard-frame-8cc80e0913b55a0b\" width=\"100%\" height=\"800\" frameborder=\"0\">\n",
       "      </iframe>\n",
       "      <script>\n",
       "        (function() {\n",
       "          const frame = document.getElementById(\"tensorboard-frame-8cc80e0913b55a0b\");\n",
       "          const url = new URL(\"/\", window.location);\n",
       "          const port = 6006;\n",
       "          if (port) {\n",
       "            url.port = port;\n",
       "          }\n",
       "          frame.src = url;\n",
       "        })();\n",
       "      </script>\n",
       "    "
      ],
      "text/plain": [
       "<IPython.core.display.HTML object>"
      ]
     },
     "metadata": {},
     "output_type": "display_data"
    }
   ],
   "source": [
    "%tensorboard --logdir logs/gradient_tape"
   ]
  },
  {
   "cell_type": "markdown",
   "metadata": {},
   "source": [
    "# 8. Make a Prediction on a Single Clip"
   ]
  },
  {
   "cell_type": "markdown",
   "metadata": {},
   "source": [
    "## 8.1 Get One Batch and Make a Prediction"
   ]
  },
  {
   "cell_type": "code",
   "execution_count": 79,
   "metadata": {
    "jupyter": {
     "source_hidden": true
    },
    "tags": []
   },
   "outputs": [],
   "source": [
    "X_test, y_test = test.as_numpy_iterator().next()"
   ]
  },
  {
   "cell_type": "code",
   "execution_count": 81,
   "metadata": {
    "jupyter": {
     "source_hidden": true
    },
    "scrolled": true,
    "tags": []
   },
   "outputs": [
    {
     "name": "stdout",
     "output_type": "stream",
     "text": [
      "1/1 [==============================] - 0s 72ms/step\n"
     ]
    }
   ],
   "source": [
    "yhat = model.predict(X_test)"
   ]
  },
  {
   "cell_type": "markdown",
   "metadata": {},
   "source": [
    "## 8.2 Convert Logits to Classes "
   ]
  },
  {
   "cell_type": "code",
   "execution_count": 82,
   "metadata": {
    "jupyter": {
     "source_hidden": true
    },
    "tags": []
   },
   "outputs": [],
   "source": [
    "yhat = [1 if prediction > 0.95 else 0 for prediction in yhat]"
   ]
  },
  {
   "cell_type": "markdown",
   "metadata": {
    "tags": []
   },
   "source": [
    "# 9. Build Podcast Parsing Functions"
   ]
  },
  {
   "cell_type": "markdown",
   "metadata": {},
   "source": [
    "## 9.1 Load up MP3s"
   ]
  },
  {
   "cell_type": "code",
   "execution_count": 512,
   "metadata": {
    "jupyter": {
     "source_hidden": true
    }
   },
   "outputs": [],
   "source": [
    "def load_mp3_mono(filename):\n",
    "    \"\"\" Load a WAV file, convert it to a float tensor, resample to 16 kHz single-channel audio. \"\"\"\n",
    "    res = tfio.audio.AudioIOTensor(filename)\n",
    "    # Convert to tensor and combine channels \n",
    "    tensor = res.to_tensor()\n",
    "    tensor = tf.math.reduce_sum(tensor, axis=1) / 2 \n",
    "    # Extract sample rate and cast\n",
    "    sample_rate = res.rate\n",
    "    sample_rate = tf.cast(sample_rate, dtype=tf.int64)\n",
    "    # Resample to 16 kHz\n",
    "    #wav = tfio.audio.resample(tensor, rate_in=sample_rate, rate_out=16000)\n",
    "    return wav"
   ]
  },
  {
   "cell_type": "code",
   "execution_count": 513,
   "metadata": {
    "jupyter": {
     "source_hidden": true
    }
   },
   "outputs": [],
   "source": [
    "mp3 = os.path.join('data', 'podcasts', 'How to find.mp3')"
   ]
  },
  {
   "cell_type": "code",
   "execution_count": 514,
   "metadata": {
    "jupyter": {
     "source_hidden": true
    },
    "tags": []
   },
   "outputs": [],
   "source": [
    "wav = load_mp3_mono(mp3)"
   ]
  },
  {
   "cell_type": "code",
   "execution_count": 534,
   "metadata": {
    "jupyter": {
     "source_hidden": true
    }
   },
   "outputs": [],
   "source": [
    "audio_slices = tf.keras.utils.timeseries_dataset_from_array(wav, wav, sequence_length=5562, sequence_stride=5562, batch_size=1)"
   ]
  },
  {
   "cell_type": "code",
   "execution_count": 535,
   "metadata": {
    "jupyter": {
     "source_hidden": true
    }
   },
   "outputs": [],
   "source": [
    "samples, index = audio_slices.as_numpy_iterator().next()"
   ]
  },
  {
   "cell_type": "markdown",
   "metadata": {},
   "source": [
    "## 9.2 Build Function to Convert Clips into Windowed Spectrograms"
   ]
  },
  {
   "cell_type": "code",
   "execution_count": 536,
   "metadata": {
    "jupyter": {
     "source_hidden": true
    }
   },
   "outputs": [],
   "source": [
    "def preprocess_mp3(sample, index):\n",
    "    sample = sample[0]\n",
    "    zero_padding = tf.zeros([BREATH_LENGTH] - tf.shape(sample), dtype=tf.float32)\n",
    "    wav = tf.concat([zero_padding, sample],0)\n",
    "    spectrogram = tf.signal.stft(wav, frame_length=320, frame_step=32)\n",
    "    spectrogram = tf.abs(spectrogram)\n",
    "    spectrogram = tf.expand_dims(spectrogram, axis=2)\n",
    "    return spectrogram"
   ]
  },
  {
   "cell_type": "code",
   "execution_count": 495,
   "metadata": {},
   "outputs": [],
   "source": [
    "def mel_preprocess_mp3(sample, index): \n",
    "    sample = sample[0]\n",
    "    zero_padding = tf.zeros([BREATH_LENGTH] - tf.shape(sample), dtype=tf.float32)\n",
    "    wav = tf.concat([zero_padding, sample],0)\n",
    "    spectrogram = librosa.stft(sample)\n",
    "    sgram_mag, _ = librosa.magphase(spectrogram)\n",
    "    mel_scale_sgram = librosa.feature.melspectrogram(S=sgram_mag, sr=SAMPLE_RATE)\n",
    "    # Make mel spectrogram more readable\n",
    "    mel_sgram = librosa.amplitude_to_db(mel_scale_sgram)\n",
    "    # Increase spectrogram dimensions\n",
    "    #librosa.util.expand_to(mel_sgram, ndim=4, axes=[1,2])\n",
    "    return mel_sgram"
   ]
  },
  {
   "cell_type": "markdown",
   "metadata": {},
   "source": [
    "## 9.3 Convert Longer Clips into Windows and Make Predictions"
   ]
  },
  {
   "cell_type": "code",
   "execution_count": 538,
   "metadata": {
    "jupyter": {
     "source_hidden": true
    }
   },
   "outputs": [],
   "source": [
    "audio_slices = tf.keras.utils.timeseries_dataset_from_array(wav, wav, sequence_length=5562, sequence_stride=5562, batch_size=1)\n",
    "audio_slices = audio_slices.map(preprocess_mp3)\n",
    "audio_slices = audio_slices.batch(64)"
   ]
  },
  {
   "cell_type": "code",
   "execution_count": 511,
   "metadata": {},
   "outputs": [],
   "source": [
    "myModel = tf.keras.models.load_model(os.path.join(\"output_model_checkpoints\"))"
   ]
  },
  {
   "cell_type": "code",
   "execution_count": 539,
   "metadata": {
    "jupyter": {
     "source_hidden": true
    },
    "scrolled": true
   },
   "outputs": [
    {
     "data": {
      "text/plain": [
       "[0, 0, 0, 1, 1]"
      ]
     },
     "execution_count": 539,
     "metadata": {},
     "output_type": "execute_result"
    }
   ],
   "source": [
    "yhat = myModel.predict(audio_slices)\n",
    "yhat = [1 if prediction > 0.95 else 0 for prediction in yhat]\n",
    "yhat"
   ]
  },
  {
   "cell_type": "markdown",
   "metadata": {},
   "source": [
    "## 9.4 Group Consecutive Detections"
   ]
  },
  {
   "cell_type": "code",
   "execution_count": 506,
   "metadata": {
    "jupyter": {
     "source_hidden": true
    }
   },
   "outputs": [],
   "source": [
    "from itertools import groupby"
   ]
  },
  {
   "cell_type": "code",
   "execution_count": 541,
   "metadata": {
    "jupyter": {
     "source_hidden": true
    }
   },
   "outputs": [],
   "source": [
    "yhat = [key for key, group in groupby(yhat)]\n",
    "breaths = tf.math.reduce_sum(yhat).numpy()"
   ]
  },
  {
   "cell_type": "code",
   "execution_count": 542,
   "metadata": {
    "jupyter": {
     "source_hidden": true
    }
   },
   "outputs": [
    {
     "data": {
      "text/plain": [
       "1"
      ]
     },
     "execution_count": 542,
     "metadata": {},
     "output_type": "execute_result"
    }
   ],
   "source": [
    "breaths"
   ]
  },
  {
   "cell_type": "markdown",
   "metadata": {},
   "source": [
    "# 10. Make Predictions"
   ]
  },
  {
   "cell_type": "markdown",
   "metadata": {},
   "source": [
    "## 10.1 Loop over all recordings and make predictions"
   ]
  },
  {
   "cell_type": "code",
   "execution_count": 543,
   "metadata": {
    "jupyter": {
     "source_hidden": true
    }
   },
   "outputs": [],
   "source": [
    "results = {}\n",
    "for file in os.listdir(os.path.join('data', 'podcasts')):\n",
    "    FILEPATH = os.path.join('data','podcasts', file)\n",
    "    \n",
    "    wav = load_mp3_mono(FILEPATH)\n",
    "    audio_slices = tf.keras.utils.timeseries_dataset_from_array(wav, wav, sequence_length=5562, sequence_stride=5562, batch_size=1)\n",
    "    audio_slices = audio_slices.map(preprocess_mp3)\n",
    "    audio_slices = audio_slices.batch(64)\n",
    "    \n",
    "    yhat = myModel.predict(audio_slices)\n",
    "    \n",
    "    results[file] = yhat"
   ]
  },
  {
   "cell_type": "code",
   "execution_count": 98,
   "metadata": {
    "jupyter": {
     "source_hidden": true
    },
    "scrolled": true,
    "tags": []
   },
   "outputs": [
    {
     "data": {
      "text/plain": [
       "{'Create your own holiday.mp3': array([[0.9925349 ],\n",
       "        [0.        ],\n",
       "        [0.        ],\n",
       "        ...,\n",
       "        [0.        ],\n",
       "        [0.        ],\n",
       "        [0.99260396]], dtype=float32),\n",
       " 'Favorites.mp3': array([[9.916103e-01],\n",
       "        [0.000000e+00],\n",
       "        [0.000000e+00],\n",
       "        ...,\n",
       "        [0.000000e+00],\n",
       "        [0.000000e+00],\n",
       "        [7.322384e-23]], dtype=float32),\n",
       " 'How to find.mp3': array([[7.3219691e-22],\n",
       "        [0.0000000e+00],\n",
       "        [0.0000000e+00],\n",
       "        ...,\n",
       "        [4.3977255e-21],\n",
       "        [2.5783234e-12],\n",
       "        [9.9088752e-01]], dtype=float32),\n",
       " 'SLEEP SCIENCE TRIMMED.mp3': array([[0.],\n",
       "        [0.],\n",
       "        [0.],\n",
       "        ...,\n",
       "        [0.],\n",
       "        [0.],\n",
       "        [0.]], dtype=float32)}"
      ]
     },
     "execution_count": 98,
     "metadata": {},
     "output_type": "execute_result"
    }
   ],
   "source": [
    "results"
   ]
  },
  {
   "cell_type": "markdown",
   "metadata": {},
   "source": [
    "## 10.2 Convert Predictions into Classes"
   ]
  },
  {
   "cell_type": "code",
   "execution_count": 544,
   "metadata": {
    "jupyter": {
     "source_hidden": true
    },
    "scrolled": true,
    "tags": []
   },
   "outputs": [
    {
     "data": {
      "text/plain": [
       "{'How to find.mp3': [0, 0, 0, 1, 1],\n",
       " 'Favorites.mp3': [0, 0, 0, 1, 1],\n",
       " 'SLEEP SCIENCE TRIMMED.mp3': [0, 0, 0, 1, 1],\n",
       " 'Create your own holiday.mp3': [0, 0, 0, 1, 1]}"
      ]
     },
     "execution_count": 544,
     "metadata": {},
     "output_type": "execute_result"
    }
   ],
   "source": [
    "class_preds = {}\n",
    "for file, logits in results.items():\n",
    "    class_preds[file] = [1 if prediction > 0.95 else 0 for prediction in logits]\n",
    "class_preds"
   ]
  },
  {
   "cell_type": "markdown",
   "metadata": {},
   "source": [
    "## 10.3 Group Consecutive Detections"
   ]
  },
  {
   "cell_type": "code",
   "execution_count": 545,
   "metadata": {
    "jupyter": {
     "source_hidden": true
    },
    "scrolled": true,
    "tags": []
   },
   "outputs": [
    {
     "data": {
      "text/plain": [
       "{'How to find.mp3': 1,\n",
       " 'Favorites.mp3': 1,\n",
       " 'SLEEP SCIENCE TRIMMED.mp3': 1,\n",
       " 'Create your own holiday.mp3': 1}"
      ]
     },
     "execution_count": 545,
     "metadata": {},
     "output_type": "execute_result"
    }
   ],
   "source": [
    "postprocessed = {}\n",
    "for file, scores in class_preds.items():\n",
    "    postprocessed[file] = tf.math.reduce_sum([key for key, group in groupby(scores)]).numpy()\n",
    "postprocessed"
   ]
  },
  {
   "cell_type": "markdown",
   "metadata": {},
   "source": [
    "# 11. Export Model and Results"
   ]
  },
  {
   "cell_type": "code",
   "execution_count": 80,
   "metadata": {
    "jupyter": {
     "source_hidden": true
    }
   },
   "outputs": [],
   "source": [
    "import csv"
   ]
  },
  {
   "cell_type": "code",
   "execution_count": 81,
   "metadata": {
    "jupyter": {
     "source_hidden": true
    },
    "tags": []
   },
   "outputs": [],
   "source": [
    "with open('results.csv', 'w', newline='') as f:\n",
    "    writer = csv.writer(f, delimiter=',')\n",
    "    writer.writerow(['recording', 'no_breaths'])\n",
    "    for key, value in postprocessed.items():\n",
    "        writer.writerow([key, value])"
   ]
  },
  {
   "cell_type": "code",
   "execution_count": 93,
   "metadata": {},
   "outputs": [
    {
     "name": "stderr",
     "output_type": "stream",
     "text": [
      "WARNING:absl:Found untraced functions such as _jit_compiled_convolution_op, _jit_compiled_convolution_op while saving (showing 2 of 2). These functions will not be directly callable after loading.\n"
     ]
    },
    {
     "name": "stdout",
     "output_type": "stream",
     "text": [
      "INFO:tensorflow:Assets written to: myModel.model\\assets\n"
     ]
    },
    {
     "name": "stderr",
     "output_type": "stream",
     "text": [
      "INFO:tensorflow:Assets written to: myModel.model\\assets\n"
     ]
    }
   ],
   "source": [
    "model.save('myModel')"
   ]
  }
 ],
 "metadata": {
  "kernelspec": {
   "display_name": "Python 3",
   "language": "python",
   "name": "python3"
  },
  "language_info": {
   "codemirror_mode": {
    "name": "ipython",
    "version": 3
   },
   "file_extension": ".py",
   "mimetype": "text/x-python",
   "name": "python",
   "nbconvert_exporter": "python",
   "pygments_lexer": "ipython3",
   "version": "3.6.9"
  }
 },
 "nbformat": 4,
 "nbformat_minor": 4
}
